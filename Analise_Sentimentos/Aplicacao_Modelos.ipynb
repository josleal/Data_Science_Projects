{
 "cells": [
  {
   "cell_type": "markdown",
   "id": "a0fcd5d6",
   "metadata": {},
   "source": [
    "### PREVISÃO COM NOVOS DADOS \n",
    "\n",
    "#### APLICAÇÃO DOS MODELOS XGBOOST E NAYVE BAYES QUE OBTIVERAM OS MELHORES DESEMPENHOS. PARA UTILIZÁ-LOS BASTA EXECUTAR O SCRIPT E INSERIR SEU COMENTÁRIO QUANDO SOLICITADO."
   ]
  },
  {
   "cell_type": "code",
   "execution_count": null,
   "id": "5e2ca3f7",
   "metadata": {},
   "outputs": [],
   "source": [
    "import warnings\n",
    "warnings.filterwarnings('ignore')"
   ]
  },
  {
   "cell_type": "code",
   "execution_count": null,
   "id": "5215fc20",
   "metadata": {},
   "outputs": [],
   "source": [
    "import Funcoes as fc\n",
    "from joblib import dump, load"
   ]
  },
  {
   "cell_type": "markdown",
   "id": "68f017c3",
   "metadata": {},
   "source": [
    "### PROCESSO PARA PREDIÇÃO COM NOVOS DADOS COUNT VECTORIZER - BINÁRIO"
   ]
  },
  {
   "cell_type": "code",
   "execution_count": null,
   "id": "39881459",
   "metadata": {},
   "outputs": [],
   "source": [
    "# INPUT TEXTO\n",
    "texto = input(\"INSIRA O COMENTÁRIO E CONFIRME COM ENTER\\n\\nCOMENTÁRIO: \")\n",
    "\n",
    "# FUNÇÕES DE PRÉ-PROCESSAMENTO\n",
    "texto =  fc.RemoveCaracter(texto)\n",
    "\n",
    "texto =  fc.Correcao1(texto)               \n",
    "texto =  fc.Correcao2(texto)              \n",
    "texto =  fc.RemoveLetras(texto)         \n",
    "texto =  fc.RemoveStopwords(texto)         \n",
    "texto =  fc.Lematizacao(texto)            \n",
    "\n",
    "count_vectorizer = load('count_vectorizer.pkl') \n",
    "texto = count_vectorizer.transform([texto])\n",
    "\n",
    "# PREDIÇÃO\n",
    "# CARREGAR MODELO\n",
    "modelo = load('xgbCV.pkl') # MODELO COUNT VECTORIZER ESCOLHIDO \n",
    "previsao = modelo.predict(texto)\n",
    "if previsao[0] == 1:\n",
    "    previsao = \"negativo\"\n",
    "    print(f\"\\nRESULTADO:\\nSentimento {previsao.upper()}\")\n",
    "elif previsao[0] == 0:\n",
    "    previsao = \"positivo\"\n",
    "    print(f\"\\nRESULTADO:\\nSentimento {previsao.upper()}\")\n",
    "else:\n",
    "    print(f\"\\nRESULTADO:\\nSentimento {previsao[0][0:].lower()}\")"
   ]
  },
  {
   "cell_type": "markdown",
   "id": "633e079e",
   "metadata": {},
   "source": [
    "### PROCESSO PARA PREDIÇÃO COM NOVOS DADOS TFIDF - BINÁRIO"
   ]
  },
  {
   "cell_type": "code",
   "execution_count": null,
   "id": "501c18f0",
   "metadata": {},
   "outputs": [],
   "source": [
    "# INPUT TEXTO\n",
    "texto = input(\"INSIRA O COMENTÁRIO E CONFIRME COM ENTER\\n\\nCOMENTÁRIO: \")\n",
    "\n",
    "# FUNÇÕES DE PRÉ-PROCESSAMENTO\n",
    "texto =  fc.RemoveCaracter(texto)\n",
    "texto =  fc.Correcao1(texto)               \n",
    "texto =  fc.Correcao2(texto)              \n",
    "texto =  fc.RemoveLetras(texto)         \n",
    "texto =  fc.RemoveStopwords(texto)         \n",
    "texto =  fc.Lematizacao(texto)            \n",
    "\n",
    "count_vectorizer = load('count_vectorizer.pkl')\n",
    "texto = count_vectorizer.transform([texto])\n",
    "\n",
    "tfidf_vectorizer = load('tfidf_vectorizer.pkl')\n",
    "texto = tfidf_vectorizer.transform(texto)\n",
    "\n",
    "# PREDIÇÃO\n",
    "# CARREGAR MODELO\n",
    "modelo = load(\"xgbTFIDF.pkl\") # MODELO TFIDF ESCOLHIDO \n",
    "previsao = modelo.predict(texto)\n",
    "if previsao[0] == 1:\n",
    "    previsao = \"negativo\"\n",
    "    print(f\"\\nRESULTADO:\\nSentimento {previsao.upper()}\")\n",
    "elif previsao[0] == 0:\n",
    "    previsao = \"positivo\"\n",
    "    print(f\"\\nRESULTADO:\\nSentimento {previsao.upper()}\")\n",
    "else:\n",
    "    print(f\"\\nRESULTADO:\\nSentimento {previsao[0][0:].lower()}\")"
   ]
  }
 ],
 "metadata": {
  "kernelspec": {
   "display_name": "Python 3 (ipykernel)",
   "language": "python",
   "name": "python3"
  },
  "language_info": {
   "codemirror_mode": {
    "name": "ipython",
    "version": 3
   },
   "file_extension": ".py",
   "mimetype": "text/x-python",
   "name": "python",
   "nbconvert_exporter": "python",
   "pygments_lexer": "ipython3",
   "version": "3.9.13"
  }
 },
 "nbformat": 4,
 "nbformat_minor": 5
}
