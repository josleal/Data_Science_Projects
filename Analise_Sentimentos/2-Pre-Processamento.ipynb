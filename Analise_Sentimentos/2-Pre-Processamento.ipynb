{
 "cells": [
  {
   "cell_type": "markdown",
   "id": "c1034999",
   "metadata": {},
   "source": [
    "### 2 - PRÉ-PROCESSAMENTO - BALANCEAMENTO DE CLASSES"
   ]
  },
  {
   "cell_type": "code",
   "execution_count": 1,
   "id": "f3cf08c0",
   "metadata": {},
   "outputs": [],
   "source": [
    "# CARREGAR BIBLIOTECAS\n",
    "import pandas as pd\n",
    "import matplotlib.pyplot as plt\n",
    "import numpy as np"
   ]
  },
  {
   "cell_type": "code",
   "execution_count": 2,
   "id": "5cd8c36d",
   "metadata": {},
   "outputs": [],
   "source": [
    "# CARREGAR DADOS\n",
    "df_reviews = pd.read_csv('dados_reviews.csv')"
   ]
  },
  {
   "cell_type": "code",
   "execution_count": 3,
   "id": "246d238c",
   "metadata": {},
   "outputs": [
    {
     "data": {
      "text/plain": [
       "True"
      ]
     },
     "execution_count": 3,
     "metadata": {},
     "output_type": "execute_result"
    }
   ],
   "source": [
    "# VERIFICAR VALORES NA\n",
    "df_reviews[['content']].isna().values.any()"
   ]
  },
  {
   "cell_type": "code",
   "execution_count": 4,
   "id": "d20bcd1a",
   "metadata": {},
   "outputs": [
    {
     "name": "stdout",
     "output_type": "stream",
     "text": [
      "Total de registros com comentários: 2300618\n"
     ]
    },
    {
     "data": {
      "text/html": [
       "<div>\n",
       "<style scoped>\n",
       "    .dataframe tbody tr th:only-of-type {\n",
       "        vertical-align: middle;\n",
       "    }\n",
       "\n",
       "    .dataframe tbody tr th {\n",
       "        vertical-align: top;\n",
       "    }\n",
       "\n",
       "    .dataframe thead th {\n",
       "        text-align: right;\n",
       "    }\n",
       "</style>\n",
       "<table border=\"1\" class=\"dataframe\">\n",
       "  <thead>\n",
       "    <tr style=\"text-align: right;\">\n",
       "      <th></th>\n",
       "      <th>score</th>\n",
       "      <th>quantidade</th>\n",
       "    </tr>\n",
       "  </thead>\n",
       "  <tbody>\n",
       "    <tr>\n",
       "      <th>0</th>\n",
       "      <td>1</td>\n",
       "      <td>376787</td>\n",
       "    </tr>\n",
       "    <tr>\n",
       "      <th>1</th>\n",
       "      <td>2</td>\n",
       "      <td>83952</td>\n",
       "    </tr>\n",
       "    <tr>\n",
       "      <th>2</th>\n",
       "      <td>3</td>\n",
       "      <td>106381</td>\n",
       "    </tr>\n",
       "    <tr>\n",
       "      <th>3</th>\n",
       "      <td>4</td>\n",
       "      <td>203569</td>\n",
       "    </tr>\n",
       "    <tr>\n",
       "      <th>4</th>\n",
       "      <td>5</td>\n",
       "      <td>1529929</td>\n",
       "    </tr>\n",
       "  </tbody>\n",
       "</table>\n",
       "</div>"
      ],
      "text/plain": [
       "   score  quantidade\n",
       "0      1      376787\n",
       "1      2       83952\n",
       "2      3      106381\n",
       "3      4      203569\n",
       "4      5     1529929"
      ]
     },
     "execution_count": 4,
     "metadata": {},
     "output_type": "execute_result"
    }
   ],
   "source": [
    "# DADOS PARA GRÁFICO 1 DE QUANTIDADE DE AVALIAÇÕES POR NOTAS\n",
    "dados_g1 = df_reviews[df_reviews['score'] != 0]\n",
    "dados_g1 = dados_g1.dropna(subset = ['content']).reset_index(drop = True)\n",
    "print(\"Total de registros com comentários:\", len(dados_g1))\n",
    "dados_g1 = dados_g1.groupby(['score']).size()\n",
    "dados_g1 = pd.DataFrame(data = dados_g1, columns = ['quantidade']).reset_index()\n",
    "dados_g1 "
   ]
  },
  {
   "cell_type": "code",
   "execution_count": 5,
   "id": "04a05006",
   "metadata": {},
   "outputs": [
    {
     "data": {
      "image/png": "[encoded data removed]",
      "text/plain": [
       "<Figure size 700x500 with 1 Axes>"
      ]
     },
     "metadata": {},
     "output_type": "display_data"
    }
   ],
   "source": [
    "# GRÁFICO 1 - QUANTIDADE DE AVALIAÇÕES POR NOTAS\n",
    "figura, axes = plt.subplots(figsize = (7, 5))\n",
    "\n",
    "notas = dados_g1['score']\n",
    "quantidade = dados_g1['quantidade']\n",
    "\n",
    "cor_barras = ['tomato','orange', 'peru', 'royalblue', 'limegreen']\n",
    "\n",
    "grafico1 = axes.bar(notas, quantidade, width = 0.8, color = cor_barras)\n",
    "axes.set_xlabel('Notas', fontsize = 12, labelpad = 10)\n",
    "axes.set_ylabel('Quantidade', fontsize = 12, labelpad = 10)\n",
    "#axes.set_title('Quantidade de Avaliações por Notas (1 a 5)')\n",
    "axes.set(ylim = (0, 1900000))\n",
    "axes.bar_label(grafico1, quantidade, size = 10, label_type = \"edge\")\n",
    "#axes.grid(color = 'gray', linestyle = '-', linewidth = 0.5)\n",
    "axes.ticklabel_format(style = 'plain', axis = 'y')\n",
    "plt.savefig('grafico1.png', format ='png', bbox_inches = 'tight')\n",
    "plt.show()"
   ]
  },
  {
   "cell_type": "code",
   "execution_count": 6,
   "id": "f5ca7377",
   "metadata": {},
   "outputs": [],
   "source": [
    "# FUNÇÃO PARA TRANSFORMAÇÃO DAS CLASSES\n",
    "# Score: 1 e 2 como Negativo \n",
    "# Score: 3 como Neutro \n",
    "# Score: 4 e 5 como Positivo \n",
    "    \n",
    "def classe(score):\n",
    "    if score < 3:\n",
    "        return \"negativo\"\n",
    "    elif score == 3:\n",
    "        return \"neutro\"\n",
    "    else:\n",
    "        return \"positivo\""
   ]
  },
  {
   "cell_type": "code",
   "execution_count": 7,
   "id": "af5663aa",
   "metadata": {},
   "outputs": [],
   "source": [
    "# CRIAR COLUNA DE CLASSE COM BASE NO ATRIBUTO SCORE\n",
    "df_reviews['sentimento'] = df_reviews['score'].apply(classe)"
   ]
  },
  {
   "cell_type": "code",
   "execution_count": 8,
   "id": "4b34e2dd",
   "metadata": {},
   "outputs": [
    {
     "data": {
      "text/plain": [
       "sentimento\n",
       "positivo      1733691\n",
       "negativo       460772\n",
       "neutro         106401\n",
       "dtype: int64"
      ]
     },
     "execution_count": 8,
     "metadata": {},
     "output_type": "execute_result"
    }
   ],
   "source": [
    "# CHECAR DISTRIBUIÇÃO DAS CLASSES - TOTAL DE CADA CLASSE\n",
    "df_reviews[['sentimento']].value_counts()"
   ]
  },
  {
   "cell_type": "code",
   "execution_count": 9,
   "id": "3e8c6081",
   "metadata": {},
   "outputs": [
    {
     "data": {
      "text/html": [
       "<div>\n",
       "<style scoped>\n",
       "    .dataframe tbody tr th:only-of-type {\n",
       "        vertical-align: middle;\n",
       "    }\n",
       "\n",
       "    .dataframe tbody tr th {\n",
       "        vertical-align: top;\n",
       "    }\n",
       "\n",
       "    .dataframe thead th {\n",
       "        text-align: right;\n",
       "    }\n",
       "</style>\n",
       "<table border=\"1\" class=\"dataframe\">\n",
       "  <thead>\n",
       "    <tr style=\"text-align: right;\">\n",
       "      <th></th>\n",
       "      <th>sentimento</th>\n",
       "      <th>score</th>\n",
       "      <th>content</th>\n",
       "      <th>replyContent</th>\n",
       "    </tr>\n",
       "  </thead>\n",
       "  <tbody>\n",
       "    <tr>\n",
       "      <th>0</th>\n",
       "      <td>negativo</td>\n",
       "      <td>460772</td>\n",
       "      <td>460744</td>\n",
       "      <td>211050</td>\n",
       "    </tr>\n",
       "    <tr>\n",
       "      <th>1</th>\n",
       "      <td>neutro</td>\n",
       "      <td>106401</td>\n",
       "      <td>106381</td>\n",
       "      <td>41488</td>\n",
       "    </tr>\n",
       "    <tr>\n",
       "      <th>2</th>\n",
       "      <td>positivo</td>\n",
       "      <td>1733691</td>\n",
       "      <td>1733498</td>\n",
       "      <td>521276</td>\n",
       "    </tr>\n",
       "  </tbody>\n",
       "</table>\n",
       "</div>"
      ],
      "text/plain": [
       "  sentimento    score  content  replyContent\n",
       "0   negativo   460772   460744        211050\n",
       "1     neutro   106401   106381         41488\n",
       "2   positivo  1733691  1733498        521276"
      ]
     },
     "execution_count": 9,
     "metadata": {},
     "output_type": "execute_result"
    }
   ],
   "source": [
    "# VERIFICAR O BALANCEAMENTO DAS CLASSES DOS DADOS PARA GRÁFICO 2 \n",
    "dados_g2 = df_reviews[['sentimento', 'score', 'content', 'replyContent']]\n",
    "dados_g2 = dados_g2.groupby(['sentimento']).count().reset_index()\n",
    "dados_g2"
   ]
  },
  {
   "cell_type": "code",
   "execution_count": 10,
   "id": "e4d44d62",
   "metadata": {},
   "outputs": [
    {
     "data": {
      "image/png": "[encoded data removed]",
      "text/plain": [
       "<Figure size 700x500 with 1 Axes>"
      ]
     },
     "metadata": {},
     "output_type": "display_data"
    }
   ],
   "source": [
    "# GRÁFICO 2 - QUANTIDADE DE AVALIAÇÕES POR SENTIMENTO\n",
    "figura, axes = plt.subplots(figsize = (7, 5))\n",
    "\n",
    "sentimento = dados_g2['sentimento']\n",
    "quantidade = dados_g2['content']\n",
    "\n",
    "cor_barras = ['tomato', 'peru', 'limegreen']\n",
    "\n",
    "grafico2 = axes.bar(sentimento, quantidade, width = 0.4, color = cor_barras)\n",
    "axes.set_xlabel('Sentimento', fontsize = 12, labelpad = 10)\n",
    "axes.set_ylabel('Quantidade', fontsize = 12, labelpad = 10)\n",
    "#axes.set_title('Quantidade de Avaliações por Notas (1 a 5)')\n",
    "axes.set(ylim = (0, 1900000))\n",
    "axes.bar_label(grafico2, quantidade, size = 10, label_type = \"edge\")\n",
    "#axes.grid(color = 'gray', linestyle = '-', linewidth = 0.5)\n",
    "axes.ticklabel_format(style = 'plain', axis = 'y')\n",
    "plt.savefig('grafico2.png', format ='png', bbox_inches = 'tight')\n",
    "\n",
    "plt.show()"
   ]
  },
  {
   "cell_type": "code",
   "execution_count": 11,
   "id": "cd5af7b2",
   "metadata": {},
   "outputs": [
    {
     "data": {
      "text/plain": [
       "True"
      ]
     },
     "execution_count": 11,
     "metadata": {},
     "output_type": "execute_result"
    }
   ],
   "source": [
    "# VERIFICAR A EXISTÊNCIA DE VALORES NaN NO CAMPO DE COMENTÁRIOS\n",
    "df_reviews[['content']].isna().values.any() # ou df_reviews[['content']].isna() # notnull()"
   ]
  },
  {
   "cell_type": "code",
   "execution_count": 12,
   "id": "68ebcc80",
   "metadata": {},
   "outputs": [
    {
     "data": {
      "text/html": [
       "<div>\n",
       "<style scoped>\n",
       "    .dataframe tbody tr th:only-of-type {\n",
       "        vertical-align: middle;\n",
       "    }\n",
       "\n",
       "    .dataframe tbody tr th {\n",
       "        vertical-align: top;\n",
       "    }\n",
       "\n",
       "    .dataframe thead th {\n",
       "        text-align: right;\n",
       "    }\n",
       "</style>\n",
       "<table border=\"1\" class=\"dataframe\">\n",
       "  <thead>\n",
       "    <tr style=\"text-align: right;\">\n",
       "      <th></th>\n",
       "      <th>reviewId</th>\n",
       "      <th>userName</th>\n",
       "      <th>userImage</th>\n",
       "      <th>content</th>\n",
       "      <th>score</th>\n",
       "      <th>thumbsUpCount</th>\n",
       "      <th>reviewCreatedVersion</th>\n",
       "      <th>at</th>\n",
       "      <th>replyContent</th>\n",
       "      <th>repliedAt</th>\n",
       "      <th>app</th>\n",
       "      <th>sentimento</th>\n",
       "    </tr>\n",
       "  </thead>\n",
       "  <tbody>\n",
       "    <tr>\n",
       "      <th>0</th>\n",
       "      <td>ed5fe77c-14a7-469b-a1c4-53dee2e4b67d</td>\n",
       "      <td>João Victor Viana de Figueiredo</td>\n",
       "      <td>https://play-lh.googleusercontent.com/a-/AFdZu...</td>\n",
       "      <td>Sendo um assinante Prime, considero que é um ó...</td>\n",
       "      <td>5</td>\n",
       "      <td>70</td>\n",
       "      <td>24.12.6.100</td>\n",
       "      <td>2022-07-19 22:58:21</td>\n",
       "      <td>NaN</td>\n",
       "      <td>NaN</td>\n",
       "      <td>Amazon</td>\n",
       "      <td>positivo</td>\n",
       "    </tr>\n",
       "    <tr>\n",
       "      <th>1</th>\n",
       "      <td>33b6e638-8373-4ec9-a0b4-4260cf0a91c1</td>\n",
       "      <td>Felipe Teixeira</td>\n",
       "      <td>https://play-lh.googleusercontent.com/a/AItbvm...</td>\n",
       "      <td>Prós - Comparado ao aplicativo das concorrente...</td>\n",
       "      <td>3</td>\n",
       "      <td>1558</td>\n",
       "      <td>20.20.0.100</td>\n",
       "      <td>2020-10-13 12:31:34</td>\n",
       "      <td>NaN</td>\n",
       "      <td>NaN</td>\n",
       "      <td>Amazon</td>\n",
       "      <td>neutro</td>\n",
       "    </tr>\n",
       "    <tr>\n",
       "      <th>2</th>\n",
       "      <td>490680d7-e9f4-4fde-bf8e-27b8b1c20e3b</td>\n",
       "      <td>Renan Cavagnolli</td>\n",
       "      <td>https://play-lh.googleusercontent.com/a/AItbvm...</td>\n",
       "      <td>Tem alguns problemas. Ex: Na navegação, quando...</td>\n",
       "      <td>3</td>\n",
       "      <td>1883</td>\n",
       "      <td>20.10.0.100</td>\n",
       "      <td>2020-05-25 03:41:07</td>\n",
       "      <td>NaN</td>\n",
       "      <td>NaN</td>\n",
       "      <td>Amazon</td>\n",
       "      <td>neutro</td>\n",
       "    </tr>\n",
       "  </tbody>\n",
       "</table>\n",
       "</div>"
      ],
      "text/plain": [
       "                               reviewId                         userName  \\\n",
       "0  ed5fe77c-14a7-469b-a1c4-53dee2e4b67d  João Victor Viana de Figueiredo   \n",
       "1  33b6e638-8373-4ec9-a0b4-4260cf0a91c1                  Felipe Teixeira   \n",
       "2  490680d7-e9f4-4fde-bf8e-27b8b1c20e3b                 Renan Cavagnolli   \n",
       "\n",
       "                                           userImage  \\\n",
       "0  https://play-lh.googleusercontent.com/a-/AFdZu...   \n",
       "1  https://play-lh.googleusercontent.com/a/AItbvm...   \n",
       "2  https://play-lh.googleusercontent.com/a/AItbvm...   \n",
       "\n",
       "                                             content  score  thumbsUpCount  \\\n",
       "0  Sendo um assinante Prime, considero que é um ó...      5             70   \n",
       "1  Prós - Comparado ao aplicativo das concorrente...      3           1558   \n",
       "2  Tem alguns problemas. Ex: Na navegação, quando...      3           1883   \n",
       "\n",
       "  reviewCreatedVersion                   at replyContent repliedAt     app  \\\n",
       "0          24.12.6.100  2022-07-19 22:58:21          NaN       NaN  Amazon   \n",
       "1          20.20.0.100  2020-10-13 12:31:34          NaN       NaN  Amazon   \n",
       "2          20.10.0.100  2020-05-25 03:41:07          NaN       NaN  Amazon   \n",
       "\n",
       "  sentimento  \n",
       "0   positivo  \n",
       "1     neutro  \n",
       "2     neutro  "
      ]
     },
     "execution_count": 12,
     "metadata": {},
     "output_type": "execute_result"
    }
   ],
   "source": [
    "# EXCLUIR OBSERVAÇÕES COM VALORES NaN NO CAMPO DE COMENTÁRIO\n",
    "df_reviews = df_reviews.dropna(subset = ['content']).reset_index(drop = True)\n",
    "df_reviews.head(3)"
   ]
  },
  {
   "cell_type": "code",
   "execution_count": 13,
   "id": "00228076",
   "metadata": {},
   "outputs": [
    {
     "data": {
      "text/plain": [
       "False"
      ]
     },
     "execution_count": 13,
     "metadata": {},
     "output_type": "execute_result"
    }
   ],
   "source": [
    "# VERIFICAR A EXISTÊNCIA DE VALORES NaN NO CAMPO DE COMENTÁRIOS APÓS RETIRADA DE VALORES NaN \n",
    "df_reviews[['content']].isna().values.any()"
   ]
  },
  {
   "cell_type": "code",
   "execution_count": 14,
   "id": "34f6f7ae",
   "metadata": {},
   "outputs": [
    {
     "data": {
      "text/plain": [
       "sentimento\n",
       "positivo      1733498\n",
       "negativo       460744\n",
       "neutro         106381\n",
       "dtype: int64"
      ]
     },
     "execution_count": 14,
     "metadata": {},
     "output_type": "execute_result"
    }
   ],
   "source": [
    "# RESULTADOS APÓS RETIRADA DE VALORES NaN DOS COMENTÁRIOS\n",
    "df_reviews[['sentimento']].value_counts()"
   ]
  },
  {
   "cell_type": "code",
   "execution_count": 15,
   "id": "432479ed",
   "metadata": {},
   "outputs": [],
   "source": [
    "# AMOSTRAGEM BALANCEADA DAS CLASSES\n",
    "df_neutro = df_reviews[df_reviews['sentimento'] == 'neutro']"
   ]
  },
  {
   "cell_type": "code",
   "execution_count": 16,
   "id": "69bd95a9",
   "metadata": {},
   "outputs": [],
   "source": [
    "df_binario = df_reviews[df_reviews['sentimento'] != 'neutro']\n",
    "df_binario = df_binario.groupby(\"sentimento\").sample(n = 106381, random_state = 1)"
   ]
  },
  {
   "cell_type": "code",
   "execution_count": 17,
   "id": "75493693",
   "metadata": {},
   "outputs": [],
   "source": [
    "# DATAFRAME COM TRÊS CLASSES\n",
    "df_ternario = [df_neutro, df_binario]\n",
    "df_ternario = pd.concat(df_ternario)"
   ]
  },
  {
   "cell_type": "code",
   "execution_count": 18,
   "id": "497ad7df",
   "metadata": {},
   "outputs": [
    {
     "data": {
      "text/plain": [
       "sentimento\n",
       "negativo      106381\n",
       "neutro        106381\n",
       "positivo      106381\n",
       "dtype: int64"
      ]
     },
     "execution_count": 18,
     "metadata": {},
     "output_type": "execute_result"
    }
   ],
   "source": [
    "# RESULTADO DA AMOSTRAGEM BALANCEADA DAS CLASSES\n",
    "df_ternario[['sentimento']].value_counts()"
   ]
  },
  {
   "cell_type": "code",
   "execution_count": 19,
   "id": "97b32064",
   "metadata": {},
   "outputs": [
    {
     "data": {
      "text/html": [
       "<div>\n",
       "<style scoped>\n",
       "    .dataframe tbody tr th:only-of-type {\n",
       "        vertical-align: middle;\n",
       "    }\n",
       "\n",
       "    .dataframe tbody tr th {\n",
       "        vertical-align: top;\n",
       "    }\n",
       "\n",
       "    .dataframe thead th {\n",
       "        text-align: right;\n",
       "    }\n",
       "</style>\n",
       "<table border=\"1\" class=\"dataframe\">\n",
       "  <thead>\n",
       "    <tr style=\"text-align: right;\">\n",
       "      <th></th>\n",
       "      <th>sentimento</th>\n",
       "      <th>quantidade</th>\n",
       "    </tr>\n",
       "  </thead>\n",
       "  <tbody>\n",
       "    <tr>\n",
       "      <th>0</th>\n",
       "      <td>negativo</td>\n",
       "      <td>106381</td>\n",
       "    </tr>\n",
       "    <tr>\n",
       "      <th>1</th>\n",
       "      <td>neutro</td>\n",
       "      <td>106381</td>\n",
       "    </tr>\n",
       "    <tr>\n",
       "      <th>2</th>\n",
       "      <td>positivo</td>\n",
       "      <td>106381</td>\n",
       "    </tr>\n",
       "  </tbody>\n",
       "</table>\n",
       "</div>"
      ],
      "text/plain": [
       "  sentimento  quantidade\n",
       "0   negativo      106381\n",
       "1     neutro      106381\n",
       "2   positivo      106381"
      ]
     },
     "execution_count": 19,
     "metadata": {},
     "output_type": "execute_result"
    }
   ],
   "source": [
    "# GRÁFICO 3 - # DADOS PARA GRÁFICO 3 DE QUANTIDADE DE AVALIAÇÕES POR SENTIMENTO\n",
    "dados_g3 = df_ternario.groupby(['sentimento']).size()\n",
    "dados_g3 = pd.DataFrame(data = dados_g3, columns = ['quantidade']).reset_index()\n",
    "dados_g3 "
   ]
  },
  {
   "cell_type": "code",
   "execution_count": 20,
   "id": "aac7cc27",
   "metadata": {},
   "outputs": [
    {
     "data": {
      "image/png": "[encoded data removed]",
      "text/plain": [
       "<Figure size 700x500 with 1 Axes>"
      ]
     },
     "metadata": {},
     "output_type": "display_data"
    }
   ],
   "source": [
    "# GRÁFICO 3 -  QUANTIDADE DE AVALIAÇÕES POR SENTIMENTO - BALANCEADA\n",
    "figura, axes = plt.subplots(figsize = (7, 5))\n",
    "\n",
    "sentimento = dados_g3['sentimento']\n",
    "quantidade = dados_g3['quantidade']\n",
    "\n",
    "cor_barras = ['tomato', 'peru', 'limegreen']\n",
    "\n",
    "grafico3 = axes.bar(sentimento, quantidade, width = 0.4, color = cor_barras)\n",
    "axes.set_xlabel('Sentimento', fontsize = 12, labelpad = 10)\n",
    "axes.set_ylabel('Quantidade', fontsize = 12, labelpad = 10)\n",
    "#axes.set_title('Quantidade de Avaliações por Notas (1 a 5)')\n",
    "axes.set(ylim = (0, 1900000))\n",
    "axes.bar_label(grafico3, quantidade, size = 10, label_type = \"edge\")\n",
    "#axes.grid(color = 'gray', linestyle = '-', linewidth = 0.5)\n",
    "axes.ticklabel_format(style = 'plain', axis = 'y')\n",
    "plt.savefig('grafico3.png', format ='png', bbox_inches = 'tight')\n",
    "\n",
    "plt.show()"
   ]
  },
  {
   "cell_type": "code",
   "execution_count": 21,
   "id": "ac27b126",
   "metadata": {},
   "outputs": [],
   "source": [
    "# SALVAR ARQUIVOS\n",
    "df_ternario.to_csv('df_reviews_ternario.csv', index = False)  "
   ]
  }
 ],
 "metadata": {
  "kernelspec": {
   "display_name": "Python 3 (ipykernel)",
   "language": "python",
   "name": "python3"
  },
  "language_info": {
   "codemirror_mode": {
    "name": "ipython",
    "version": 3
   },
   "file_extension": ".py",
   "mimetype": "text/x-python",
   "name": "python",
   "nbconvert_exporter": "python",
   "pygments_lexer": "ipython3",
   "version": "3.9.13"
  }
 },
 "nbformat": 4,
 "nbformat_minor": 5
}
