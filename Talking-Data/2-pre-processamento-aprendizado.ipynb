{
 "cells": [
  {
   "cell_type": "markdown",
   "metadata": {},
   "source": [
    "### PROJETO: DETECÇÃO DE FRAUDES NO TRÁFEGO DE CLIQUES EM PROPAGANDAS DE APLICAÇÕES MOBILE - TALKINGDATA"
   ]
  },
  {
   "cell_type": "markdown",
   "metadata": {},
   "source": [
    "### DESCRIÇÃO DOS DADOS\n",
    "\n",
    "Os dados de treino foram coletados do dataset train.csv do Kaggle. Além de coletar amostras, foram realizadas modificações nos nomes das variáveis para uma melhor compreensão delas.\n",
    "\n",
    "Dados de Treino:\n",
    "\n",
    "Cada linha dos dados de treinamento contém um registro de cliques, com os seguintes recursos.\n",
    "\n",
    "- ip: ip endereço de clique.\n",
    "- app: id de aplicativo para marketing.\n",
    "- dispositivo: identificação do tipo de dispositivo do celular do usuário (por exemplo, iphone 6 plus, iphone 7, huawei mate 7, etc.)\n",
    "- so: id versão do sistema operacional do celular do usuário\n",
    "- canal: id do canal da editora de anúncios móveis\n",
    "- horario-clique: fuso de hora em hora (UTC)\n",
    "- horario-download: se o usuário baixar o aplicativo para depois de clicar em um anúncio, esta é a hora do download do aplicativo\n",
    "- classe: o alvo a ser previsto, indicando que o aplicativo foi baixado (não fraude = 1) ou não baixado (fraude = 0)."
   ]
  },
  {
   "cell_type": "markdown",
   "metadata": {},
   "source": [
    "### PRÉ-PROCESSAMENTO"
   ]
  },
  {
   "cell_type": "markdown",
   "metadata": {},
   "source": [
    "#### CARREGAR BIBLIOTECAS"
   ]
  },
  {
   "cell_type": "code",
   "execution_count": 1,
   "metadata": {},
   "outputs": [],
   "source": [
    "# DESATIVAR MENSAGENS DE WARNINGS (warn = -1) E ATIVAR (warn = 0)\n",
    "options(warn = -1)"
   ]
  },
  {
   "cell_type": "code",
   "execution_count": 2,
   "metadata": {},
   "outputs": [],
   "source": [
    "# DESATIVA NOTAÇÃO CIENTÍFICA\n",
    "options(scipen = 999)"
   ]
  },
  {
   "cell_type": "code",
   "execution_count": 3,
   "metadata": {},
   "outputs": [],
   "source": [
    "# PARA TAMANHO DOS GRÁFICOS\n",
    "options(jupyter.plot_scale = 1)"
   ]
  },
  {
   "cell_type": "code",
   "execution_count": 4,
   "metadata": {},
   "outputs": [],
   "source": [
    "# CARREGANDO BIBLIOTECAS \n",
    "suppressPackageStartupMessages({\n",
    "library(dplyr)\n",
    "library(tidyr)\n",
    "library(data.table)\n",
    "library(readr)\n",
    "library(ggplot2)\n",
    "library(gridExtra)\n",
    "library(scales) # Função date_format()\n",
    "library(lubridate)\n",
    "library(caret)\n",
    "library(xgboost)\n",
    "library(e1071)\n",
    "library(class)\n",
    "library(caTools) # Função sample.split()\n",
    "library(ROCR)\n",
    "})"
   ]
  },
  {
   "cell_type": "markdown",
   "metadata": {},
   "source": [
    "#### CARREGAR DADOS"
   ]
  },
  {
   "cell_type": "code",
   "execution_count": 5,
   "metadata": {},
   "outputs": [
    {
     "name": "stdout",
     "output_type": "stream",
     "text": [
      "Rows: 240,000\n",
      "Columns: 8\n",
      "$ ip               <int> 159048, 191117, 10833, 113682, 6534, 130391, 286692, ~\n",
      "$ app              <int> 39, 18, 20, 6, 9, 10, 190, 19, 12, 19, 8, 12, 3, 10, ~\n",
      "$ dispositivo      <int> 1, 1, 1, 1, 1, 1, 1, 129, 1, 0, 1, 1, 1, 1, 1, 0, 1, ~\n",
      "$ so               <int> 14, 10, 10, 17, 13, 61, 18, 24, 32, 24, 19, 13, 19, 7~\n",
      "$ canal            <int> 213, 376, 259, 459, 489, 113, 213, 213, 259, 213, 145~\n",
      "$ horario_clique   <dttm> 2017-11-07 02:49:38, 2017-11-07 08:10:07, 2017-11-07~\n",
      "$ horario_download <dttm> 2017-11-07 02:54:44, NA, NA, NA, NA, 2017-11-07 02:4~\n",
      "$ classe           <int> 1, 0, 0, 0, 0, 1, 1, 1, 0, 1, 1, 0, 0, 1, 0, 1, 1, 0,~\n"
     ]
    }
   ],
   "source": [
    "# CARREGAR df_Talking_Data\n",
    "df_talkingdata <- fread(\"df-talkingdata.csv\")\n",
    "glimpse(df_talkingdata)"
   ]
  },
  {
   "cell_type": "code",
   "execution_count": 6,
   "metadata": {},
   "outputs": [],
   "source": [
    "# TRANSFORMAR COLUNAS DE STRING EM DATA\n",
    "df_talkingdata$horario_clique <- as_datetime(df_talkingdata$horario_clique)\n",
    "df_talkingdata$horario_download <- as_datetime(df_talkingdata$horario_download)"
   ]
  },
  {
   "cell_type": "code",
   "execution_count": 7,
   "metadata": {},
   "outputs": [
    {
     "name": "stdout",
     "output_type": "stream",
     "text": [
      "Rows: 240,000\n",
      "Columns: 8\n",
      "$ ip               <int> 159048, 191117, 10833, 113682, 6534, 130391, 286692, ~\n",
      "$ app              <int> 39, 18, 20, 6, 9, 10, 190, 19, 12, 19, 8, 12, 3, 10, ~\n",
      "$ dispositivo      <int> 1, 1, 1, 1, 1, 1, 1, 129, 1, 0, 1, 1, 1, 1, 1, 0, 1, ~\n",
      "$ so               <int> 14, 10, 10, 17, 13, 61, 18, 24, 32, 24, 19, 13, 19, 7~\n",
      "$ canal            <int> 213, 376, 259, 459, 489, 113, 213, 213, 259, 213, 145~\n",
      "$ horario_clique   <dttm> 2017-11-07 02:49:38, 2017-11-07 08:10:07, 2017-11-07~\n",
      "$ horario_download <dttm> 2017-11-07 02:54:44, NA, NA, NA, NA, 2017-11-07 02:4~\n",
      "$ classe           <int> 1, 0, 0, 0, 0, 1, 1, 1, 0, 1, 1, 0, 0, 1, 0, 1, 1, 0,~\n"
     ]
    }
   ],
   "source": [
    "glimpse(df_talkingdata)"
   ]
  },
  {
   "cell_type": "code",
   "execution_count": 8,
   "metadata": {
    "slideshow": {
     "slide_type": "-"
    }
   },
   "outputs": [
    {
     "data": {
      "image/png": "[encoded data removed]",
      "text/plain": [
       "plot without title"
      ]
     },
     "metadata": {},
     "output_type": "display_data"
    }
   ],
   "source": [
    "# QUANTIDADE DE INSTÂNCIAS EM CADA CLASSES\n",
    "g0 <- ggplot(df_talkingdata, aes(x = as.factor(classe))) +\n",
    "     geom_bar(stat = 'count') +\n",
    "     coord_cartesian(ylim = c(0, 150000)) +\n",
    "     labs(title = \"Quantidade de Instâncias por classe\",x = 'Classes', y = 'Quantidade') +\n",
    "     theme(text = element_text(size = 8))\n",
    "\n",
    "options(repr.plot.width = 3.0, repr.plot.height = 3.5)\n",
    "g0"
   ]
  },
  {
   "cell_type": "markdown",
   "metadata": {},
   "source": [
    "#### CLIQUES SEM DOWNLOAD"
   ]
  },
  {
   "cell_type": "code",
   "execution_count": 9,
   "metadata": {},
   "outputs": [],
   "source": [
    "## SLICE DATASET - APLICATIVO NÃO BAIXADO\n",
    "df_naobaixado <- df_talkingdata[df_talkingdata$classe == 0,]\n",
    "df_naobaixado$classe <- as.factor(df_naobaixado$classe)"
   ]
  },
  {
   "cell_type": "code",
   "execution_count": 10,
   "metadata": {},
   "outputs": [],
   "source": [
    "# FUNÇÃO PARA PLOTAGEM DO GRÁFICO DE BARRAS\n",
    "grafico_barras <- function(x, xlab, title){\n",
    "    ggplot(x[1:15,], aes(x = reorder(Var1, Freq), y = Freq)) +\n",
    "    geom_bar(stat = \"identity\") + labs(x = xlab, y = \"Quantidade\", title = title) +\n",
    "    theme_minimal() +\n",
    "    theme( plot.title = element_text(hjust = 0.5), text = element_text(size = 8)) +\n",
    "    coord_flip()\n",
    "}"
   ]
  },
  {
   "cell_type": "code",
   "execution_count": 11,
   "metadata": {},
   "outputs": [],
   "source": [
    "# IP \n",
    "ip <- data.frame(table(df_naobaixado$ip))\n",
    "ip <- ip[order(ip$Freq, decreasing = T),]\n",
    "\n",
    "# IP E NÚMERO DE CLIQUES QUE NÃO BAIXARAM O APLICATIVO \n",
    "# 15 PRIMEIROS IPs DE MAIOR NÚMERO DE CLIQUES \n",
    "g1 = grafico_barras(ip, \"IP\", \"quantidade de cliques sem download por IP\")"
   ]
  },
  {
   "cell_type": "code",
   "execution_count": 12,
   "metadata": {},
   "outputs": [],
   "source": [
    "# ID APP \n",
    "id_aplicativo <- data.frame(table(df_naobaixado$app))\n",
    "id_aplicativo <- id_aplicativo[order(id_aplicativo$Freq, decreasing = T),]\n",
    "\n",
    "# IDs DE APP E NÚMERO DE CLIQUES QUE NÃO BAIXARAM O APLICATIVO \n",
    "# 15 PRIMEIROS IDs DE APP DE MAIOR NÚMERO DE CLIQUES \n",
    "g2 = grafico_barras(id_aplicativo, \"App\", \"Quantidade de cliques sem download por App\")"
   ]
  },
  {
   "cell_type": "code",
   "execution_count": 13,
   "metadata": {},
   "outputs": [],
   "source": [
    "# ID DISPOSITIVO\n",
    "id_dispositivo <- data.frame(table(df_naobaixado$dispositivo))\n",
    "id_dispositivo <- id_dispositivo[order(id_dispositivo$Freq, decreasing = T),]\n",
    "\n",
    "# IDs DOS DISPOSITIVOS E VOLUME DE CLIQUES QUE NÃO BAIXARAM O APLICATIVO \n",
    "# 15 PRIMEIROS IDs DE DISPOSITIVOS DE MAIOR NÚMERO DE CLIQUES\n",
    "g3 = grafico_barras(id_dispositivo, \"Dispositivo\", \"Quantidade de cliques sem download por dispositivo\")"
   ]
  },
  {
   "cell_type": "code",
   "execution_count": 14,
   "metadata": {},
   "outputs": [],
   "source": [
    "# ID SISTEMA OPERACIONAL\n",
    "id_so <- data.frame(table(df_naobaixado$so))\n",
    "id_so <- id_so[order(id_so$Freq, decreasing = T),]\n",
    "\n",
    "# IDs DO SISTEMA OPERACIONAL E VOLUME DE CLIQUES QUE NÃO BAIXARAM O APLICATIVO \n",
    "# 15 PRIMEIROS IDs DE SISTEMA OPERACIONAL DE MAIOR NÚMERO DE CLIQUES\n",
    "g4 <- grafico_barras(id_so, \"SO\", \"Quantidade de cliques sem download por SO\")"
   ]
  },
  {
   "cell_type": "code",
   "execution_count": 15,
   "metadata": {},
   "outputs": [],
   "source": [
    "# ID CANAL \n",
    "id_canal <- data.frame(table(df_naobaixado$canal))\n",
    "id_canal <- id_canal [order(id_canal$Freq, decreasing = T),]\n",
    "\n",
    "# IDs DE CANAL E VOLUME DE CLIQUES QUE NÃO BAIXARAM O APLICATIVO\n",
    "# 15 PRIMEIROS IDs DE CANAL EM QUE SE TEVE MAIOR NÚMERO DE CLIQUES\n",
    "g5 <- grafico_barras(id_canal, \"Canal\", \"Quantidade de cliques sem download por canal\")"
   ]
  },
  {
   "cell_type": "code",
   "execution_count": 16,
   "metadata": {},
   "outputs": [
    {
     "data": {
      "image/png": "[encoded data removed]",
      "text/plain": [
       "plot without title"
      ]
     },
     "metadata": {},
     "output_type": "display_data"
    }
   ],
   "source": [
    "options(repr.plot.width = 7, repr.plot.height = 7)\n",
    "grid.arrange(g1, g2, g3, g4, g5)"
   ]
  },
  {
   "cell_type": "markdown",
   "metadata": {},
   "source": [
    "O tipo de dispositivo 1 é o que mais está associado à cliques sem downloads. Os IDs do sistema operacional 19 e 13 são os mais associados à cliques sem downloads. Já o canal em que mais se tem cliques sem downloads é o 280."
   ]
  },
  {
   "cell_type": "code",
   "execution_count": 17,
   "metadata": {},
   "outputs": [
    {
     "name": "stdout",
     "output_type": "stream",
     "text": [
      "De: 2017-11-06 15:49:03\n",
      "Até: 2017-11-09 16:00:00"
     ]
    }
   ],
   "source": [
    "# PERÍODO DE CLIQUES SEM DOWNLOAD CONFORME AMOSTRA COLETADA - DATA E HORÁRIO\n",
    "cliques_naobaixado = df_talkingdata[df_talkingdata$classe == 0,]\n",
    "inicio <- min(cliques_naobaixado$horario_clique)\n",
    "fim <- max(cliques_naobaixado$horario_clique)\n",
    "cat(sprintf(\"De: %s\", inicio))\n",
    "cat(sprintf(\"\\nAté: %s\", fim))"
   ]
  },
  {
   "cell_type": "code",
   "execution_count": 18,
   "metadata": {},
   "outputs": [
    {
     "data": {
      "text/html": [
       "<table>\n",
       "<thead><tr><th scope=col>data_horario</th><th scope=col>frequencia</th></tr></thead>\n",
       "<tbody>\n",
       "\t<tr><td>2017-11-06 15:49:03</td><td>1                  </td></tr>\n",
       "\t<tr><td>2017-11-06 16:00:00</td><td>1                  </td></tr>\n",
       "\t<tr><td>2017-11-06 16:00:02</td><td>1                  </td></tr>\n",
       "</tbody>\n",
       "</table>\n"
      ],
      "text/latex": [
       "\\begin{tabular}{r|ll}\n",
       " data\\_horario & frequencia\\\\\n",
       "\\hline\n",
       "\t 2017-11-06 15:49:03 & 1                  \\\\\n",
       "\t 2017-11-06 16:00:00 & 1                  \\\\\n",
       "\t 2017-11-06 16:00:02 & 1                  \\\\\n",
       "\\end{tabular}\n"
      ],
      "text/markdown": [
       "\n",
       "| data_horario | frequencia |\n",
       "|---|---|\n",
       "| 2017-11-06 15:49:03 | 1                   |\n",
       "| 2017-11-06 16:00:00 | 1                   |\n",
       "| 2017-11-06 16:00:02 | 1                   |\n",
       "\n"
      ],
      "text/plain": [
       "  data_horario        frequencia\n",
       "1 2017-11-06 15:49:03 1         \n",
       "2 2017-11-06 16:00:00 1         \n",
       "3 2017-11-06 16:00:02 1         "
      ]
     },
     "metadata": {},
     "output_type": "display_data"
    }
   ],
   "source": [
    "# TABELA COM A FREQUENCIA DE CLIQUES SEM DOWNLOAD EM DETERMINADO HORÁRIO \n",
    "df_frequencia1 <- data.frame(table(cliques_naobaixado$horario_clique))\n",
    "names(df_frequencia1) <- c(\"data_horario\", \"frequencia\")\n",
    "head(df_frequencia1, 3)"
   ]
  },
  {
   "cell_type": "code",
   "execution_count": 19,
   "metadata": {},
   "outputs": [
    {
     "data": {
      "text/html": [
       "<table>\n",
       "<thead><tr><th scope=col>data_horario</th><th scope=col>data_horario2</th><th scope=col>data</th><th scope=col>frequencia_cliques</th></tr></thead>\n",
       "<tbody>\n",
       "\t<tr><td>2017-11-06 15:49:03</td><td>2017-11-06 15:00:00</td><td>2017-11-06         </td><td>1                  </td></tr>\n",
       "\t<tr><td>2017-11-06 16:00:00</td><td>2017-11-06 16:00:00</td><td>2017-11-06         </td><td>1                  </td></tr>\n",
       "\t<tr><td>2017-11-06 16:00:02</td><td>2017-11-06 16:00:00</td><td>2017-11-06         </td><td>1                  </td></tr>\n",
       "</tbody>\n",
       "</table>\n"
      ],
      "text/latex": [
       "\\begin{tabular}{r|llll}\n",
       " data\\_horario & data\\_horario2 & data & frequencia\\_cliques\\\\\n",
       "\\hline\n",
       "\t 2017-11-06 15:49:03 & 2017-11-06 15:00:00 & 2017-11-06          & 1                  \\\\\n",
       "\t 2017-11-06 16:00:00 & 2017-11-06 16:00:00 & 2017-11-06          & 1                  \\\\\n",
       "\t 2017-11-06 16:00:02 & 2017-11-06 16:00:00 & 2017-11-06          & 1                  \\\\\n",
       "\\end{tabular}\n"
      ],
      "text/markdown": [
       "\n",
       "| data_horario | data_horario2 | data | frequencia_cliques |\n",
       "|---|---|---|---|\n",
       "| 2017-11-06 15:49:03 | 2017-11-06 15:00:00 | 2017-11-06          | 1                   |\n",
       "| 2017-11-06 16:00:00 | 2017-11-06 16:00:00 | 2017-11-06          | 1                   |\n",
       "| 2017-11-06 16:00:02 | 2017-11-06 16:00:00 | 2017-11-06          | 1                   |\n",
       "\n"
      ],
      "text/plain": [
       "  data_horario        data_horario2       data       frequencia_cliques\n",
       "1 2017-11-06 15:49:03 2017-11-06 15:00:00 2017-11-06 1                 \n",
       "2 2017-11-06 16:00:00 2017-11-06 16:00:00 2017-11-06 1                 \n",
       "3 2017-11-06 16:00:02 2017-11-06 16:00:00 2017-11-06 1                 "
      ]
     },
     "metadata": {},
     "output_type": "display_data"
    }
   ],
   "source": [
    "# ACRESCENTAR DATA E DIA E HORA (SEM CONTAR MINUTOS E SEGUNDOS)\n",
    "df_frequencia2 <- mutate(df_frequencia1, data_horario = df_frequencia1$data_horario,\n",
    "           data_horario2 = make_datetime(year(df_frequencia1$data_horario), month(df_frequencia1$data_horario), \n",
    "                                         day(df_frequencia1$data_horario), hour(df_frequencia1$data_horario)),\n",
    "           data = make_date(year(df_frequencia1$data_horario), month(df_frequencia1$data_horario), \n",
    "                            day(df_frequencia1$data_horario)),\n",
    "           frequencia_cliques = df_frequencia1$frequencia)\n",
    "           \n",
    "\n",
    "df_frequencia3 <- select(df_frequencia2, data_horario, data_horario2, data, frequencia_cliques)\n",
    "\n",
    "head(df_frequencia3, 3)"
   ]
  },
  {
   "cell_type": "code",
   "execution_count": 20,
   "metadata": {},
   "outputs": [
    {
     "data": {
      "text/html": [
       "<table>\n",
       "<thead><tr><th scope=col>data</th><th scope=col>data_horario2</th><th scope=col>frequencia_cliques</th></tr></thead>\n",
       "<tbody>\n",
       "\t<tr><td>2017-11-06         </td><td>2017-11-06 15:00:00</td><td>   1               </td></tr>\n",
       "\t<tr><td>2017-11-06         </td><td>2017-11-06 16:00:00</td><td>1509               </td></tr>\n",
       "\t<tr><td>2017-11-06         </td><td>2017-11-06 17:00:00</td><td> 816               </td></tr>\n",
       "</tbody>\n",
       "</table>\n"
      ],
      "text/latex": [
       "\\begin{tabular}{r|lll}\n",
       " data & data\\_horario2 & frequencia\\_cliques\\\\\n",
       "\\hline\n",
       "\t 2017-11-06          & 2017-11-06 15:00:00 &    1               \\\\\n",
       "\t 2017-11-06          & 2017-11-06 16:00:00 & 1509               \\\\\n",
       "\t 2017-11-06          & 2017-11-06 17:00:00 &  816               \\\\\n",
       "\\end{tabular}\n"
      ],
      "text/markdown": [
       "\n",
       "| data | data_horario2 | frequencia_cliques |\n",
       "|---|---|---|\n",
       "| 2017-11-06          | 2017-11-06 15:00:00 |    1                |\n",
       "| 2017-11-06          | 2017-11-06 16:00:00 | 1509                |\n",
       "| 2017-11-06          | 2017-11-06 17:00:00 |  816                |\n",
       "\n"
      ],
      "text/plain": [
       "  data       data_horario2       frequencia_cliques\n",
       "1 2017-11-06 2017-11-06 15:00:00    1              \n",
       "2 2017-11-06 2017-11-06 16:00:00 1509              \n",
       "3 2017-11-06 2017-11-06 17:00:00  816              "
      ]
     },
     "metadata": {},
     "output_type": "display_data"
    }
   ],
   "source": [
    "# AGRUPAR POR DIA E HORA\n",
    "df_frequencia4 <- df_frequencia3 %>%\n",
    "            group_by(data, data_horario2) %>%\n",
    "            summarise(frequencia_cliques = sum(frequencia_cliques), .groups = \"keep\")\n",
    "\n",
    "head(df_frequencia4, 3)"
   ]
  },
  {
   "cell_type": "code",
   "execution_count": 21,
   "metadata": {},
   "outputs": [
    {
     "data": {
      "image/png": "[encoded data removed]",
      "text/plain": [
       "plot without title"
      ]
     },
     "metadata": {},
     "output_type": "display_data"
    }
   ],
   "source": [
    "g6 <- ggplot(df_frequencia4, aes(x = data_horario2, y = frequencia_cliques)) +\n",
    "    geom_line(size = 0.7,colour = 'gold') +                    \n",
    "    geom_point(size = 1.3, colour = 'black') +\n",
    "    scale_x_datetime(labels = date_format(format = '%Hh', tz = \"UTC\"), date_breaks = \"3 hours\") +\n",
    "    coord_cartesian(ylim = c(0, 3000)) +\n",
    "    labs(x = 'Horas', y = 'Quantidade', \n",
    "         title = 'Quantidade de cliques sem download em horários dos dias 06/11/2017 a 09/11/2017') +\n",
    "    theme(plot.title = element_text(hjust = 0.5), text = element_text(size = 8))\n",
    "\n",
    "options(repr.plot.width = 7, repr.plot.height = 4.5)\n",
    "g6"
   ]
  },
  {
   "cell_type": "markdown",
   "metadata": {},
   "source": [
    "No gráfico precebe-se que ocorrem picos de cliques sem download das 00h00 às 14h00. Há um enorme crescimento de cliques sem download no período de 21h00 às 00h00 nos dias 6, 7 e 8 e uma queda no período de 15h00 às 20h00 nos dias 7 e 8."
   ]
  },
  {
   "cell_type": "code",
   "execution_count": 22,
   "metadata": {},
   "outputs": [
    {
     "data": {
      "text/html": [
       "<table>\n",
       "<thead><tr><th scope=col>hora</th><th scope=col>total_cliques</th></tr></thead>\n",
       "<tbody>\n",
       "\t<tr><td>00  </td><td>6739</td></tr>\n",
       "\t<tr><td>01  </td><td>6074</td></tr>\n",
       "\t<tr><td>02  </td><td>6482</td></tr>\n",
       "\t<tr><td>03  </td><td>6308</td></tr>\n",
       "\t<tr><td>04  </td><td>7195</td></tr>\n",
       "</tbody>\n",
       "</table>\n"
      ],
      "text/latex": [
       "\\begin{tabular}{r|ll}\n",
       " hora & total\\_cliques\\\\\n",
       "\\hline\n",
       "\t 00   & 6739\\\\\n",
       "\t 01   & 6074\\\\\n",
       "\t 02   & 6482\\\\\n",
       "\t 03   & 6308\\\\\n",
       "\t 04   & 7195\\\\\n",
       "\\end{tabular}\n"
      ],
      "text/markdown": [
       "\n",
       "| hora | total_cliques |\n",
       "|---|---|\n",
       "| 00   | 6739 |\n",
       "| 01   | 6074 |\n",
       "| 02   | 6482 |\n",
       "| 03   | 6308 |\n",
       "| 04   | 7195 |\n",
       "\n"
      ],
      "text/plain": [
       "  hora total_cliques\n",
       "1 00   6739         \n",
       "2 01   6074         \n",
       "3 02   6482         \n",
       "4 03   6308         \n",
       "5 04   7195         "
      ]
     },
     "metadata": {},
     "output_type": "display_data"
    }
   ],
   "source": [
    "# AGRUPAR POR HORA PARA SABER EM QUAL HORÁRIO SE TEM MAIS CLIQUES SEM DOWNLOADS\n",
    "df_frequencia5 <- df_frequencia4 %>%\n",
    "    separate (col = data_horario2, c (\"data2\", \"hora\"), sep = ' ', remove = TRUE)\n",
    "\n",
    "df_frequencia6 <- df_frequencia5 %>%\n",
    "             group_by(hora) %>%\n",
    "             summarise(total_cliques = sum(frequencia_cliques))\n",
    "\n",
    "df_frequencia7 <- df_frequencia6 %>%\n",
    "     separate(col = hora, c (\"hora\", \"s\", \"m\"), sep = ':', remove = TRUE) %>%\n",
    "     select(hora, total_cliques)\n",
    "\n",
    "head(df_frequencia7, 5)"
   ]
  },
  {
   "cell_type": "code",
   "execution_count": 23,
   "metadata": {},
   "outputs": [
    {
     "data": {
      "image/png": "[encoded data removed]",
      "text/plain": [
       "plot without title"
      ]
     },
     "metadata": {},
     "output_type": "display_data"
    }
   ],
   "source": [
    "# HORÁRIOS COM MAIOR VOLUME DE CLIQUES SEM DOWNLOAD NOS TRÊS DIAS\n",
    "g7 <- ggplot(df_frequencia7, aes(x = paste0(hora,\"h\"), y = total_cliques)) +\n",
    "     geom_bar(stat =\"identity\") +\n",
    "     labs(x = 'Horário', y = 'Quantidade', title = 'Quantidade de cliques sem download por hora') +\n",
    "     theme(plot.title = element_text(hjust = 0.5), text = element_text(size = 8))\n",
    "\n",
    "options(repr.plot.width = 5, repr.plot.height = 4)\n",
    "g7"
   ]
  },
  {
   "cell_type": "markdown",
   "metadata": {},
   "source": [
    "Nos horários de 00h00 até as 14h00 é quando mais se tem cliques sem download."
   ]
  },
  {
   "cell_type": "markdown",
   "metadata": {},
   "source": [
    "#### **SEPARAR DADOS DE TREINO E TESTE**"
   ]
  },
  {
   "cell_type": "code",
   "execution_count": 24,
   "metadata": {},
   "outputs": [],
   "source": [
    "set.seed(1908)"
   ]
  },
  {
   "cell_type": "code",
   "execution_count": 25,
   "metadata": {},
   "outputs": [],
   "source": [
    "split <- sample.split(df_talkingdata$classe, SplitRatio = 0.8)\n",
    "dados_treino <- subset(df_talkingdata, split == TRUE)\n",
    "dados_teste <- subset(df_talkingdata, split == FALSE )"
   ]
  },
  {
   "cell_type": "code",
   "execution_count": 26,
   "metadata": {},
   "outputs": [
    {
     "name": "stdout",
     "output_type": "stream",
     "text": [
      "Classes 'data.table' and 'data.frame':\t192000 obs. of  8 variables:\n",
      " $ ip              : int  191117 10833 6534 130391 286692 216604 48227 347674 1462 191880 ...\n",
      " $ app             : int  18 20 9 10 190 19 12 19 8 12 ...\n",
      " $ dispositivo     : int  1 1 1 1 1 129 1 0 1 1 ...\n",
      " $ so              : int  10 10 13 61 18 24 32 24 19 13 ...\n",
      " $ canal           : int  376 259 489 113 213 213 259 213 145 481 ...\n",
      " $ horario_clique  : POSIXct, format: \"2017-11-07 08:10:07\" \"2017-11-07 10:21:18\" ...\n",
      " $ horario_download: POSIXct, format: NA NA ...\n",
      " $ classe          : int  0 0 0 1 1 1 0 1 1 0 ...\n",
      " - attr(*, \".internal.selfref\")=<externalptr> \n"
     ]
    }
   ],
   "source": [
    "# DADOS TREINO 80%\n",
    "str(dados_treino)"
   ]
  },
  {
   "cell_type": "code",
   "execution_count": 27,
   "metadata": {},
   "outputs": [
    {
     "name": "stdout",
     "output_type": "stream",
     "text": [
      "Classes 'data.table' and 'data.frame':\t48000 obs. of  8 variables:\n",
      " $ ip              : int  159048 113682 119726 108341 212742 48170 5314 53454 187343 140556 ...\n",
      " $ app             : int  39 6 3 72 19 72 9 2 10 19 ...\n",
      " $ dispositivo     : int  1 1 1 1 21 1 2 1 1 0 ...\n",
      " $ so              : int  14 17 13 25 24 18 13 20 43 50 ...\n",
      " $ canal           : int  213 459 489 101 213 101 442 236 113 282 ...\n",
      " $ horario_clique  : POSIXct, format: \"2017-11-07 02:49:38\" \"2017-11-08 05:03:44\" ...\n",
      " $ horario_download: POSIXct, format: \"2017-11-07 02:54:44\" NA ...\n",
      " $ classe          : int  1 0 0 1 1 1 0 0 1 1 ...\n",
      " - attr(*, \".internal.selfref\")=<externalptr> \n"
     ]
    }
   ],
   "source": [
    "# DADOS TESTE 20%\n",
    "str(dados_teste)"
   ]
  },
  {
   "cell_type": "code",
   "execution_count": 28,
   "metadata": {},
   "outputs": [],
   "source": [
    "# REMOVER AS VARIÁVEIS COM DATAS \n",
    "dados_treino <- dados_treino[, c(1:5, 8)]\n",
    "dados_treino <- as.data.frame(dados_treino)\n",
    "dados_teste <- dados_teste[, c(1:5, 8)]\n",
    "dados_teste <- as.data.frame(dados_teste)"
   ]
  },
  {
   "cell_type": "code",
   "execution_count": 29,
   "metadata": {},
   "outputs": [
    {
     "name": "stdout",
     "output_type": "stream",
     "text": [
      "'data.frame':\t192000 obs. of  6 variables:\n",
      " $ ip         : int  191117 10833 6534 130391 286692 216604 48227 347674 1462 191880 ...\n",
      " $ app        : int  18 20 9 10 190 19 12 19 8 12 ...\n",
      " $ dispositivo: int  1 1 1 1 1 129 1 0 1 1 ...\n",
      " $ so         : int  10 10 13 61 18 24 32 24 19 13 ...\n",
      " $ canal      : int  376 259 489 113 213 213 259 213 145 481 ...\n",
      " $ classe     : int  0 0 0 1 1 1 0 1 1 0 ...\n"
     ]
    }
   ],
   "source": [
    "str(dados_treino)"
   ]
  },
  {
   "cell_type": "code",
   "execution_count": 30,
   "metadata": {},
   "outputs": [
    {
     "name": "stdout",
     "output_type": "stream",
     "text": [
      "'data.frame':\t48000 obs. of  6 variables:\n",
      " $ ip         : int  159048 113682 119726 108341 212742 48170 5314 53454 187343 140556 ...\n",
      " $ app        : int  39 6 3 72 19 72 9 2 10 19 ...\n",
      " $ dispositivo: int  1 1 1 1 21 1 2 1 1 0 ...\n",
      " $ so         : int  14 17 13 25 24 18 13 20 43 50 ...\n",
      " $ canal      : int  213 459 489 101 213 101 442 236 113 282 ...\n",
      " $ classe     : int  1 0 0 1 1 1 0 0 1 1 ...\n"
     ]
    }
   ],
   "source": [
    "str(dados_teste)"
   ]
  },
  {
   "cell_type": "markdown",
   "metadata": {},
   "source": [
    "### APRENDIZADO E AVALIAÇÃO DO MODELO"
   ]
  },
  {
   "cell_type": "markdown",
   "metadata": {},
   "source": [
    "#### XGBOOST"
   ]
  },
  {
   "cell_type": "code",
   "execution_count": 31,
   "metadata": {},
   "outputs": [],
   "source": [
    "# PREPARANDO DADOS DE TREINO E TESTE PARA O XGBOOST\n",
    "x_treino = xgb.DMatrix(as.matrix(dados_treino[, c(1:5)]))\n",
    "y_treino = dados_treino[, 6]\n",
    "\n",
    "x_teste = xgb.DMatrix(as.matrix(dados_teste[, c(1:5)]))\n",
    "y_teste = dados_teste[, 6]"
   ]
  },
  {
   "cell_type": "code",
   "execution_count": 32,
   "metadata": {},
   "outputs": [],
   "source": [
    "# TRAIN CONTROL\n",
    "trcontrol = trainControl(method = \"cv\",\n",
    "                         number = 10,  \n",
    "                         allowParallel = FALSE,\n",
    "                         verboseIter = FALSE,\n",
    "                         returnData = FALSE)"
   ]
  },
  {
   "cell_type": "code",
   "execution_count": 33,
   "metadata": {},
   "outputs": [],
   "source": [
    "# GRID SEARCH\n",
    "tune_grid <- expand.grid(nrounds = c(100, 500, 1000),\n",
    "                          max_depth = 6,\n",
    "                          eta = 0.1,\n",
    "                          gamma = 0,\n",
    "                          colsample_bytree = 0.7,\n",
    "                          min_child_weight = 1,\n",
    "                          subsample = 0.7)"
   ]
  },
  {
   "cell_type": "code",
   "execution_count": 34,
   "metadata": {},
   "outputs": [],
   "source": [
    "set.seed(1908)"
   ]
  },
  {
   "cell_type": "code",
   "execution_count": 35,
   "metadata": {},
   "outputs": [
    {
     "name": "stdout",
     "output_type": "stream",
     "text": [
      "eXtreme Gradient Boosting \n",
      "\n",
      "No pre-processing\n",
      "Resampling: Cross-Validated (10 fold) \n",
      "Summary of sample sizes: 172800, 172800, 172800, 172800, 172800, 172800, ... \n",
      "Resampling results across tuning parameters:\n",
      "\n",
      "  nrounds  RMSE       Rsquared   MAE      \n",
      "   100     0.2492756  0.7516013  0.1295797\n",
      "   500     0.2451929  0.7595254  0.1209511\n",
      "  1000     0.2456198  0.7586991  0.1190574\n",
      "\n",
      "Tuning parameter 'max_depth' was held constant at a value of 6\n",
      "Tuning\n",
      " parameter 'min_child_weight' was held constant at a value of 1\n",
      "\n",
      "Tuning parameter 'subsample' was held constant at a value of 0.7\n",
      "RMSE was used to select the optimal model using the smallest value.\n",
      "The final values used for the model were nrounds = 500, max_depth = 6, eta\n",
      " = 0.1, gamma = 0, colsample_bytree = 0.7, min_child_weight = 1 and subsample\n",
      " = 0.7.\n"
     ]
    }
   ],
   "source": [
    "# TREINO \n",
    "xgb = train(x_treino, \n",
    "            y_treino,  \n",
    "            trControl = trcontrol,\n",
    "            tuneGrid = tune_grid,\n",
    "            method = \"xgbTree\",                         \n",
    "            objective = \"binary:logistic\")\n",
    "\n",
    "print(xgb)"
   ]
  },
  {
   "cell_type": "code",
   "execution_count": 36,
   "metadata": {},
   "outputs": [],
   "source": [
    "# PREVISÃO\n",
    "prev_xgb = predict(xgb, x_teste, reshape = TRUE)"
   ]
  },
  {
   "cell_type": "code",
   "execution_count": 37,
   "metadata": {},
   "outputs": [],
   "source": [
    "xgb_pred_class <- as.numeric(prev_xgb > 0.50)"
   ]
  },
  {
   "cell_type": "code",
   "execution_count": 38,
   "metadata": {},
   "outputs": [
    {
     "data": {
      "text/plain": [
       "Confusion Matrix and Statistics\n",
       "\n",
       "          Reference\n",
       "Prediction     0     1\n",
       "         0 23131  2929\n",
       "         1   869 21071\n",
       "                                               \n",
       "               Accuracy : 0.9209               \n",
       "                 95% CI : (0.9184, 0.9233)     \n",
       "    No Information Rate : 0.5                  \n",
       "    P-Value [Acc > NIR] : < 0.00000000000000022\n",
       "                                               \n",
       "                  Kappa : 0.8418               \n",
       "                                               \n",
       " Mcnemar's Test P-Value : < 0.00000000000000022\n",
       "                                               \n",
       "            Sensitivity : 0.9638               \n",
       "            Specificity : 0.8780               \n",
       "         Pos Pred Value : 0.8876               \n",
       "         Neg Pred Value : 0.9604               \n",
       "             Prevalence : 0.5000               \n",
       "         Detection Rate : 0.4819               \n",
       "   Detection Prevalence : 0.5429               \n",
       "      Balanced Accuracy : 0.9209               \n",
       "                                               \n",
       "       'Positive' Class : 0                    \n",
       "                                               "
      ]
     },
     "metadata": {},
     "output_type": "display_data"
    }
   ],
   "source": [
    "confusionMatrix(as.factor(xgb_pred_class), as.factor(dados_teste$classe))"
   ]
  },
  {
   "cell_type": "code",
   "execution_count": 39,
   "metadata": {},
   "outputs": [],
   "source": [
    "source(\"metricas-classificacao.R\")"
   ]
  },
  {
   "cell_type": "code",
   "execution_count": 40,
   "metadata": {},
   "outputs": [
    {
     "name": "stdout",
     "output_type": "stream",
     "text": [
      "Métricas XGBoost \n",
      " \n",
      "Acuracia (Accuracy)          = 0.9209 \n",
      "Recall (Sensitivity)         = 0.9638 \n",
      "Precisao (Precision)         = 0.8876 \n",
      "F1 Score (F-Score)           = 0.9241 \n",
      "Especificidade (Specificity) = 0.878"
     ]
    }
   ],
   "source": [
    "metricas_class(0, table(previsto = as.factor(xgb_pred_class), referencia = as.factor(dados_teste$classe)), \"Métricas XGBoost\")"
   ]
  },
  {
   "cell_type": "code",
   "execution_count": 41,
   "metadata": {},
   "outputs": [
    {
     "data": {
      "image/png": "[encoded data removed]",
      "text/plain": [
       "Plot with title \"Curva ROC XGBOOST\""
      ]
     },
     "metadata": {},
     "output_type": "display_data"
    }
   ],
   "source": [
    "# CURVA ROC E AREA UNDER CURVE - AUC\n",
    "prediction1 <- prediction(prev_xgb, as.factor(dados_teste$classe))\n",
    "tpr_fpr_xgb <- performance(prediction1, \"tpr\",\"fpr\")\n",
    "auc_xgb <- performance(prediction1, \"auc\")\n",
    "auc_xgb <- round(unlist(slot(auc_xgb, \"y.values\")), 2)\n",
    "\n",
    "options(repr.plot.width = 3.4, repr.plot.height = 4)\n",
    "plot(tpr_fpr_xgb, col = rainbow(9), \n",
    "     xlab = \"Taxa de falso positivo\", \n",
    "     ylab = \"Taxa de verdadeiro positivo\",\n",
    "     main = \"Curva ROC XGBOOST\", \n",
    "     cex.lab = .9,   \n",
    "     cex.main = .9,  \n",
    "     lwd = 2 )\n",
    "abline(a = 0, b = 1, lwd = 3, lty = 3, col = \"gray\")\n",
    "legend(0.4, 0.4, legend = c(paste0(\"AUC: \", auc_xgb)), cex = 0.7, bty = \"n\", box.col = \"white\")"
   ]
  },
  {
   "cell_type": "code",
   "execution_count": 42,
   "metadata": {},
   "outputs": [],
   "source": [
    "# TRANSFORMAR AS VARIÁVEIS PARA FACTOR PARA UTILIZAÇÃO DOS ALGORITMOS KNN E NAIVE BAYES\n",
    "dados_treino$classe <- as.factor(dados_treino$classe)\n",
    "dados_treino$ip <- as.factor(dados_treino$ip)\n",
    "dados_treino$app <- as.factor(dados_treino$app)\n",
    "dados_treino$dispositivo <- as.factor(dados_treino$dispositivo)\n",
    "dados_treino$so <- as.factor(dados_treino$so)\n",
    "dados_treino$canal <- as.factor(dados_treino$canal)"
   ]
  },
  {
   "cell_type": "code",
   "execution_count": 43,
   "metadata": {},
   "outputs": [],
   "source": [
    "dados_teste$classe <- as.factor(dados_teste$classe)\n",
    "dados_teste$ip <- as.factor(dados_teste$ip)\n",
    "dados_teste$app <- as.factor(dados_teste$app)\n",
    "dados_teste$dispositivo <- as.factor(dados_teste$dispositivo)\n",
    "dados_teste$so <- as.factor(dados_teste$so)\n",
    "dados_teste$canal <- as.factor(dados_teste$canal)"
   ]
  },
  {
   "cell_type": "markdown",
   "metadata": {},
   "source": [
    "#### K - NEAREST NEIGHBOR"
   ]
  },
  {
   "cell_type": "code",
   "execution_count": 44,
   "metadata": {},
   "outputs": [],
   "source": [
    "knn <- knn(train = dados_treino[, 1:5], test = dados_teste[, 1:5], cl = dados_treino[, 6], k = 5, prob = TRUE)"
   ]
  },
  {
   "cell_type": "code",
   "execution_count": 45,
   "metadata": {},
   "outputs": [],
   "source": [
    "probabilidades <- attr(knn, \"prob\")"
   ]
  },
  {
   "cell_type": "code",
   "execution_count": 46,
   "metadata": {},
   "outputs": [
    {
     "data": {
      "text/plain": [
       "Confusion Matrix and Statistics\n",
       "\n",
       "          Reference\n",
       "Prediction     0     1\n",
       "         0 19475  5993\n",
       "         1  4525 18007\n",
       "                                               \n",
       "               Accuracy : 0.7809               \n",
       "                 95% CI : (0.7771, 0.7846)     \n",
       "    No Information Rate : 0.5                  \n",
       "    P-Value [Acc > NIR] : < 0.00000000000000022\n",
       "                                               \n",
       "                  Kappa : 0.5618               \n",
       "                                               \n",
       " Mcnemar's Test P-Value : < 0.00000000000000022\n",
       "                                               \n",
       "            Sensitivity : 0.8115               \n",
       "            Specificity : 0.7503               \n",
       "         Pos Pred Value : 0.7647               \n",
       "         Neg Pred Value : 0.7992               \n",
       "             Prevalence : 0.5000               \n",
       "         Detection Rate : 0.4057               \n",
       "   Detection Prevalence : 0.5306               \n",
       "      Balanced Accuracy : 0.7809               \n",
       "                                               \n",
       "       'Positive' Class : 0                    \n",
       "                                               "
      ]
     },
     "metadata": {},
     "output_type": "display_data"
    }
   ],
   "source": [
    "confusionMatrix(knn, dados_teste$classe)"
   ]
  },
  {
   "cell_type": "code",
   "execution_count": 47,
   "metadata": {},
   "outputs": [
    {
     "name": "stdout",
     "output_type": "stream",
     "text": [
      "Métricas K-Nearest Neighbor \n",
      " \n",
      "Acuracia (Accuracy)          = 0.7809 \n",
      "Recall (Sensitivity)         = 0.8115 \n",
      "Precisao (Precision)         = 0.7647 \n",
      "F1 Score (F-Score)           = 0.7874 \n",
      "Especificidade (Specificity) = 0.7503"
     ]
    }
   ],
   "source": [
    "metricas_class(0, table(previsto = knn, referencia = dados_teste$classe), \"Métricas K-Nearest Neighbor\")"
   ]
  },
  {
   "cell_type": "code",
   "execution_count": 48,
   "metadata": {},
   "outputs": [
    {
     "data": {
      "image/png": "[encoded data removed]",
      "text/plain": [
       "Plot with title \"Curva ROC KNN\""
      ]
     },
     "metadata": {},
     "output_type": "display_data"
    }
   ],
   "source": [
    "# CURVA ROC E AREA UNDER CURVE - AUC\n",
    "prediction1 <- prediction(probabilidades, dados_teste$classe)\n",
    "tpr_fpr_knn <- performance(prediction1, \"tpr\",\"fpr\")\n",
    "auc_knn <- performance(prediction1, \"auc\")\n",
    "auc_knn <- round(unlist(slot(auc_knn, \"y.values\")), 2)\n",
    "\n",
    "options(repr.plot.width = 3.4, repr.plot.height = 4)\n",
    "plot(tpr_fpr_knn, col = rainbow(9), \n",
    "     xlab = \"Taxa de falso positivo\", \n",
    "     ylab = \"Taxa de verdadeiro positivo\",\n",
    "     main = \"Curva ROC KNN\", \n",
    "     cex.lab = .9,   \n",
    "     cex.main = .9,  \n",
    "     lwd = 2 )\n",
    "abline(a = 0, b = 1, lwd = 3, lty = 3, col = \"gray\")\n",
    "legend(0.4, 0.4, legend = c(paste0(\"AUC: \", auc_knn)), cex = 0.7, bty = \"n\", box.col = \"white\")"
   ]
  },
  {
   "cell_type": "markdown",
   "metadata": {},
   "source": [
    "#### NAIVE BAYES"
   ]
  },
  {
   "cell_type": "code",
   "execution_count": 49,
   "metadata": {},
   "outputs": [],
   "source": [
    "nb <- naiveBayes(classe ~ ip + app + dispositivo + so + canal, dados_treino, laplace = 1)"
   ]
  },
  {
   "cell_type": "code",
   "execution_count": 50,
   "metadata": {},
   "outputs": [],
   "source": [
    "# PREVISÃO DAS CLASSES\n",
    "prev_nb <- predict(nb, dados_teste, type = \"class\")"
   ]
  },
  {
   "cell_type": "code",
   "execution_count": 51,
   "metadata": {},
   "outputs": [],
   "source": [
    "# PREVISÃO DAS PROBABILIDADES DAS CLASSES\n",
    "prev_nb_prob <- predict(nb, dados_teste, type = \"raw\")"
   ]
  },
  {
   "cell_type": "code",
   "execution_count": 52,
   "metadata": {},
   "outputs": [
    {
     "data": {
      "text/plain": [
       "Confusion Matrix and Statistics\n",
       "\n",
       "          Reference\n",
       "Prediction     0     1\n",
       "         0 23469  3976\n",
       "         1   531 20024\n",
       "                                               \n",
       "               Accuracy : 0.9061               \n",
       "                 95% CI : (0.9035, 0.9087)     \n",
       "    No Information Rate : 0.5                  \n",
       "    P-Value [Acc > NIR] : < 0.00000000000000022\n",
       "                                               \n",
       "                  Kappa : 0.8122               \n",
       "                                               \n",
       " Mcnemar's Test P-Value : < 0.00000000000000022\n",
       "                                               \n",
       "            Sensitivity : 0.9779               \n",
       "            Specificity : 0.8343               \n",
       "         Pos Pred Value : 0.8551               \n",
       "         Neg Pred Value : 0.9742               \n",
       "             Prevalence : 0.5000               \n",
       "         Detection Rate : 0.4889               \n",
       "   Detection Prevalence : 0.5718               \n",
       "      Balanced Accuracy : 0.9061               \n",
       "                                               \n",
       "       'Positive' Class : 0                    \n",
       "                                               "
      ]
     },
     "metadata": {},
     "output_type": "display_data"
    }
   ],
   "source": [
    "confusionMatrix(prev_nb, dados_teste$classe)"
   ]
  },
  {
   "cell_type": "code",
   "execution_count": 53,
   "metadata": {},
   "outputs": [
    {
     "name": "stdout",
     "output_type": "stream",
     "text": [
      "Métricas Naive Bayes \n",
      " \n",
      "Acuracia (Accuracy)          = 0.9061 \n",
      "Recall (Sensitivity)         = 0.9779 \n",
      "Precisao (Precision)         = 0.8551 \n",
      "F1 Score (F-Score)           = 0.9124 \n",
      "Especificidade (Specificity) = 0.8343"
     ]
    }
   ],
   "source": [
    "metricas_class(0, table(previsto = prev_nb, referencia = dados_teste$classe), \"Métricas Naive Bayes\")"
   ]
  },
  {
   "cell_type": "code",
   "execution_count": 54,
   "metadata": {},
   "outputs": [
    {
     "data": {
      "image/png": "[encoded data removed]",
      "text/plain": [
       "Plot with title \"Curva ROC Naive Bayes\""
      ]
     },
     "metadata": {},
     "output_type": "display_data"
    }
   ],
   "source": [
    "# CURVA ROC E AREA UNDER CURVE - AUC\n",
    "prediction2 <- prediction(prev_nb_prob[, 2], dados_teste$classe)\n",
    "tpr_fpr_nb <- performance(prediction2, \"tpr\",\"fpr\")\n",
    "auc_nb <- performance(prediction2, \"auc\")\n",
    "auc_nb <- round(unlist(slot(auc_nb, \"y.values\")), 2)\n",
    "\n",
    "options(repr.plot.width = 3.4, repr.plot.height = 4)\n",
    "plot(tpr_fpr_nb, col = rainbow(9), \n",
    "     xlab = \"Taxa de falso positivo\", \n",
    "     ylab = \"Taxa de verdadeiro positivo\",\n",
    "     main = \"Curva ROC Naive Bayes\", \n",
    "     cex.lab = .9,   \n",
    "     cex.main = .9,  \n",
    "     lwd = 2 )\n",
    "abline(a = 0, b = 1, lwd = 3, lty = 3, col = \"gray\")\n",
    "legend(0.4, 0.4, legend = c(paste0(\"AUC: \", auc_nb)), cex = 0.7, bty = \"n\", box.col = \"white\")"
   ]
  },
  {
   "cell_type": "markdown",
   "metadata": {},
   "source": [
    "#### CONCLUSÃO"
   ]
  },
  {
   "cell_type": "markdown",
   "metadata": {},
   "source": [
    "As amostras coletadas do dataset train.csv permitiram a montagem de um dataset para treino e teste de forma balanceada com os dados originais sem que fosse necessário recorrer à funções que gerassem dados sintéticos. Como o dataset train.csv do Kaggle possui em sua maioria instâncias da classe 0 (aplicativo não baixado) sendo quase 100% do dataset, foi realizada a coleta de dados de cada classe para que um dataset fosse montado de forma balanceada.\n",
    "\n",
    "Na etapa de aprendizado foram utilizados os algoritmos Extreme Gradient Boosting (XGBoost), K-Nearest Neighbor (K-NN) e Naive Bayes. O XGBoost obteve o melhor resultado.\n",
    "\n",
    "Resultados do XGBoost:\n",
    "\n",
    "- O modelo atingiu uma **acurácia de 0.9209**. Das 48.000 instâncias do dataset de teste, o modelo classificou corretamente 44.202.\n",
    "- O modelo acertou 23.131 e errou 869 da soma entre verdadeiros positivos e falsos negativos, obtendo um **recall de 0.9638**, o que é importante para o problema, pois é importante minimizar os falsos negativos para que seus IPs não sejam colocados na lista negra.\n",
    "- Quanto a classe positiva, o modelo acertou 23.131 (verdadeiros positivos) do total de verdadeiros positivos somados a falsos positivos. Uma **precisão de 0.8878**. A precisão mostra a proporção de classificação correta da classe positiva dentre todos preditos como positivos. \n",
    "- Quanto a classe negativa, o modelo acertou 21.071 (verdadeiros negativos) do total de verdadeiros negativos somados a falsos positivos. Uma **especificidade de 0.878**. A especificidade mostra a capacidade do modelo de detectar resultados verdadeiros negativos. Por outro lado, tem-se o recall com **0.9638**, que mostra a capacidade do método de detectar resultados verdadeiros positivos.\n",
    "- A **média harmônica** entre precisão e recall foi de **0.9241**.\n",
    "- A curva ROC com seus dois parâmetros, taxa de verdadeiro positivo (sensibilidade) e taxa de falso positivo ou probabilidade de alarme falso (1 — Specificity), mostrou que o desempenho do modelo com XGBoost foi bom com um **AUC de 0.97**."
   ]
  }
 ],
 "metadata": {
  "kernelspec": {
   "display_name": "R",
   "language": "R",
   "name": "ir"
  },
  "language_info": {
   "codemirror_mode": "r",
   "file_extension": ".r",
   "mimetype": "text/x-r-source",
   "name": "R",
   "pygments_lexer": "r",
   "version": "3.6.1"
  }
 },
 "nbformat": 4,
 "nbformat_minor": 4
}
