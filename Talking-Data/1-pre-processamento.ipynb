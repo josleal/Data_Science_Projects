{
 "cells": [
  {
   "cell_type": "markdown",
   "metadata": {},
   "source": [
    "### <div style=\"text-align: justify;\">PROJETO: DETECÇÃO DE FRAUDES NO TRÁFEGO DE CLIQUES EM PROPAGANDAS DE APLICAÇÕES MOBILE - TALKINGDATA</div>"
   ]
  },
  {
   "cell_type": "markdown",
   "metadata": {},
   "source": [
    "### DESCRIÇÃO DOS DADOS\n",
    "\n",
    "Dados de Treino:\n",
    "\n",
    "Cada linha dos dados de treinamento contém um registro de cliques, com os seguintes recursos.\n",
    "\n",
    "- ip --> **ip**: ip endereço de clique.\n",
    "- app --> **app**: id de aplicativo para marketing.\n",
    "- device --> **dispositivo**: identificação do tipo de dispositivo do celular do usuário (por exemplo, iphone 6 plus, iphone 7, huawei mate 7, etc.)\n",
    "- os --> **os**: id versão do sistema operacional do celular do usuário\n",
    "- channel --> **canal**: id do canal da editora de anúncios móveis\n",
    "- click-time --> **horario_clique**: fuso de hora em hora (UTC)\n",
    "- attributed-time --> **horario_download**: se o usuário baixar o aplicativo para depois de clicar em um anúncio, esta é a hora do download do aplicativo\n",
    "- is-attributed --> **classe**: o alvo a ser previsto, indicando que o aplicativo foi baixado (não fraude = 1) ou não baixado (fraude = 0).\n",
    "\n",
    "Os dados do teste são semelhantes, com as seguintes diferenças:\n",
    "\n",
    "- click-id: referência para fazer previsões\n",
    "- is-attributed: não incluído"
   ]
  },
  {
   "cell_type": "markdown",
   "metadata": {},
   "source": [
    "### PRÉ-PROCESSAMENTO "
   ]
  },
  {
   "cell_type": "markdown",
   "metadata": {},
   "source": [
    "#### CARREGAR BIBLIOTECAS"
   ]
  },
  {
   "cell_type": "code",
   "execution_count": 1,
   "metadata": {},
   "outputs": [],
   "source": [
    "# DESATIVAR MENSAGENS DE WARNINGS (warn = -1) E ATIVAR (warn = 0)\n",
    "options(warn = -1)"
   ]
  },
  {
   "cell_type": "code",
   "execution_count": 2,
   "metadata": {},
   "outputs": [],
   "source": [
    "# CARREGAR BIBLIOTECAS \n",
    "suppressPackageStartupMessages({\n",
    "library(data.table)\n",
    "library(dplyr)  \n",
    "library(readr)\n",
    "})"
   ]
  },
  {
   "cell_type": "markdown",
   "metadata": {},
   "source": [
    "#### DADOS TREINO"
   ]
  },
  {
   "cell_type": "code",
   "execution_count": 3,
   "metadata": {},
   "outputs": [
    {
     "data": {
      "text/html": [
       "<table>\n",
       "<thead><tr><th></th><th scope=col>used</th><th scope=col>(Mb)</th><th scope=col>gc trigger</th><th scope=col>(Mb)</th><th scope=col>max used</th><th scope=col>(Mb)</th></tr></thead>\n",
       "<tbody>\n",
       "\t<tr><th scope=row>Ncells</th><td>  658410</td><td> 35.2   </td><td> 1370228</td><td> 73.2   </td><td> 1370228</td><td> 73.2   </td></tr>\n",
       "\t<tr><th scope=row>Vcells</th><td>46136483</td><td>352.0   </td><td>69642036</td><td>531.4   </td><td>46711952</td><td>356.4   </td></tr>\n",
       "</tbody>\n",
       "</table>\n"
      ],
      "text/latex": [
       "\\begin{tabular}{r|llllll}\n",
       "  & used & (Mb) & gc trigger & (Mb) & max used & (Mb)\\\\\n",
       "\\hline\n",
       "\tNcells &   658410 &  35.2    &  1370228 &  73.2    &  1370228 &  73.2   \\\\\n",
       "\tVcells & 46136483 & 352.0    & 69642036 & 531.4    & 46711952 & 356.4   \\\\\n",
       "\\end{tabular}\n"
      ],
      "text/markdown": [
       "\n",
       "| <!--/--> | used | (Mb) | gc trigger | (Mb) | max used | (Mb) |\n",
       "|---|---|---|---|---|---|---|\n",
       "| Ncells |   658410 |  35.2    |  1370228 |  73.2    |  1370228 |  73.2    |\n",
       "| Vcells | 46136483 | 352.0    | 69642036 | 531.4    | 46711952 | 356.4    |\n",
       "\n"
      ],
      "text/plain": [
       "       used     (Mb)  gc trigger (Mb)  max used (Mb) \n",
       "Ncells   658410  35.2  1370228    73.2  1370228  73.2\n",
       "Vcells 46136483 352.0 69642036   531.4 46711952 356.4"
      ]
     },
     "metadata": {},
     "output_type": "display_data"
    },
    {
     "data": {
      "text/html": [
       "9999999999"
      ],
      "text/latex": [
       "9999999999"
      ],
      "text/markdown": [
       "9999999999"
      ],
      "text/plain": [
       "[1] 1e+10"
      ]
     },
     "metadata": {},
     "output_type": "display_data"
    }
   ],
   "source": [
    "gc()\n",
    "memory.limit(9999999999)"
   ]
  },
  {
   "cell_type": "code",
   "execution_count": 4,
   "metadata": {},
   "outputs": [],
   "source": [
    "# # CARREGAR DADOS DE TREINO DISPONIBILIZADOS NO KAGGLE \n",
    "train_csv <- fread(\"train.csv\", encoding = \"UTF-8\")"
   ]
  },
  {
   "cell_type": "code",
   "execution_count": 5,
   "metadata": {},
   "outputs": [],
   "source": [
    "# RENOMEAR COLUNAS DATASET\n",
    "names(train_csv) <- c(\"ip\", \"app\", \"dispositivo\", \"so\", \"canal\", \"horario_clique\", \"horario_download\", \"classe\")"
   ]
  },
  {
   "cell_type": "code",
   "execution_count": 6,
   "metadata": {},
   "outputs": [
    {
     "data": {
      "text/html": [
       "<table>\n",
       "<thead><tr><th></th><th scope=col>used</th><th scope=col>(Mb)</th><th scope=col>gc trigger</th><th scope=col>(Mb)</th><th scope=col>max used</th><th scope=col>(Mb)</th></tr></thead>\n",
       "<tbody>\n",
       "\t<tr><th scope=row>Ncells</th><td>    673518</td><td>  36      </td><td>   1370228</td><td>   73.2   </td><td>   1370228</td><td>  73.2    </td></tr>\n",
       "\t<tr><th scope=row>Vcells</th><td>1062855864</td><td>8109      </td><td>1386691235</td><td>10579.7   </td><td>1062999608</td><td>8110.1    </td></tr>\n",
       "</tbody>\n",
       "</table>\n"
      ],
      "text/latex": [
       "\\begin{tabular}{r|llllll}\n",
       "  & used & (Mb) & gc trigger & (Mb) & max used & (Mb)\\\\\n",
       "\\hline\n",
       "\tNcells &     673518 &   36       &    1370228 &    73.2    &    1370228 &   73.2    \\\\\n",
       "\tVcells & 1062855864 & 8109       & 1386691235 & 10579.7    & 1062999608 & 8110.1    \\\\\n",
       "\\end{tabular}\n"
      ],
      "text/markdown": [
       "\n",
       "| <!--/--> | used | (Mb) | gc trigger | (Mb) | max used | (Mb) |\n",
       "|---|---|---|---|---|---|---|\n",
       "| Ncells |     673518 |   36       |    1370228 |    73.2    |    1370228 |   73.2     |\n",
       "| Vcells | 1062855864 | 8109       | 1386691235 | 10579.7    | 1062999608 | 8110.1     |\n",
       "\n"
      ],
      "text/plain": [
       "       used       (Mb) gc trigger (Mb)    max used   (Mb)  \n",
       "Ncells     673518   36    1370228    73.2    1370228   73.2\n",
       "Vcells 1062855864 8109 1386691235 10579.7 1062999608 8110.1"
      ]
     },
     "metadata": {},
     "output_type": "display_data"
    }
   ],
   "source": [
    "gc()"
   ]
  },
  {
   "cell_type": "markdown",
   "metadata": {},
   "source": [
    "#### COLETA  DAS  AMOSTRAS E FORMAÇÃO DA BASE DE DADOS"
   ]
  },
  {
   "cell_type": "markdown",
   "metadata": {},
   "source": [
    "<p>\n",
    "<div style=\"text-align: justify;\">\n",
    "Formação da base de dados a partir de amostras coletadas a partir da base de dados disponibilizada no Kaggle. Utilizou-se a função sample_n() para coletar amostras de mesma quantidade para as duas classes. No total, a base formada para este experimento foi de 240.000 observações balanceadas.\n",
    "</div>\n",
    "</p>"
   ]
  },
  {
   "cell_type": "code",
   "execution_count": 7,
   "metadata": {},
   "outputs": [],
   "source": [
    "set.seed(1908)"
   ]
  },
  {
   "cell_type": "code",
   "execution_count": 8,
   "metadata": {},
   "outputs": [
    {
     "name": "stdout",
     "output_type": "stream",
     "text": [
      "Rows: 120,000\n",
      "Columns: 8\n",
      "$ ip               <int> 360958, 4414, 101455, 363652, 277861, 73933, 79827, 1~\n",
      "$ app              <int> 45, 127, 9, 10, 19, 12, 19, 35, 14, 35, 96, 29, 10, 1~\n",
      "$ dispositivo      <int> 1, 0, 1, 1, 0, 1, 0, 1, 1, 1, 6, 1, 1, 1, 1, 0, 1, 0,~\n",
      "$ so               <int> 26, 24, 19, 36, 24, 13, 0, 16, 43, 13, 29, 13, 11, 30~\n",
      "$ canal            <int> 5, 213, 127, 113, 213, 178, 347, 21, 460, 21, 213, 21~\n",
      "$ horario_clique   <dttm> 2017-11-09 06:06:01, 2017-11-07 06:26:01, 2017-11-09~\n",
      "$ horario_download <dttm> 2017-11-09 06:06:07, 2017-11-07 06:28:18, 2017-11-09~\n",
      "$ classe           <int> 1, 1, 1, 1, 1, 1, 1, 1, 1, 1, 1, 1, 1, 1, 1, 1, 1, 1,~\n"
     ]
    }
   ],
   "source": [
    "# 1 - COLETAR AMOSTRA DE DADOS DE CLIQUES QUE BAIXARAM O APLICATIVO \n",
    "treino_baixado <- sample_n(train_csv[train_csv$classe == 1,], size = 120000)\n",
    "glimpse(treino_baixado)"
   ]
  },
  {
   "cell_type": "code",
   "execution_count": 9,
   "metadata": {},
   "outputs": [
    {
     "name": "stdout",
     "output_type": "stream",
     "text": [
      "Rows: 120,000\n",
      "Columns: 8\n",
      "$ ip               <int> 153289, 42186, 65295, 105475, 1206, 81574, 70327, 118~\n",
      "$ app              <int> 15, 9, 64, 15, 1, 8, 3, 3, 8, 12, 26, 20, 14, 6, 6, 1~\n",
      "$ dispositivo      <int> 1, 1, 1, 1, 1, 1, 1, 1, 1, 1, 1, 1, 1, 1, 1, 1, 1, 0,~\n",
      "$ so               <int> 13, 8, 32, 20, 19, 19, 19, 20, 19, 19, 6, 19, 12, 41,~\n",
      "$ canal            <int> 245, 334, 459, 3, 349, 145, 489, 205, 145, 19, 477, 2~\n",
      "$ horario_clique   <dttm> 2017-11-07 11:44:09, 2017-11-07 23:53:39, 2017-11-07~\n",
      "$ horario_download <dttm> NA, NA, NA, NA, NA, NA, NA, NA, NA, NA, NA, NA, NA, ~\n",
      "$ classe           <int> 0, 0, 0, 0, 0, 0, 0, 0, 0, 0, 0, 0, 0, 0, 0, 0, 0, 0,~\n"
     ]
    }
   ],
   "source": [
    "# 2 - COLETAR AMOSTRA DE DADOS DE CLIQUES QUE NÃO BAIXARAM O APLICATIVO \n",
    "treino_naobaixado <- sample_n(train_csv[train_csv$classe == 0,], size = 120000)\n",
    "glimpse(treino_naobaixado)"
   ]
  },
  {
   "cell_type": "code",
   "execution_count": 10,
   "metadata": {},
   "outputs": [
    {
     "name": "stdout",
     "output_type": "stream",
     "text": [
      "Rows: 240,000\n",
      "Columns: 8\n",
      "$ ip               <int> 159048, 191117, 10833, 113682, 6534, 130391, 286692, ~\n",
      "$ app              <int> 39, 18, 20, 6, 9, 10, 190, 19, 12, 19, 8, 12, 3, 10, ~\n",
      "$ dispositivo      <int> 1, 1, 1, 1, 1, 1, 1, 129, 1, 0, 1, 1, 1, 1, 1, 0, 1, ~\n",
      "$ so               <int> 14, 10, 10, 17, 13, 61, 18, 24, 32, 24, 19, 13, 19, 7~\n",
      "$ canal            <int> 213, 376, 259, 459, 489, 113, 213, 213, 259, 213, 145~\n",
      "$ horario_clique   <dttm> 2017-11-07 02:49:38, 2017-11-07 08:10:07, 2017-11-07~\n",
      "$ horario_download <dttm> 2017-11-07 02:54:44, NA, NA, NA, NA, 2017-11-07 02:4~\n",
      "$ classe           <int> 1, 0, 0, 0, 0, 1, 1, 1, 0, 1, 1, 0, 0, 1, 0, 1, 1, 0,~\n"
     ]
    }
   ],
   "source": [
    "# 3 - COMBINAR OS DADOS PARA CRIAR UM DATASET BALANCEADO\n",
    "df_talking_data <- rbind(treino_baixado, treino_naobaixado)\n",
    "df_talking_data <- df_talking_data[sample(1:nrow(df_talking_data)), ]\n",
    "glimpse(df_talking_data)"
   ]
  },
  {
   "cell_type": "code",
   "execution_count": 11,
   "metadata": {},
   "outputs": [],
   "source": [
    "# SALVAR DATASET\n",
    "write_csv(df_talking_data, \"df-talking-data.csv\")"
   ]
  },
  {
   "cell_type": "markdown",
   "metadata": {},
   "source": [
    "Nas etapas acima foram realizadas:\n",
    "\n",
    "- Carregamento do dataset original train.csv do Kaggle;\n",
    "- <div style=\"text-align: justify;\">Coleta de uma amostra de dados de cliques que baixaram e não baixaram o aplicativo. Foram coletados 120.000 observações de cada classe a partir do dataset train.csv;</div>\n",
    "- Coleta de amostra dos dados de cliques (treino_baixado) que baixaram o aplicativo;\n",
    "- Coleta de amostra de dados de cliques (treino_naobaixado) que não baixaram o aplicativo;\n",
    "- Por fim, a união das amostras e formação do dataset (df_talking_data.csv) utilizado no experimento."
   ]
  }
 ],
 "metadata": {
  "kernelspec": {
   "display_name": "R",
   "language": "R",
   "name": "ir"
  },
  "language_info": {
   "codemirror_mode": "r",
   "file_extension": ".r",
   "mimetype": "text/x-r-source",
   "name": "R",
   "pygments_lexer": "r",
   "version": "3.6.1"
  }
 },
 "nbformat": 4,
 "nbformat_minor": 4
}
