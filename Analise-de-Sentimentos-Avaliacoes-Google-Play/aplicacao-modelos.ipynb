{
 "cells": [
  {
   "cell_type": "markdown",
   "id": "a0fcd5d6",
   "metadata": {},
   "source": [
    "### PREVISÃO COM NOVOS DADOS \n",
    "\n",
    "#### ESCOLHA O TIPO DE VETORIZAÇÃO E O MODELO E EXECUTE. OS MODELOS XGBOOST E NAYVE BAYES OBTIVERAM OS MELHORES DESEMPENHOS. AO EXECUTAR O SCRIPT BASTA INSERIR SEU COMENTÁRIO NO CAMPO INDICADO."
   ]
  },
  {
   "cell_type": "code",
   "execution_count": 1,
   "id": "5e2ca3f7",
   "metadata": {},
   "outputs": [],
   "source": [
    "import warnings\n",
    "warnings.filterwarnings('ignore')"
   ]
  },
  {
   "cell_type": "code",
   "execution_count": 2,
   "id": "5215fc20",
   "metadata": {},
   "outputs": [],
   "source": [
    "import Funcoes as fc\n",
    "from joblib import dump, load"
   ]
  },
  {
   "cell_type": "markdown",
   "id": "68f017c3",
   "metadata": {},
   "source": [
    "### APLICAÇÃO DO MODELO"
   ]
  },
  {
   "cell_type": "code",
   "execution_count": 3,
   "id": "39881459",
   "metadata": {},
   "outputs": [
    {
     "name": "stdout",
     "output_type": "stream",
     "text": [
      "INSIRA O COMENTÁRIO E CONFIRME COM ENTER\n",
      "\n",
      "COMENTÁRIO: Aplicativo trava demais. \n",
      "\n",
      "RESULTADO:\n",
      "Sentimento negativo\n"
     ]
    }
   ],
   "source": [
    "# INPUT TEXTO\n",
    "texto = input(\"INSIRA O COMENTÁRIO E CONFIRME COM ENTER\\n\\nCOMENTÁRIO: \")\n",
    "\n",
    "# FUNÇÕES DE PRÉ-PROCESSAMENTO\n",
    "texto =  fc.RemoveCaracter(texto)\n",
    "\n",
    "texto =  fc.Correcao1(texto)               \n",
    "texto =  fc.Correcao2(texto)              \n",
    "texto =  fc.RemoveLetras(texto)         \n",
    "texto =  fc.RemoveStopwords(texto)         \n",
    "texto =  fc.Lematizacao(texto)            \n",
    "\n",
    "count_vectorizer = load('count-vectorizer.pkl') # TIPO DE VETORIZAÇÃO\n",
    "texto = count_vectorizer.transform([texto])\n",
    "\n",
    "# PREDIÇÃO\n",
    "# CARREGAR MODELO\n",
    "modelo = load('xgbCV.pkl') # MODELO \n",
    "previsao = modelo.predict(texto)\n",
    "if previsao[0] == 1:\n",
    "    previsao = \"negativo\"\n",
    "    print(f\"\\nRESULTADO:\\nSentimento {previsao.lower()}\")\n",
    "elif previsao[0] == 0:\n",
    "    previsao = \"positivo\"\n",
    "    print(f\"\\nRESULTADO:\\nSentimento {previsao.lower()}\")\n",
    "else:\n",
    "    print(f\"\\nRESULTADO:\\nSentimento {previsao[0][0:].lower()}\")"
   ]
  }
 ],
 "metadata": {
  "kernelspec": {
   "display_name": "Python 3 (ipykernel)",
   "language": "python",
   "name": "python3"
  },
  "language_info": {
   "codemirror_mode": {
    "name": "ipython",
    "version": 3
   },
   "file_extension": ".py",
   "mimetype": "text/x-python",
   "name": "python",
   "nbconvert_exporter": "python",
   "pygments_lexer": "ipython3",
   "version": "3.10.9"
  }
 },
 "nbformat": 4,
 "nbformat_minor": 5
}
