{
 "cells": [
  {
   "cell_type": "markdown",
   "id": "461f4937",
   "metadata": {},
   "source": [
    "### 2 - PRE - PROCESSAMENTO - BAG OF WORDS, VETORIZAÇÃO E SELEÇÃO DE CARACTERÍSTICAS"
   ]
  },
  {
   "cell_type": "code",
   "execution_count": 1,
   "id": "0759fbe9",
   "metadata": {},
   "outputs": [],
   "source": [
    "import warnings\n",
    "warnings.filterwarnings('ignore')"
   ]
  },
  {
   "cell_type": "code",
   "execution_count": 2,
   "id": "2ca09c93",
   "metadata": {},
   "outputs": [],
   "source": [
    "import pandas as pd"
   ]
  },
  {
   "cell_type": "code",
   "execution_count": 3,
   "id": "ea05880c",
   "metadata": {},
   "outputs": [],
   "source": [
    "# CARREGANDO ARQUIVO\n",
    "df_content_binario = pd.read_csv('df-content-binario.csv')"
   ]
  },
  {
   "cell_type": "markdown",
   "id": "36a4c69f",
   "metadata": {},
   "source": [
    "####  BAG OF WORDS E VETORIZAÇÃO: COUNT VECTORIZER"
   ]
  },
  {
   "cell_type": "code",
   "execution_count": 4,
   "id": "5fb1fba9",
   "metadata": {},
   "outputs": [],
   "source": [
    "from sklearn.feature_extraction.text import CountVectorizer\n",
    "from sklearn.feature_extraction.text import TfidfTransformer\n",
    "from joblib import dump, load"
   ]
  },
  {
   "cell_type": "code",
   "execution_count": 5,
   "id": "78f0116d",
   "metadata": {},
   "outputs": [],
   "source": [
    "# CRIANDO BAG OF WORDS\n",
    "count_vectorizer = CountVectorizer(ngram_range = (1,1))\n",
    "matriz = count_vectorizer.fit_transform(df_content_binario.passo6)"
   ]
  },
  {
   "cell_type": "code",
   "execution_count": 6,
   "id": "45bdc49d",
   "metadata": {},
   "outputs": [
    {
     "data": {
      "text/plain": [
       "['ab',\n",
       " 'abacate',\n",
       " 'abache',\n",
       " 'abachei',\n",
       " 'abagem',\n",
       " 'abaicha',\n",
       " 'abaixar',\n",
       " 'abaju',\n",
       " 'abajur',\n",
       " 'abalar',\n",
       " 'abanar',\n",
       " 'abandoba',\n",
       " 'abandonar',\n",
       " 'abandonoram',\n",
       " 'abar',\n",
       " 'abastecer',\n",
       " 'abastecimento',\n",
       " 'abater',\n",
       " 'abatery',\n",
       " 'abatimento']"
      ]
     },
     "execution_count": 6,
     "metadata": {},
     "output_type": "execute_result"
    }
   ],
   "source": [
    "variaveis = count_vectorizer.get_feature_names()\n",
    "variaveis[:20] # VISUALIZAR AS 20 PRIMEIRAS VARIÁVEIS"
   ]
  },
  {
   "cell_type": "code",
   "execution_count": 7,
   "id": "31ba2fc3",
   "metadata": {},
   "outputs": [
    {
     "data": {
      "text/plain": [
       "{'promocao': 21314,\n",
       " 'cartao': 4035,\n",
       " 'anuidade': 1218,\n",
       " 'enviar': 9884,\n",
       " 'email': 9182,\n",
       " 'tentar': 25650,\n",
       " 'fazer': 11397,\n",
       " 'comprar': 5255,\n",
       " 'nao': 17587,\n",
       " 'conseguir': 5725,\n",
       " 'liquidificador': 15526,\n",
       " 'utilizar': 26842,\n",
       " 'restar': 23205,\n",
       " 'desinstalar': 7652,\n",
       " 'app': 1455,\n",
       " 'verdadeiramente': 27231,\n",
       " 'piar': 19990,\n",
       " 'preco': 20741,\n",
       " 'exorbitante': 10912,\n",
       " 'produto': 21201}"
      ]
     },
     "execution_count": 7,
     "metadata": {},
     "output_type": "execute_result"
    }
   ],
   "source": [
    "vocabulario = count_vectorizer.vocabulary_\n",
    "dict(list(vocabulario.items())[:20]) # VISUALIZAR AS 20 PRIMEIRAS PALAVRAS DO VOCABULÁRIO"
   ]
  },
  {
   "cell_type": "code",
   "execution_count": 8,
   "id": "68fd2867",
   "metadata": {},
   "outputs": [
    {
     "name": "stdout",
     "output_type": "stream",
     "text": [
      "[[0 0 0 ... 0 0 0]\n",
      " [0 0 0 ... 0 0 0]\n",
      " [0 0 0 ... 0 0 0]\n",
      " ...\n",
      " [0 0 0 ... 0 0 0]\n",
      " [0 0 0 ... 0 0 0]\n",
      " [0 0 0 ... 0 0 0]]\n"
     ]
    }
   ],
   "source": [
    "print(matriz[0:10].toarray())"
   ]
  },
  {
   "cell_type": "code",
   "execution_count": 9,
   "id": "361b1b40",
   "metadata": {},
   "outputs": [
    {
     "data": {
      "text/plain": [
       "(211593, 28123)"
      ]
     },
     "execution_count": 9,
     "metadata": {},
     "output_type": "execute_result"
    }
   ],
   "source": [
    "matriz.shape"
   ]
  },
  {
   "cell_type": "markdown",
   "id": "55ad23f6",
   "metadata": {},
   "source": [
    "### 3 - SELEÇÃO DE VARIÁVEIS"
   ]
  },
  {
   "cell_type": "code",
   "execution_count": 10,
   "id": "ad12f842",
   "metadata": {},
   "outputs": [],
   "source": [
    "from sklearn.feature_selection import SelectKBest, chi2"
   ]
  },
  {
   "cell_type": "code",
   "execution_count": 11,
   "id": "eef4435c",
   "metadata": {},
   "outputs": [
    {
     "data": {
      "text/plain": [
       "<211593x20000 sparse matrix of type '<class 'numpy.int64'>'\n",
       "\twith 1892257 stored elements in Compressed Sparse Row format>"
      ]
     },
     "execution_count": 11,
     "metadata": {},
     "output_type": "execute_result"
    }
   ],
   "source": [
    "# SELEÇÃO DE K VARIÁVEIS\n",
    "selectkbest = SelectKBest(chi2, k = 20000)\n",
    "selectkbest.fit_transform(matriz, df_content_binario.sentimento)"
   ]
  },
  {
   "cell_type": "code",
   "execution_count": 12,
   "id": "ac63e047",
   "metadata": {},
   "outputs": [],
   "source": [
    "# EXTRAÇÃO DO ÍNDICE DE COLUNA DAS MELHORES VARIÁVEIS\n",
    "indices = selectkbest.get_support(indices = True)"
   ]
  },
  {
   "cell_type": "code",
   "execution_count": 13,
   "id": "5a987cbc",
   "metadata": {},
   "outputs": [
    {
     "data": {
      "text/plain": [
       "['abacate',\n",
       " 'abaixar',\n",
       " 'abajur',\n",
       " 'abanar',\n",
       " 'abandonar',\n",
       " 'abar',\n",
       " 'abastecer',\n",
       " 'abastecimento',\n",
       " 'abatimento',\n",
       " 'abelhar']"
      ]
     },
     "execution_count": 13,
     "metadata": {},
     "output_type": "execute_result"
    }
   ],
   "source": [
    "# CRIAÇÃO DE UMA LISTA COM O NOME DAS MELHORES VARIÁVEIS \n",
    "melhores_variaveis = [variaveis[x] for x in indices]\n",
    "melhores_variaveis[0:10]"
   ]
  },
  {
   "cell_type": "code",
   "execution_count": 14,
   "id": "ee05b21c",
   "metadata": {},
   "outputs": [],
   "source": [
    "# CRIAÇÃO DE UMA LISTA COM AS VARIÁVEIS DO VOCABULÁRIO INICIAL\n",
    "variaveis_iniciais = [i for i in vocabulario]"
   ]
  },
  {
   "cell_type": "code",
   "execution_count": 15,
   "id": "4383959c",
   "metadata": {},
   "outputs": [],
   "source": [
    "# CRIAÇÃO DE UMA LISTA PARA DESCARTE DAS VARIÁVEIS IRRELEVANTES\n",
    "variaveis_descarte = [x for x in variaveis_iniciais if x not in melhores_variaveis]"
   ]
  },
  {
   "cell_type": "code",
   "execution_count": 16,
   "id": "bd08903f",
   "metadata": {},
   "outputs": [],
   "source": [
    "# CRIAÇÃO DE UM NOVO COUNT VECTORIZER APÓS SELEÇÃO DE VARIÁVEIS\n",
    "count_vectorizer_customizado = CountVectorizer(ngram_range = (1,1), stop_words = variaveis_descarte)\n",
    "matriz_customizada = count_vectorizer_customizado.fit_transform(df_content_binario.passo6)"
   ]
  },
  {
   "cell_type": "code",
   "execution_count": 17,
   "id": "13b39b63",
   "metadata": {},
   "outputs": [
    {
     "data": {
      "text/plain": [
       "['count_vectorizer.pkl']"
      ]
     },
     "execution_count": 17,
     "metadata": {},
     "output_type": "execute_result"
    }
   ],
   "source": [
    "# SALVAR MODELO COUNT VECTORIZER\n",
    "dump(count_vectorizer_customizado, 'count-vectorizer.pkl')"
   ]
  },
  {
   "cell_type": "markdown",
   "id": "d9c89461",
   "metadata": {},
   "source": [
    "### 4 - DIVISÃO DADOS DE TREINO E TESTE"
   ]
  },
  {
   "cell_type": "code",
   "execution_count": 18,
   "id": "5e74d2d7",
   "metadata": {},
   "outputs": [],
   "source": [
    "import numpy as np\n",
    "from sklearn.model_selection import train_test_split"
   ]
  },
  {
   "cell_type": "code",
   "execution_count": 19,
   "id": "56347fb5",
   "metadata": {},
   "outputs": [],
   "source": [
    "# SEPARAÇÃO BASE TREINO E TESTE \n",
    "xtreino, xteste, ytreino, yteste = train_test_split(df_content_binario.passo6, df_content_binario.sentimento, train_size = 0.7, random_state = 1)"
   ]
  },
  {
   "cell_type": "code",
   "execution_count": 20,
   "id": "a16c3947",
   "metadata": {},
   "outputs": [],
   "source": [
    "# SALVAR OS DADOS DE TREINO E TESTE\n",
    "xtreino.to_csv('xtreino.csv', index = False) \n",
    "xteste.to_csv('xteste.csv', index = False) \n",
    "ytreino.to_csv('ytreino.csv', index = False) \n",
    "yteste.to_csv('yteste.csv', index = False) "
   ]
  },
  {
   "cell_type": "code",
   "execution_count": 21,
   "id": "88c248aa",
   "metadata": {},
   "outputs": [],
   "source": [
    "# CARREGANDO DADOS DE TREINO E TESTE\n",
    "xtreino = pd.read_csv('xtreino.csv')\n",
    "xteste = pd.read_csv('xteste.csv') \n",
    "ytreino = pd.read_csv('ytreino.csv') \n",
    "yteste = pd.read_csv('yteste.csv') "
   ]
  },
  {
   "cell_type": "code",
   "execution_count": 22,
   "id": "8e6e5776",
   "metadata": {},
   "outputs": [],
   "source": [
    "ytreino = np.ravel(ytreino)\n",
    "yteste = np.ravel(yteste)"
   ]
  },
  {
   "cell_type": "code",
   "execution_count": 23,
   "id": "b5bd3b5a",
   "metadata": {},
   "outputs": [
    {
     "data": {
      "text/plain": [
       "array(['negativo', 'positivo', 'negativo', ..., 'positivo', 'positivo',\n",
       "       'negativo'], dtype=object)"
      ]
     },
     "execution_count": 23,
     "metadata": {},
     "output_type": "execute_result"
    }
   ],
   "source": [
    "yteste"
   ]
  },
  {
   "cell_type": "code",
   "execution_count": 24,
   "id": "2d357e84",
   "metadata": {},
   "outputs": [],
   "source": [
    "count_vectorizer_customizado = load('count-vectorizer.pkl')"
   ]
  },
  {
   "cell_type": "code",
   "execution_count": 25,
   "id": "2704964a",
   "metadata": {},
   "outputs": [],
   "source": [
    "# APLICAR O COUNT VECTORIZED\n",
    "xtreino = count_vectorizer_customizado.transform(xtreino.passo6)\n",
    "xteste = count_vectorizer_customizado.transform(xteste.passo6)"
   ]
  },
  {
   "cell_type": "code",
   "execution_count": 26,
   "id": "ffe0f69f",
   "metadata": {},
   "outputs": [
    {
     "data": {
      "text/plain": [
       "<148115x20000 sparse matrix of type '<class 'numpy.int64'>'\n",
       "\twith 1321882 stored elements in Compressed Sparse Row format>"
      ]
     },
     "execution_count": 26,
     "metadata": {},
     "output_type": "execute_result"
    }
   ],
   "source": [
    "xtreino"
   ]
  },
  {
   "cell_type": "code",
   "execution_count": 27,
   "id": "d494f58e",
   "metadata": {},
   "outputs": [
    {
     "data": {
      "text/plain": [
       "<63478x20000 sparse matrix of type '<class 'numpy.int64'>'\n",
       "\twith 570375 stored elements in Compressed Sparse Row format>"
      ]
     },
     "execution_count": 27,
     "metadata": {},
     "output_type": "execute_result"
    }
   ],
   "source": [
    "xteste"
   ]
  },
  {
   "cell_type": "markdown",
   "id": "8a250a07",
   "metadata": {},
   "source": [
    "### 5 - APRENDIZADO"
   ]
  },
  {
   "cell_type": "code",
   "execution_count": 28,
   "id": "d8344342",
   "metadata": {},
   "outputs": [],
   "source": [
    "import time\n",
    "import matplotlib.pyplot as plt\n",
    "from sklearn.tree import DecisionTreeClassifier\n",
    "from sklearn.neighbors import KNeighborsClassifier\n",
    "from sklearn.naive_bayes import MultinomialNB\n",
    "from xgboost import XGBClassifier\n",
    "from sklearn.model_selection import StratifiedKFold\n",
    "from sklearn.model_selection import GridSearchCV\n",
    "from sklearn.metrics import accuracy_score, roc_auc_score\n",
    "from sklearn.metrics import classification_report, confusion_matrix, plot_confusion_matrix"
   ]
  },
  {
   "cell_type": "markdown",
   "id": "ad6b8190",
   "metadata": {},
   "source": [
    "#### DECISION TREE"
   ]
  },
  {
   "cell_type": "code",
   "execution_count": null,
   "id": "2ff4fb1d",
   "metadata": {},
   "outputs": [],
   "source": [
    "# TREINO\n",
    "inicio = time.time()\n",
    "dtree = DecisionTreeClassifier()\n",
    "\n",
    "kfold = StratifiedKFold(n_splits = 10, shuffle = True, random_state = 1)\n",
    "param_grid1 = {\"criterion\": [\"gini\",\"entropy\"],\n",
    "               \"random_state\": [1]}\n",
    "\n",
    "# GRID SEARCH\n",
    "grid1 = GridSearchCV(estimator = dtree, \n",
    "                     param_grid = param_grid1, \n",
    "                     scoring = 'accuracy',\n",
    "                     n_jobs = None,\n",
    "                     refit = True,\n",
    "                     cv = kfold, \n",
    "                     verbose = 1,\n",
    "                     return_train_score = True)\n",
    "\n",
    "dtreeCV = grid1.fit(xtreino, ytreino)\n",
    "\n",
    "ac1 = dtreeCV.best_score_\n",
    "print(f\"Acurácia: {round(ac1*100, 2)}%\")\n",
    "fim = time.time()\n",
    "print(f\"Tempo de treino: {round((fim - inicio)/60, 2)} minutos\")\n",
    "print(\"\\nMelhores hiperparâmetros: \", dtreeCV.best_params_)"
   ]
  },
  {
   "cell_type": "code",
   "execution_count": 29,
   "id": "758a425d",
   "metadata": {},
   "outputs": [],
   "source": [
    "# CARREGAR MODELO\n",
    "dtreeCV = load('dtreeCV.pkl')"
   ]
  },
  {
   "cell_type": "code",
   "execution_count": 30,
   "id": "80caf4fb",
   "metadata": {},
   "outputs": [
    {
     "data": {
      "text/plain": [
       "{'criterion': 'entropy', 'random_state': 1}"
      ]
     },
     "execution_count": 30,
     "metadata": {},
     "output_type": "execute_result"
    }
   ],
   "source": [
    "dtreeCV.best_params_"
   ]
  },
  {
   "cell_type": "code",
   "execution_count": 31,
   "id": "1acff3da",
   "metadata": {},
   "outputs": [
    {
     "name": "stdout",
     "output_type": "stream",
     "text": [
      "Acurácia Teste Decision Tree Unigrama-CV: 90.23%\n",
      "Tempo de teste: 0.0 minutos\n",
      "\n",
      "Relatório:\n",
      "\n",
      "              precision    recall  f1-score   support\n",
      "\n",
      "    positivo       0.89      0.91      0.90     31558\n",
      "    negativo       0.91      0.89      0.90     31920\n",
      "\n",
      "    accuracy                           0.90     63478\n",
      "   macro avg       0.90      0.90      0.90     63478\n",
      "weighted avg       0.90      0.90      0.90     63478\n",
      "\n"
     ]
    },
    {
     "data": {
      "image/png": "[encoded data removed]",
      "text/plain": [
       "<Figure size 600x300 with 2 Axes>"
      ]
     },
     "metadata": {},
     "output_type": "display_data"
    }
   ],
   "source": [
    "# TESTE\n",
    "inicio = time.time()\n",
    "prev_dtreeCV = dtreeCV.predict(xteste)\n",
    "ac_dtreeCV = accuracy_score(prev_dtreeCV, yteste)\n",
    "print(f\"Acurácia Teste Decision Tree Unigrama-CV: {round(ac_dtreeCV*100, 2)}%\")\n",
    "fim = time.time()\n",
    "print(f\"Tempo de teste: {round((fim - inicio)/60, 2)} minutos\\n\\nRelatório:\\n\")\n",
    "print(classification_report(yteste, prev_dtreeCV, labels = [\"positivo\", \"negativo\"]))\n",
    "fig, axes = plt.subplots(figsize = (6, 3))\n",
    "plot_confusion_matrix(dtreeCV, xteste, yteste, labels= [\"positivo\", \"negativo\"], values_format = 'd', cmap = 'Blues', ax = axes)\n",
    "plt.savefig('cm-dtreeCV.png', format ='png', bbox_inches = 'tight')\n",
    "plt.show()"
   ]
  },
  {
   "cell_type": "code",
   "execution_count": 32,
   "id": "b9bb4407",
   "metadata": {},
   "outputs": [
    {
     "data": {
      "text/plain": [
       "['dtreeCV.pkl']"
      ]
     },
     "execution_count": 32,
     "metadata": {},
     "output_type": "execute_result"
    }
   ],
   "source": [
    "# SALVAR MODELO\n",
    "dump(dtreeCV, \"dtreeCV.pkl\")"
   ]
  },
  {
   "cell_type": "markdown",
   "id": "658c5266",
   "metadata": {},
   "source": [
    "#### K-NEAREST NEIGHBOR"
   ]
  },
  {
   "cell_type": "code",
   "execution_count": null,
   "id": "8e7ab74d",
   "metadata": {},
   "outputs": [],
   "source": [
    "# TREINO\n",
    "inicio = time.time()\n",
    "knn = KNeighborsClassifier()\n",
    "\n",
    "kfold = StratifiedKFold(n_splits = 10, shuffle = True, random_state = 1)\n",
    "param_grid2 = {\"n_neighbors\": [5,9,15,25,35],\n",
    "               \"weights\": [\"uniform\"],\n",
    "               \"algorithm\": [\"auto\"],\n",
    "               \"leaf_size\": [30],\n",
    "               \"p\": [2],\n",
    "               \"metric\": [\"minkowski\"]}\n",
    "\n",
    "# GRID SEARCH\n",
    "grid2 = GridSearchCV(estimator = knn, \n",
    "                     param_grid = param_grid2, \n",
    "                     scoring = 'accuracy',\n",
    "                     n_jobs = None,\n",
    "                     refit = True,\n",
    "                     cv = kfold, \n",
    "                     verbose = 1,\n",
    "                     return_train_score = True)\n",
    "\n",
    "knnCV = grid2.fit(xtreino, ytreino)\n",
    "\n",
    "ac2 = knnCV.best_score_\n",
    "print(f\"Acurácia: {round(ac2*100, 2)}%\")\n",
    "fim = time.time()\n",
    "print(f\"Tempo de treino: {round((fim - inicio)/60, 2)} minutos\")\n",
    "print(\"\\nMelhores hiperparâmetros: \", knnCV.best_params_)"
   ]
  },
  {
   "cell_type": "code",
   "execution_count": 33,
   "id": "086dae92",
   "metadata": {},
   "outputs": [],
   "source": [
    "# CARREGAR MODELO\n",
    "knnCV = load('knnCV.pkl')"
   ]
  },
  {
   "cell_type": "code",
   "execution_count": 34,
   "id": "fc06092c",
   "metadata": {},
   "outputs": [
    {
     "data": {
      "text/plain": [
       "{'algorithm': 'auto',\n",
       " 'leaf_size': 30,\n",
       " 'metric': 'minkowski',\n",
       " 'n_neighbors': 5,\n",
       " 'p': 2,\n",
       " 'weights': 'uniform'}"
      ]
     },
     "execution_count": 34,
     "metadata": {},
     "output_type": "execute_result"
    }
   ],
   "source": [
    "knnCV.best_params_"
   ]
  },
  {
   "cell_type": "code",
   "execution_count": 35,
   "id": "bf1429dd",
   "metadata": {},
   "outputs": [
    {
     "name": "stdout",
     "output_type": "stream",
     "text": [
      "Acurácia Teste KNN Unigrama-CV: 89.71%\n",
      "Tempo de teste: 6.48 minutos\n",
      "\n",
      "Relatório:\n",
      "\n",
      "              precision    recall  f1-score   support\n",
      "\n",
      "    positivo       0.87      0.94      0.90     31558\n",
      "    negativo       0.93      0.86      0.89     31920\n",
      "\n",
      "    accuracy                           0.90     63478\n",
      "   macro avg       0.90      0.90      0.90     63478\n",
      "weighted avg       0.90      0.90      0.90     63478\n",
      "\n"
     ]
    },
    {
     "data": {
      "image/png": "[encoded data removed]",
      "text/plain": [
       "<Figure size 600x300 with 2 Axes>"
      ]
     },
     "metadata": {},
     "output_type": "display_data"
    }
   ],
   "source": [
    "# TESTE\n",
    "inicio = time.time()\n",
    "prev_knnCV = knnCV.predict(xteste)\n",
    "ac_knnCV = accuracy_score(prev_knnCV, yteste)\n",
    "print(f\"Acurácia Teste KNN Unigrama-CV: {round(ac_knnCV*100, 2)}%\")\n",
    "fim = time.time()\n",
    "print(f\"Tempo de teste: {round((fim - inicio)/60, 2)} minutos\\n\\nRelatório:\\n\")\n",
    "print(classification_report(yteste, prev_knnCV, labels = [\"positivo\", \"negativo\"]))\n",
    "fig, axes = plt.subplots(figsize = (6, 3))\n",
    "plot_confusion_matrix(knnCV, xteste, yteste, labels = [\"positivo\", \"negativo\"], values_format = 'd', cmap = 'Blues', ax = axes)\n",
    "plt.savefig('cm-knnCV.png', format ='png', bbox_inches = 'tight')\n",
    "plt.show()"
   ]
  },
  {
   "cell_type": "code",
   "execution_count": 36,
   "id": "7bb954fb",
   "metadata": {},
   "outputs": [
    {
     "data": {
      "text/plain": [
       "['knnCV.pkl']"
      ]
     },
     "execution_count": 36,
     "metadata": {},
     "output_type": "execute_result"
    }
   ],
   "source": [
    "# SALVAR MODELO\n",
    "dump(knnCV, \"knnCV.pkl\")"
   ]
  },
  {
   "cell_type": "markdown",
   "id": "cb0beec6",
   "metadata": {},
   "source": [
    "#### NAIVE BAYES"
   ]
  },
  {
   "cell_type": "code",
   "execution_count": null,
   "id": "ea332319",
   "metadata": {},
   "outputs": [],
   "source": [
    "# TREINO\n",
    "inicio = time.time()\n",
    "nb = MultinomialNB()\n",
    "\n",
    "kfold = StratifiedKFold(n_splits = 10, shuffle = True, random_state = 1)\n",
    "param_grid3 = {\"alpha\": [1.0],\n",
    "               \"fit_prior\": [True],\n",
    "               \"class_prior\": [None]}\n",
    "# GRID SEARCH\n",
    "grid3 = GridSearchCV(estimator = nb,\n",
    "                     param_grid = param_grid3,\n",
    "                     scoring = 'accuracy',\n",
    "                     n_jobs = None,\n",
    "                     refit = True,\n",
    "                     cv = kfold, \n",
    "                     verbose = 1,\n",
    "                     return_train_score = True)\n",
    "\n",
    "nbCV = grid3.fit(xtreino, ytreino)\n",
    "\n",
    "\n",
    "ac3 = nbCV.best_score_\n",
    "print(f\"Acurácia: {round(ac3*100, 2)}%\")\n",
    "fim = time.time()\n",
    "print(f\"Tempo de treino: {round((fim - inicio)/60, 2)} minutos\")\n",
    "print(\"\\nMelhores hiperparâmetros: \", nbCV.best_params_)"
   ]
  },
  {
   "cell_type": "code",
   "execution_count": 37,
   "id": "52f709aa",
   "metadata": {},
   "outputs": [],
   "source": [
    "# CARREGAR MODELO\n",
    "nbCV = load('nbCV.pkl')"
   ]
  },
  {
   "cell_type": "code",
   "execution_count": 38,
   "id": "1f9f63a7",
   "metadata": {},
   "outputs": [
    {
     "name": "stdout",
     "output_type": "stream",
     "text": [
      "Acurácia Teste Naive Bayes Unigrama-CV: 93.12%\n",
      "Tempo de teste: 0.01 minutos\n",
      "\n",
      "Relatório:\n",
      "\n",
      "              precision    recall  f1-score   support\n",
      "\n",
      "    positivo       0.94      0.92      0.93     31558\n",
      "    negativo       0.93      0.94      0.93     31920\n",
      "\n",
      "    accuracy                           0.93     63478\n",
      "   macro avg       0.93      0.93      0.93     63478\n",
      "weighted avg       0.93      0.93      0.93     63478\n",
      "\n"
     ]
    },
    {
     "data": {
      "image/png": "[encoded data removed]",
      "text/plain": [
       "<Figure size 600x300 with 2 Axes>"
      ]
     },
     "metadata": {},
     "output_type": "display_data"
    }
   ],
   "source": [
    "# TESTE\n",
    "inicio = time.time()\n",
    "prev_nbCV = nbCV.predict(xteste)\n",
    "ac_nbCV = accuracy_score(prev_nbCV, yteste)\n",
    "print(f\"Acurácia Teste Naive Bayes Unigrama-CV: {round(ac_nbCV*100, 2)}%\")\n",
    "fim = time.time()\n",
    "print(f\"Tempo de teste: {round((fim - inicio)/60, 2)} minutos\\n\\nRelatório:\\n\")\n",
    "print(classification_report(yteste, prev_nbCV, labels = [\"positivo\", \"negativo\"]))\n",
    "fig, axes = plt.subplots(figsize = (6, 3))\n",
    "plot_confusion_matrix(nbCV, xteste, yteste, labels = [\"positivo\", \"negativo\"], values_format = 'd', cmap = 'Blues', ax = axes)\n",
    "plt.savefig('cm-nbCV.png', format ='png', bbox_inches = 'tight')\n",
    "plt.show()"
   ]
  },
  {
   "cell_type": "code",
   "execution_count": 39,
   "id": "5e6b01e8",
   "metadata": {},
   "outputs": [
    {
     "data": {
      "text/plain": [
       "['nbCV.pkl']"
      ]
     },
     "execution_count": 39,
     "metadata": {},
     "output_type": "execute_result"
    }
   ],
   "source": [
    "# SALVAR MODELO\n",
    "dump(nbCV, 'nbCV.pkl')"
   ]
  },
  {
   "cell_type": "markdown",
   "id": "bbb4b83b",
   "metadata": {},
   "source": [
    "#### XTREME GRADIENT BOOSTING"
   ]
  },
  {
   "cell_type": "code",
   "execution_count": 40,
   "id": "6b2b3215",
   "metadata": {},
   "outputs": [],
   "source": [
    "# FUNÇÃO PARA TRANSFORMAÇÃO DAS CLASSES\n",
    "def TransformaClasse(array):\n",
    "    \n",
    "    for i in range(len(array)):\n",
    "        if array[i] == \"negativo\":\n",
    "            array[i] = 1\n",
    "        else:\n",
    "            array[i] = 0\n",
    "    return(array)"
   ]
  },
  {
   "cell_type": "code",
   "execution_count": 41,
   "id": "9462fb77",
   "metadata": {},
   "outputs": [],
   "source": [
    "ytreino_transf = TransformaClasse(ytreino)\n",
    "ytreino_xgb = [value for value in ytreino_transf]"
   ]
  },
  {
   "cell_type": "code",
   "execution_count": 42,
   "id": "127a1ef6",
   "metadata": {},
   "outputs": [],
   "source": [
    "yteste_transf = TransformaClasse(yteste)\n",
    "yteste_xgb = [value for value in yteste_transf]"
   ]
  },
  {
   "cell_type": "code",
   "execution_count": null,
   "id": "843ae7b3",
   "metadata": {},
   "outputs": [],
   "source": [
    "# max_depth=5, \n",
    "# learning_rate=0.01, \n",
    "# n_estimators=100, \n",
    "# gamma=0, \n",
    "# min_child_weight=1, \n",
    "# subsample=0.8\n",
    "# colsample_bytree=0.8, \n",
    "# reg_alpha=0.005\n",
    "#eval_metric=[\"error\"]\n",
    "\n",
    "#xgbCV = grid5.fit(xtreino, ytreino_xgb, eval_set = [(xtreino, ytreino_xgb)])"
   ]
  },
  {
   "cell_type": "code",
   "execution_count": null,
   "id": "0870ab62",
   "metadata": {},
   "outputs": [],
   "source": [
    "# TREINO\n",
    "inicio = time.time()\n",
    "xgb_cl = XGBClassifier()\n",
    "\n",
    "kfold = StratifiedKFold(n_splits = 10, shuffle = True, random_state = 1)\n",
    "param_grid5 = {\"n_estimators\": [100,300,700,1000,1100],\n",
    "               \"learning_rate\": [0.01,0.2,0.3],\n",
    "               \"gamma\": [0.2],\n",
    "               \"max_depth\": [6],\n",
    "               \"subsample\": [0.7],      \n",
    "               \"colsample_bytree\": [0.7],\n",
    "               \"reg_alpha\": [0.05],\n",
    "               \"objective\": [\"binary:logistic\"]}\n",
    "\n",
    "# GRID SEARCH\n",
    "grid5 = GridSearchCV(estimator = xgb_cl, \n",
    "                     param_grid = param_grid5, \n",
    "                     scoring = \"accuracy\",\n",
    "                     n_jobs = None,\n",
    "                     refit = True,\n",
    "                     cv = kfold, \n",
    "                     verbose = 1,\n",
    "                     return_train_score = True)\n",
    "\n",
    "\n",
    "xgbCV = grid5.fit(xtreino, ytreino_xgb)\n",
    "\n",
    "ac5 = xgbCV.best_score_\n",
    "print(f\"Acurácia: {round(ac5*100, 2)}%\")\n",
    "fim = time.time()\n",
    "print(f\"Tempo de treino: {round((fim - inicio)/60, 2)} minutos\")\n",
    "print(\"\\nMelhores hiperparâmetros: \", xgbCV.best_params_)"
   ]
  },
  {
   "cell_type": "code",
   "execution_count": 43,
   "id": "98b9cf51",
   "metadata": {},
   "outputs": [],
   "source": [
    "# CARREGAR MODELO\n",
    "xgbCV = load('xgbCV.pkl')"
   ]
  },
  {
   "cell_type": "code",
   "execution_count": 44,
   "id": "8ab2140a",
   "metadata": {},
   "outputs": [
    {
     "data": {
      "text/plain": [
       "{'colsample_bytree': 0.7,\n",
       " 'gamma': 0.2,\n",
       " 'learning_rate': 0.2,\n",
       " 'max_depth': 6,\n",
       " 'n_estimators': 1100,\n",
       " 'objective': 'binary:logistic',\n",
       " 'reg_alpha': 0.05,\n",
       " 'subsample': 0.7}"
      ]
     },
     "execution_count": 44,
     "metadata": {},
     "output_type": "execute_result"
    }
   ],
   "source": [
    "xgbCV.best_params_"
   ]
  },
  {
   "cell_type": "code",
   "execution_count": 45,
   "id": "2e8c9aa9",
   "metadata": {},
   "outputs": [
    {
     "name": "stdout",
     "output_type": "stream",
     "text": [
      "Acurácia Teste XGBoost Unigrama-CV: 93.8\n",
      "AUC XGBoost Unigrama-CV: 0.9787\n",
      "Tempo de teste: 0.09 minutos\n",
      "\n",
      "Relatório:\n",
      "\n",
      "              precision    recall  f1-score   support\n",
      "\n",
      "    positivo       0.94      0.94      0.94     31558\n",
      "    negativo       0.94      0.94      0.94     31920\n",
      "\n",
      "    accuracy                           0.94     63478\n",
      "   macro avg       0.94      0.94      0.94     63478\n",
      "weighted avg       0.94      0.94      0.94     63478\n",
      "\n"
     ]
    },
    {
     "data": {
      "image/png": "[encoded data removed]",
      "text/plain": [
       "<Figure size 600x300 with 2 Axes>"
      ]
     },
     "metadata": {},
     "output_type": "display_data"
    }
   ],
   "source": [
    "inicio = time.time()\n",
    "prev_xgbCV = xgbCV.predict(xteste)\n",
    "ac_xgbCV = accuracy_score(yteste_xgb, prev_xgbCV)\n",
    "auc = roc_auc_score(yteste_xgb, xgbCV.predict_proba(xteste)[:, 1])\n",
    "print(f\"Acurácia Teste XGBoost Unigrama-CV: {round(ac_xgbCV*100, 2)}\")\n",
    "print(f\"AUC XGBoost Unigrama-CV: {round(auc, 4)}\")\n",
    "fim = time.time()\n",
    "print(f\"Tempo de teste: {round((fim - inicio)/60, 2)} minutos\\n\\nRelatório:\\n\")\n",
    "print(classification_report(yteste_xgb, prev_xgbCV, target_names = [\"positivo\", \"negativo\"]))\n",
    "fig, axes = plt.subplots(figsize = (6, 3))\n",
    "plot_confusion_matrix(xgbCV, xteste, yteste_xgb, display_labels = [\"positivo\", \"negativo\"], values_format = 'd', cmap = 'Blues', ax = axes)\n",
    "plt.savefig('cm-xgbCV.png', format ='png', bbox_inches = 'tight')\n",
    "plt.show()"
   ]
  },
  {
   "cell_type": "code",
   "execution_count": 46,
   "id": "58a3f86e",
   "metadata": {},
   "outputs": [
    {
     "data": {
      "text/plain": [
       "['xgbCV.pkl']"
      ]
     },
     "execution_count": 46,
     "metadata": {},
     "output_type": "execute_result"
    }
   ],
   "source": [
    "# SALVAR MODELO\n",
    "dump(xgbCV, \"xgbCV.pkl\")"
   ]
  }
 ],
 "metadata": {
  "kernelspec": {
   "display_name": "Python 3 (ipykernel)",
   "language": "python",
   "name": "python3"
  },
  "language_info": {
   "codemirror_mode": {
    "name": "ipython",
    "version": 3
   },
   "file_extension": ".py",
   "mimetype": "text/x-python",
   "name": "python",
   "nbconvert_exporter": "python",
   "pygments_lexer": "ipython3",
   "version": "3.10.9"
  }
 },
 "nbformat": 4,
 "nbformat_minor": 5
}
