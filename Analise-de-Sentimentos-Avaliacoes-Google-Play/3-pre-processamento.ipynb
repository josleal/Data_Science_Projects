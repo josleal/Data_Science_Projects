{
 "cells": [
  {
   "cell_type": "markdown",
   "id": "64821601",
   "metadata": {},
   "source": [
    "### 2 - PRÉ-PROCESSAMENTO - TOKENIZAÇÃO E LEMATIZAÇÃO"
   ]
  },
  {
   "cell_type": "code",
   "execution_count": 1,
   "id": "86271e90",
   "metadata": {},
   "outputs": [],
   "source": [
    "import warnings\n",
    "warnings.filterwarnings('ignore')"
   ]
  },
  {
   "cell_type": "code",
   "execution_count": 2,
   "id": "93aaa379",
   "metadata": {},
   "outputs": [],
   "source": [
    "# CARREGANDO BIBLIOTECAS\n",
    "import pandas as pd\n",
    "import nltk\n",
    "from nltk.stem import RSLPStemmer\n",
    "import unidecode\n",
    "import re\n",
    "from collections import Counter, OrderedDict\n",
    "import time\n",
    "from wordcloud import WordCloud, STOPWORDS\n",
    "import matplotlib.pyplot as plt\n",
    "from sklearn.feature_extraction.text import CountVectorizer"
   ]
  },
  {
   "cell_type": "code",
   "execution_count": 3,
   "id": "502acd12",
   "metadata": {},
   "outputs": [
    {
     "data": {
      "text/html": [
       "<div>\n",
       "<style scoped>\n",
       "    .dataframe tbody tr th:only-of-type {\n",
       "        vertical-align: middle;\n",
       "    }\n",
       "\n",
       "    .dataframe tbody tr th {\n",
       "        vertical-align: top;\n",
       "    }\n",
       "\n",
       "    .dataframe thead th {\n",
       "        text-align: right;\n",
       "    }\n",
       "</style>\n",
       "<table border=\"1\" class=\"dataframe\">\n",
       "  <thead>\n",
       "    <tr style=\"text-align: right;\">\n",
       "      <th></th>\n",
       "      <th>reviewId</th>\n",
       "      <th>userName</th>\n",
       "      <th>userImage</th>\n",
       "      <th>content</th>\n",
       "      <th>score</th>\n",
       "      <th>thumbsUpCount</th>\n",
       "      <th>reviewCreatedVersion</th>\n",
       "      <th>at</th>\n",
       "      <th>replyContent</th>\n",
       "      <th>repliedAt</th>\n",
       "      <th>app</th>\n",
       "      <th>sentimento</th>\n",
       "    </tr>\n",
       "  </thead>\n",
       "  <tbody>\n",
       "    <tr>\n",
       "      <th>0</th>\n",
       "      <td>33b6e638-8373-4ec9-a0b4-4260cf0a91c1</td>\n",
       "      <td>Felipe Teixeira</td>\n",
       "      <td>https://play-lh.googleusercontent.com/a/AItbvm...</td>\n",
       "      <td>Prós - Comparado ao aplicativo das concorrente...</td>\n",
       "      <td>3</td>\n",
       "      <td>1558</td>\n",
       "      <td>20.20.0.100</td>\n",
       "      <td>2020-10-13 12:31:34</td>\n",
       "      <td>NaN</td>\n",
       "      <td>NaN</td>\n",
       "      <td>Amazon</td>\n",
       "      <td>neutro</td>\n",
       "    </tr>\n",
       "    <tr>\n",
       "      <th>1</th>\n",
       "      <td>490680d7-e9f4-4fde-bf8e-27b8b1c20e3b</td>\n",
       "      <td>Renan Cavagnolli</td>\n",
       "      <td>https://play-lh.googleusercontent.com/a/AItbvm...</td>\n",
       "      <td>Tem alguns problemas. Ex: Na navegação, quando...</td>\n",
       "      <td>3</td>\n",
       "      <td>1883</td>\n",
       "      <td>20.10.0.100</td>\n",
       "      <td>2020-05-25 03:41:07</td>\n",
       "      <td>NaN</td>\n",
       "      <td>NaN</td>\n",
       "      <td>Amazon</td>\n",
       "      <td>neutro</td>\n",
       "    </tr>\n",
       "    <tr>\n",
       "      <th>2</th>\n",
       "      <td>5d50ac9d-1558-45de-aa7f-ec824c4eea62</td>\n",
       "      <td>Ígor X Costa</td>\n",
       "      <td>https://play-lh.googleusercontent.com/a-/AFdZu...</td>\n",
       "      <td>O aplicativo é bem básico. Tem informações suf...</td>\n",
       "      <td>3</td>\n",
       "      <td>1012</td>\n",
       "      <td>20.22.4.100</td>\n",
       "      <td>2020-12-23 10:12:01</td>\n",
       "      <td>NaN</td>\n",
       "      <td>NaN</td>\n",
       "      <td>Amazon</td>\n",
       "      <td>neutro</td>\n",
       "    </tr>\n",
       "  </tbody>\n",
       "</table>\n",
       "</div>"
      ],
      "text/plain": [
       "                               reviewId          userName  \\\n",
       "0  33b6e638-8373-4ec9-a0b4-4260cf0a91c1   Felipe Teixeira   \n",
       "1  490680d7-e9f4-4fde-bf8e-27b8b1c20e3b  Renan Cavagnolli   \n",
       "2  5d50ac9d-1558-45de-aa7f-ec824c4eea62      Ígor X Costa   \n",
       "\n",
       "                                           userImage  \\\n",
       "0  https://play-lh.googleusercontent.com/a/AItbvm...   \n",
       "1  https://play-lh.googleusercontent.com/a/AItbvm...   \n",
       "2  https://play-lh.googleusercontent.com/a-/AFdZu...   \n",
       "\n",
       "                                             content  score  thumbsUpCount  \\\n",
       "0  Prós - Comparado ao aplicativo das concorrente...      3           1558   \n",
       "1  Tem alguns problemas. Ex: Na navegação, quando...      3           1883   \n",
       "2  O aplicativo é bem básico. Tem informações suf...      3           1012   \n",
       "\n",
       "  reviewCreatedVersion                   at replyContent repliedAt     app  \\\n",
       "0          20.20.0.100  2020-10-13 12:31:34          NaN       NaN  Amazon   \n",
       "1          20.10.0.100  2020-05-25 03:41:07          NaN       NaN  Amazon   \n",
       "2          20.22.4.100  2020-12-23 10:12:01          NaN       NaN  Amazon   \n",
       "\n",
       "  sentimento  \n",
       "0     neutro  \n",
       "1     neutro  \n",
       "2     neutro  "
      ]
     },
     "execution_count": 3,
     "metadata": {},
     "output_type": "execute_result"
    }
   ],
   "source": [
    "# CARREGANDO DADOS\n",
    "df_reviews = pd.read_csv('df-reviews-ternario.csv')\n",
    "df_reviews.head(3)"
   ]
  },
  {
   "cell_type": "code",
   "execution_count": 4,
   "id": "e976edfa",
   "metadata": {},
   "outputs": [
    {
     "data": {
      "text/plain": [
       "319143"
      ]
     },
     "execution_count": 4,
     "metadata": {},
     "output_type": "execute_result"
    }
   ],
   "source": [
    "len(df_reviews)"
   ]
  },
  {
   "cell_type": "code",
   "execution_count": 5,
   "id": "da597099",
   "metadata": {},
   "outputs": [
    {
     "data": {
      "text/html": [
       "<div>\n",
       "<style scoped>\n",
       "    .dataframe tbody tr th:only-of-type {\n",
       "        vertical-align: middle;\n",
       "    }\n",
       "\n",
       "    .dataframe tbody tr th {\n",
       "        vertical-align: top;\n",
       "    }\n",
       "\n",
       "    .dataframe thead th {\n",
       "        text-align: right;\n",
       "    }\n",
       "</style>\n",
       "<table border=\"1\" class=\"dataframe\">\n",
       "  <thead>\n",
       "    <tr style=\"text-align: right;\">\n",
       "      <th></th>\n",
       "      <th>content</th>\n",
       "      <th>sentimento</th>\n",
       "    </tr>\n",
       "  </thead>\n",
       "  <tbody>\n",
       "    <tr>\n",
       "      <th>0</th>\n",
       "      <td>Prós - Comparado ao aplicativo das concorrente...</td>\n",
       "      <td>neutro</td>\n",
       "    </tr>\n",
       "    <tr>\n",
       "      <th>1</th>\n",
       "      <td>Tem alguns problemas. Ex: Na navegação, quando...</td>\n",
       "      <td>neutro</td>\n",
       "    </tr>\n",
       "    <tr>\n",
       "      <th>2</th>\n",
       "      <td>O aplicativo é bem básico. Tem informações suf...</td>\n",
       "      <td>neutro</td>\n",
       "    </tr>\n",
       "    <tr>\n",
       "      <th>3</th>\n",
       "      <td>Navegar pela lista de desejos, eventualmente, ...</td>\n",
       "      <td>neutro</td>\n",
       "    </tr>\n",
       "    <tr>\n",
       "      <th>4</th>\n",
       "      <td>Precisa melhorar a questão da interface e prin...</td>\n",
       "      <td>neutro</td>\n",
       "    </tr>\n",
       "  </tbody>\n",
       "</table>\n",
       "</div>"
      ],
      "text/plain": [
       "                                             content sentimento\n",
       "0  Prós - Comparado ao aplicativo das concorrente...     neutro\n",
       "1  Tem alguns problemas. Ex: Na navegação, quando...     neutro\n",
       "2  O aplicativo é bem básico. Tem informações suf...     neutro\n",
       "3  Navegar pela lista de desejos, eventualmente, ...     neutro\n",
       "4  Precisa melhorar a questão da interface e prin...     neutro"
      ]
     },
     "execution_count": 5,
     "metadata": {},
     "output_type": "execute_result"
    }
   ],
   "source": [
    "df_content = df_reviews.loc[0: ,[\"content\", \"sentimento\"]]\n",
    "df_content.head(5)"
   ]
  },
  {
   "cell_type": "markdown",
   "id": "8253ca05",
   "metadata": {},
   "source": [
    "#### TOKENIZAÇÃO"
   ]
  },
  {
   "cell_type": "code",
   "execution_count": null,
   "id": "538f60f7",
   "metadata": {},
   "outputs": [],
   "source": [
    "# PASSO 1 - REMOÇÃO DE CARACTERES: ACENTOS, PONTUAÇÕES, NÚMEROS E CONVERSÃO EM MINÚSCULAS;\n",
    "# - EXIBIR FREQUÊNCIA DE PALAVRAS;\n",
    "# - NUVEM DE PALAVRAS: TRÊS CLASSES;\n",
    "# PASSO 2 - CORREÇÃO ORTOGRÁFICA, CORREÇÃO DIGITAÇÃO, REMOÇÃO DE LETRAS REPETIDAS ETC\n",
    "# PASSO 3 - REMOÇÃO DAS STOPWORDS;\n",
    "# - NUVEM DE PALAVRAS: TRÊS CLASSES"
   ]
  },
  {
   "cell_type": "code",
   "execution_count": 6,
   "id": "a6353eff",
   "metadata": {},
   "outputs": [],
   "source": [
    "# CRIANDO NOVA WORDCLOUD ANTES DA LIMPEZA\n",
    "textos1 = df_content['content'].tolist() \n",
    "texto_wordcloud1  = \" \".join(textos1)"
   ]
  },
  {
   "cell_type": "code",
   "execution_count": 7,
   "id": "df5b065c",
   "metadata": {},
   "outputs": [
    {
     "data": {
      "text/plain": [
       "<wordcloud.wordcloud.WordCloud at 0x24cf5e528e0>"
      ]
     },
     "execution_count": 7,
     "metadata": {},
     "output_type": "execute_result"
    },
    {
     "data": {
      "image/png": "[encoded data removed]",
      "text/plain": [
       "<Figure size 640x480 with 1 Axes>"
      ]
     },
     "metadata": {},
     "output_type": "display_data"
    }
   ],
   "source": [
    "# WORDCLOUD\n",
    "wordcloud1 = WordCloud(width = 800, height = 400, background_color = \"white\", collocations = False, \n",
    "                      include_numbers = True, random_state = 1)\n",
    "wordcloud1.generate(texto_wordcloud1 )\n",
    "\n",
    "# GRÁFICO\n",
    "#plt.figure(figsize = (40, 8))\n",
    "plt.axis(\"off\")\n",
    "plt.imshow(wordcloud1)\n",
    "wordcloud1.to_file(\"wordcloud_antes.png\")"
   ]
  },
  {
   "cell_type": "code",
   "execution_count": 8,
   "id": "1e35f52e",
   "metadata": {},
   "outputs": [],
   "source": [
    "# PASSO 1 - REMOÇÃO DE CARACTERES: ACENTOS, PONTUAÇÕES, NÚMEROS E CONVERSÃO EM MINÚSCULAS;\n",
    "# FUNÇÃO DE REMOÇÃO\n",
    "def RemoveCaracter(string):\n",
    "    texto = unidecode.unidecode(string)                               # REMOVE ACENTOS\n",
    "    texto = re.sub(r\"[@#$%&*^~-´'²³\\\\//|<>:;,.!?'0-9]\", \" \", texto)\n",
    "    texto = texto.replace('_','')\n",
    "    texto = texto.replace('`','')\n",
    "    texto = texto.replace('\"','')\n",
    "    texto = texto.replace('[','')\n",
    "    texto = texto.replace(']','')\n",
    "    texto = texto.replace('{','')\n",
    "    texto = texto.replace('}','')\n",
    "    texto = texto.replace('(','')\n",
    "    texto = texto.replace(')','')\n",
    "    texto = texto.replace('+','')\n",
    "    texto = texto.replace('-','')\n",
    "    texto = texto.replace('=','')\n",
    "\n",
    "    texto = texto.lower()                                             # CONVERTE PARA MINÚSCULA\n",
    "    \n",
    "    return texto"
   ]
  },
  {
   "cell_type": "code",
   "execution_count": 9,
   "id": "8230e51b",
   "metadata": {},
   "outputs": [],
   "source": [
    "df_content['passo1'] = df_reviews['content'].apply(RemoveCaracter)    # APLICA A FUNÇÃO DE REMOÇÃO\n",
    "df_content = df_content.loc[0:,['sentimento', 'content', 'passo1']]"
   ]
  },
  {
   "cell_type": "code",
   "execution_count": 10,
   "id": "330d483a",
   "metadata": {},
   "outputs": [
    {
     "data": {
      "text/html": [
       "<div>\n",
       "<style scoped>\n",
       "    .dataframe tbody tr th:only-of-type {\n",
       "        vertical-align: middle;\n",
       "    }\n",
       "\n",
       "    .dataframe tbody tr th {\n",
       "        vertical-align: top;\n",
       "    }\n",
       "\n",
       "    .dataframe thead th {\n",
       "        text-align: right;\n",
       "    }\n",
       "</style>\n",
       "<table border=\"1\" class=\"dataframe\">\n",
       "  <thead>\n",
       "    <tr style=\"text-align: right;\">\n",
       "      <th></th>\n",
       "      <th>sentimento</th>\n",
       "      <th>content</th>\n",
       "      <th>passo1</th>\n",
       "    </tr>\n",
       "  </thead>\n",
       "  <tbody>\n",
       "    <tr>\n",
       "      <th>0</th>\n",
       "      <td>neutro</td>\n",
       "      <td>Prós - Comparado ao aplicativo das concorrente...</td>\n",
       "      <td>pros  comparado ao aplicativo das concorrentes...</td>\n",
       "    </tr>\n",
       "    <tr>\n",
       "      <th>1</th>\n",
       "      <td>neutro</td>\n",
       "      <td>Tem alguns problemas. Ex: Na navegação, quando...</td>\n",
       "      <td>tem alguns problemas  ex  na navegacao  quando...</td>\n",
       "    </tr>\n",
       "    <tr>\n",
       "      <th>2</th>\n",
       "      <td>neutro</td>\n",
       "      <td>O aplicativo é bem básico. Tem informações suf...</td>\n",
       "      <td>o aplicativo e bem basico  tem informacoes suf...</td>\n",
       "    </tr>\n",
       "    <tr>\n",
       "      <th>3</th>\n",
       "      <td>neutro</td>\n",
       "      <td>Navegar pela lista de desejos, eventualmente, ...</td>\n",
       "      <td>navegar pela lista de desejos  eventualmente  ...</td>\n",
       "    </tr>\n",
       "    <tr>\n",
       "      <th>4</th>\n",
       "      <td>neutro</td>\n",
       "      <td>Precisa melhorar a questão da interface e prin...</td>\n",
       "      <td>precisa melhorar a questao da interface e prin...</td>\n",
       "    </tr>\n",
       "  </tbody>\n",
       "</table>\n",
       "</div>"
      ],
      "text/plain": [
       "  sentimento                                            content  \\\n",
       "0     neutro  Prós - Comparado ao aplicativo das concorrente...   \n",
       "1     neutro  Tem alguns problemas. Ex: Na navegação, quando...   \n",
       "2     neutro  O aplicativo é bem básico. Tem informações suf...   \n",
       "3     neutro  Navegar pela lista de desejos, eventualmente, ...   \n",
       "4     neutro  Precisa melhorar a questão da interface e prin...   \n",
       "\n",
       "                                              passo1  \n",
       "0  pros  comparado ao aplicativo das concorrentes...  \n",
       "1  tem alguns problemas  ex  na navegacao  quando...  \n",
       "2  o aplicativo e bem basico  tem informacoes suf...  \n",
       "3  navegar pela lista de desejos  eventualmente  ...  \n",
       "4  precisa melhorar a questao da interface e prin...  "
      ]
     },
     "execution_count": 10,
     "metadata": {},
     "output_type": "execute_result"
    }
   ],
   "source": [
    "df_content.head(5)"
   ]
  },
  {
   "cell_type": "code",
   "execution_count": 11,
   "id": "2b4998ea",
   "metadata": {},
   "outputs": [],
   "source": [
    "# FREQUÊNCIA DE PALAVRAS\n",
    "lista_sentencas = df_content['passo1'].tolist()                                    # TRANSFORMA COLUNA EM LISTA\n",
    "concatena_sentencas = \" \".join(lista_sentencas)                                    # CONCATENA AS SENTENÇAS DA LISTA\n",
    "lista_palavras = concatena_sentencas.split(\" \")                                    # FAZ O SPLIT DAS PALAVRAS \n",
    "lista_palavras = [item.strip() for item in lista_palavras if item.strip() != '']   # REMOVE ITENS QUE SÃO ESPAÇOS"
   ]
  },
  {
   "cell_type": "code",
   "execution_count": 12,
   "id": "9c85af1f",
   "metadata": {},
   "outputs": [
    {
     "data": {
      "text/plain": [
       "6371763"
      ]
     },
     "execution_count": 12,
     "metadata": {},
     "output_type": "execute_result"
    }
   ],
   "source": [
    "len(lista_palavras)"
   ]
  },
  {
   "cell_type": "code",
   "execution_count": 13,
   "id": "4be3809a",
   "metadata": {},
   "outputs": [],
   "source": [
    "frequencia = Counter(lista_palavras) # GERA A FREQUÊNCIA DE CADA PALAVRA"
   ]
  },
  {
   "cell_type": "code",
   "execution_count": 14,
   "id": "6b1f10a0",
   "metadata": {},
   "outputs": [
    {
     "data": {
      "text/plain": [
       "{'e': 290240,\n",
       " 'o': 210675,\n",
       " 'nao': 192964,\n",
       " 'de': 180917,\n",
       " 'que': 142610,\n",
       " 'a': 135862,\n",
       " 'muito': 85410,\n",
       " 'app': 74837,\n",
       " 'com': 67747,\n",
       " 'no': 65212,\n",
       " 'um': 65060,\n",
       " 'do': 58851,\n",
       " 'bom': 57526,\n",
       " 'mais': 56923,\n",
       " 'para': 55759,\n",
       " 'compra': 52385,\n",
       " 'uma': 50572,\n",
       " 'mas': 44229,\n",
       " 'da': 43418,\n",
       " 'em': 42635}"
      ]
     },
     "execution_count": 14,
     "metadata": {},
     "output_type": "execute_result"
    }
   ],
   "source": [
    "frequencia_decrescente = {k: v for k, v in sorted(frequencia.items(), key = lambda item: item[1], reverse = True)}\n",
    "dict(list(frequencia_decrescente.items())[:20]) # VISUALIZAR AS 20 PALAVRAS DE MAIOR FREQUÊNCIA"
   ]
  },
  {
   "cell_type": "code",
   "execution_count": 15,
   "id": "447c9264",
   "metadata": {},
   "outputs": [
    {
     "data": {
      "text/plain": [
       "60439"
      ]
     },
     "execution_count": 15,
     "metadata": {},
     "output_type": "execute_result"
    }
   ],
   "source": [
    "len(frequencia_decrescente)"
   ]
  },
  {
   "cell_type": "code",
   "execution_count": 16,
   "id": "d5f7913e",
   "metadata": {},
   "outputs": [
    {
     "data": {
      "text/plain": [
       "{'saldoes': 1,\n",
       " 'srou': 1,\n",
       " 'tardio': 1,\n",
       " 'resolverde': 1,\n",
       " 'transparecia': 1,\n",
       " 'xiava': 1,\n",
       " 'ataquei': 1,\n",
       " 'renovou': 1,\n",
       " 'despriorizacao': 1,\n",
       " 'presisar': 1,\n",
       " 'suprida': 1,\n",
       " 'misteira': 1,\n",
       " 'reflexoes': 1,\n",
       " 'dificulddades': 1,\n",
       " 'kimetsu': 1,\n",
       " 'yaiba': 1,\n",
       " 'naaao': 1,\n",
       " 'trilogia': 1,\n",
       " 'indiana': 1,\n",
       " 'embaralhadas': 1}"
      ]
     },
     "execution_count": 16,
     "metadata": {},
     "output_type": "execute_result"
    }
   ],
   "source": [
    "frequencia_crescente = {k: v for k, v in sorted(frequencia.items(), key = lambda item: item[1], reverse = False)}\n",
    "dict(list(frequencia_crescente.items())[:20]) # VISUALIZAR AS 20 PALAVRAS DE MENOR FREQUÊNCIA"
   ]
  },
  {
   "cell_type": "code",
   "execution_count": 17,
   "id": "048aed1d",
   "metadata": {},
   "outputs": [
    {
     "data": {
      "text/plain": [
       "60439"
      ]
     },
     "execution_count": 17,
     "metadata": {},
     "output_type": "execute_result"
    }
   ],
   "source": [
    "len(frequencia_crescente)"
   ]
  },
  {
   "cell_type": "code",
   "execution_count": 18,
   "id": "7a6b5dea",
   "metadata": {},
   "outputs": [],
   "source": [
    "# PASSO 2 - CORREÇÃO ORTOGRÁFICA, DIGITAÇÃO, REMOÇÃO DE LETRAS REPETIDAS EM PALAVRAS ALONGADAS \n",
    "ortografia = pd.read_csv('correcao-ortografica.csv', header = None, index_col = 0, squeeze = True).to_dict()"
   ]
  },
  {
   "cell_type": "code",
   "execution_count": 19,
   "id": "281fd675",
   "metadata": {},
   "outputs": [],
   "source": [
    "digitacao = pd.read_csv('correcao-digitacao.csv', header = None, index_col = 0, squeeze = True).to_dict()"
   ]
  },
  {
   "cell_type": "code",
   "execution_count": 20,
   "id": "95efaf3f",
   "metadata": {},
   "outputs": [],
   "source": [
    "separacao = pd.read_csv('separa-palavras.csv', header = None, index_col = 0, squeeze = True).to_dict()"
   ]
  },
  {
   "cell_type": "code",
   "execution_count": 21,
   "id": "b1403e7d",
   "metadata": {},
   "outputs": [],
   "source": [
    "# FUNÇÃO DE REMOÇÃO DE ESPAÇO\n",
    "def RemoveEspaco(item):\n",
    "    remove_espaco = item.strip() # REMOVE ESPAÇOS NO INÍCIO E NO FIM DA STRING\n",
    "    return remove_espaco"
   ]
  },
  {
   "cell_type": "code",
   "execution_count": 22,
   "id": "f415d8f7",
   "metadata": {},
   "outputs": [],
   "source": [
    "digrafos_vogais = open(\"digrafos-vogais-identicas.txt\", encoding = 'UTF-8')\n",
    "digrafos_vogais = list(map(RemoveEspaco, digrafos_vogais))  "
   ]
  },
  {
   "cell_type": "code",
   "execution_count": 23,
   "id": "abc394a3",
   "metadata": {},
   "outputs": [],
   "source": [
    "# FUNÇÃO DE CORREÇÃO \n",
    "def Correcao1(texto, correcao = ortografia):     \n",
    "    lista_palavras = texto.split(\" \") \n",
    "    lista_palavras = [item.strip() for item in lista_palavras if item.strip() != ''] \n",
    "    lista_corrigida = []\n",
    "    \n",
    "    \n",
    "    for palavra in lista_palavras:\n",
    "        if (palavra in correcao):\n",
    "            palavra_correta = correcao.get(palavra)\n",
    "            \n",
    "            lista_corrigida.append(palavra_correta)\n",
    "        else:\n",
    "            lista_corrigida.append(palavra)\n",
    "            continue\n",
    "    \n",
    "    texto_final = \" \".join(lista_corrigida) \n",
    "    texto_final = RemoveCaracter(texto_final)\n",
    "\n",
    "    return texto_final"
   ]
  },
  {
   "cell_type": "code",
   "execution_count": 24,
   "id": "63c1ae6e",
   "metadata": {},
   "outputs": [],
   "source": [
    "def Correcao2(texto, correcao = digitacao):     \n",
    "    lista_palavras = texto.split(\" \") \n",
    "    lista_palavras = [item.strip() for item in lista_palavras if item.strip() != ''] \n",
    "    lista_corrigida = []\n",
    "    \n",
    "    for palavra in lista_palavras:\n",
    "        if (palavra in correcao):\n",
    "            palavra_correta = correcao.get(palavra)\n",
    "            \n",
    "            lista_corrigida.append(palavra_correta)\n",
    "        else:\n",
    "            lista_corrigida.append(palavra)\n",
    "            continue\n",
    "    \n",
    "\n",
    "    texto_final = \" \".join(lista_corrigida) \n",
    "    texto_final = RemoveCaracter(texto_final)\n",
    "\n",
    "    return texto_final"
   ]
  },
  {
   "cell_type": "code",
   "execution_count": 25,
   "id": "7493cb6c",
   "metadata": {},
   "outputs": [],
   "source": [
    "# CORREÇÃO ESPECIFICA PARA ESTE ESTE EXPERIMENTO\n",
    "def Correcao3(texto, correcao = separacao):     \n",
    "    lista_palavras = texto.split(\" \") \n",
    "    lista_palavras = [item.strip() for item in lista_palavras if item.strip() != ''] \n",
    "    lista_corrigida = []\n",
    "    \n",
    "    for palavra in lista_palavras:\n",
    "        if (palavra in correcao):\n",
    "            palavra_correta = correcao.get(palavra)\n",
    "            \n",
    "            lista_corrigida.append(palavra_correta)\n",
    "        else:\n",
    "            lista_corrigida.append(palavra)\n",
    "            continue\n",
    "    \n",
    "    texto_final = \" \".join(lista_corrigida) \n",
    "    texto_final = RemoveCaracter(texto_final)\n",
    "\n",
    "    return texto_final"
   ]
  },
  {
   "cell_type": "code",
   "execution_count": 26,
   "id": "b572cb4f",
   "metadata": {},
   "outputs": [
    {
     "data": {
      "text/html": [
       "<div>\n",
       "<style scoped>\n",
       "    .dataframe tbody tr th:only-of-type {\n",
       "        vertical-align: middle;\n",
       "    }\n",
       "\n",
       "    .dataframe tbody tr th {\n",
       "        vertical-align: top;\n",
       "    }\n",
       "\n",
       "    .dataframe thead th {\n",
       "        text-align: right;\n",
       "    }\n",
       "</style>\n",
       "<table border=\"1\" class=\"dataframe\">\n",
       "  <thead>\n",
       "    <tr style=\"text-align: right;\">\n",
       "      <th></th>\n",
       "      <th>sentimento</th>\n",
       "      <th>content</th>\n",
       "      <th>passo1</th>\n",
       "      <th>passo2</th>\n",
       "    </tr>\n",
       "  </thead>\n",
       "  <tbody>\n",
       "    <tr>\n",
       "      <th>0</th>\n",
       "      <td>neutro</td>\n",
       "      <td>Prós - Comparado ao aplicativo das concorrente...</td>\n",
       "      <td>pros  comparado ao aplicativo das concorrentes...</td>\n",
       "      <td>pros comparado ao aplicativo das concorrentes ...</td>\n",
       "    </tr>\n",
       "    <tr>\n",
       "      <th>1</th>\n",
       "      <td>neutro</td>\n",
       "      <td>Tem alguns problemas. Ex: Na navegação, quando...</td>\n",
       "      <td>tem alguns problemas  ex  na navegacao  quando...</td>\n",
       "      <td>tem alguns problemas ex na navegacao quando en...</td>\n",
       "    </tr>\n",
       "    <tr>\n",
       "      <th>2</th>\n",
       "      <td>neutro</td>\n",
       "      <td>O aplicativo é bem básico. Tem informações suf...</td>\n",
       "      <td>o aplicativo e bem basico  tem informacoes suf...</td>\n",
       "      <td>o aplicativo e bem basico tem informacoes sufi...</td>\n",
       "    </tr>\n",
       "    <tr>\n",
       "      <th>3</th>\n",
       "      <td>neutro</td>\n",
       "      <td>Navegar pela lista de desejos, eventualmente, ...</td>\n",
       "      <td>navegar pela lista de desejos  eventualmente  ...</td>\n",
       "      <td>navegar pela lista de desejos eventualmente to...</td>\n",
       "    </tr>\n",
       "    <tr>\n",
       "      <th>4</th>\n",
       "      <td>neutro</td>\n",
       "      <td>Precisa melhorar a questão da interface e prin...</td>\n",
       "      <td>precisa melhorar a questao da interface e prin...</td>\n",
       "      <td>precisa melhorar a questao da interface e prin...</td>\n",
       "    </tr>\n",
       "  </tbody>\n",
       "</table>\n",
       "</div>"
      ],
      "text/plain": [
       "  sentimento                                            content  \\\n",
       "0     neutro  Prós - Comparado ao aplicativo das concorrente...   \n",
       "1     neutro  Tem alguns problemas. Ex: Na navegação, quando...   \n",
       "2     neutro  O aplicativo é bem básico. Tem informações suf...   \n",
       "3     neutro  Navegar pela lista de desejos, eventualmente, ...   \n",
       "4     neutro  Precisa melhorar a questão da interface e prin...   \n",
       "\n",
       "                                              passo1  \\\n",
       "0  pros  comparado ao aplicativo das concorrentes...   \n",
       "1  tem alguns problemas  ex  na navegacao  quando...   \n",
       "2  o aplicativo e bem basico  tem informacoes suf...   \n",
       "3  navegar pela lista de desejos  eventualmente  ...   \n",
       "4  precisa melhorar a questao da interface e prin...   \n",
       "\n",
       "                                              passo2  \n",
       "0  pros comparado ao aplicativo das concorrentes ...  \n",
       "1  tem alguns problemas ex na navegacao quando en...  \n",
       "2  o aplicativo e bem basico tem informacoes sufi...  \n",
       "3  navegar pela lista de desejos eventualmente to...  \n",
       "4  precisa melhorar a questao da interface e prin...  "
      ]
     },
     "execution_count": 26,
     "metadata": {},
     "output_type": "execute_result"
    }
   ],
   "source": [
    "# CORREÇÃO ORTOGRAFICA\n",
    "df_content['passo2'] = df_content['passo1'].apply(Correcao1)\n",
    "df_content['passo2'] = df_content['passo2'].apply(Correcao2)\n",
    "df_content['passo2'] = df_content['passo2'].apply(Correcao3)\n",
    "df_content.head(5)"
   ]
  },
  {
   "cell_type": "code",
   "execution_count": 27,
   "id": "1e6e9682",
   "metadata": {},
   "outputs": [],
   "source": [
    "# SEGUNDA REMOÇÃO DE PONTUAÇÃO \n",
    "df_content['passo2'] = df_content['passo2'].apply(RemoveCaracter)    # APLICA A FUNÇÃO DE REMOÇÃO"
   ]
  },
  {
   "cell_type": "code",
   "execution_count": 28,
   "id": "26c84fee",
   "metadata": {},
   "outputs": [
    {
     "data": {
      "text/html": [
       "<div>\n",
       "<style scoped>\n",
       "    .dataframe tbody tr th:only-of-type {\n",
       "        vertical-align: middle;\n",
       "    }\n",
       "\n",
       "    .dataframe tbody tr th {\n",
       "        vertical-align: top;\n",
       "    }\n",
       "\n",
       "    .dataframe thead th {\n",
       "        text-align: right;\n",
       "    }\n",
       "</style>\n",
       "<table border=\"1\" class=\"dataframe\">\n",
       "  <thead>\n",
       "    <tr style=\"text-align: right;\">\n",
       "      <th></th>\n",
       "      <th>sentimento</th>\n",
       "      <th>content</th>\n",
       "      <th>passo1</th>\n",
       "      <th>passo2</th>\n",
       "    </tr>\n",
       "  </thead>\n",
       "  <tbody>\n",
       "    <tr>\n",
       "      <th>0</th>\n",
       "      <td>neutro</td>\n",
       "      <td>Prós - Comparado ao aplicativo das concorrente...</td>\n",
       "      <td>pros  comparado ao aplicativo das concorrentes...</td>\n",
       "      <td>pros comparado ao aplicativo das concorrentes ...</td>\n",
       "    </tr>\n",
       "    <tr>\n",
       "      <th>1</th>\n",
       "      <td>neutro</td>\n",
       "      <td>Tem alguns problemas. Ex: Na navegação, quando...</td>\n",
       "      <td>tem alguns problemas  ex  na navegacao  quando...</td>\n",
       "      <td>tem alguns problemas ex na navegacao quando en...</td>\n",
       "    </tr>\n",
       "    <tr>\n",
       "      <th>2</th>\n",
       "      <td>neutro</td>\n",
       "      <td>O aplicativo é bem básico. Tem informações suf...</td>\n",
       "      <td>o aplicativo e bem basico  tem informacoes suf...</td>\n",
       "      <td>o aplicativo e bem basico tem informacoes sufi...</td>\n",
       "    </tr>\n",
       "    <tr>\n",
       "      <th>3</th>\n",
       "      <td>neutro</td>\n",
       "      <td>Navegar pela lista de desejos, eventualmente, ...</td>\n",
       "      <td>navegar pela lista de desejos  eventualmente  ...</td>\n",
       "      <td>navegar pela lista de desejos eventualmente to...</td>\n",
       "    </tr>\n",
       "    <tr>\n",
       "      <th>4</th>\n",
       "      <td>neutro</td>\n",
       "      <td>Precisa melhorar a questão da interface e prin...</td>\n",
       "      <td>precisa melhorar a questao da interface e prin...</td>\n",
       "      <td>precisa melhorar a questao da interface e prin...</td>\n",
       "    </tr>\n",
       "  </tbody>\n",
       "</table>\n",
       "</div>"
      ],
      "text/plain": [
       "  sentimento                                            content  \\\n",
       "0     neutro  Prós - Comparado ao aplicativo das concorrente...   \n",
       "1     neutro  Tem alguns problemas. Ex: Na navegação, quando...   \n",
       "2     neutro  O aplicativo é bem básico. Tem informações suf...   \n",
       "3     neutro  Navegar pela lista de desejos, eventualmente, ...   \n",
       "4     neutro  Precisa melhorar a questão da interface e prin...   \n",
       "\n",
       "                                              passo1  \\\n",
       "0  pros  comparado ao aplicativo das concorrentes...   \n",
       "1  tem alguns problemas  ex  na navegacao  quando...   \n",
       "2  o aplicativo e bem basico  tem informacoes suf...   \n",
       "3  navegar pela lista de desejos  eventualmente  ...   \n",
       "4  precisa melhorar a questao da interface e prin...   \n",
       "\n",
       "                                              passo2  \n",
       "0  pros comparado ao aplicativo das concorrentes ...  \n",
       "1  tem alguns problemas ex na navegacao quando en...  \n",
       "2  o aplicativo e bem basico tem informacoes sufi...  \n",
       "3  navegar pela lista de desejos eventualmente to...  \n",
       "4  precisa melhorar a questao da interface e prin...  "
      ]
     },
     "execution_count": 28,
     "metadata": {},
     "output_type": "execute_result"
    }
   ],
   "source": [
    "df_content.head(5)"
   ]
  },
  {
   "cell_type": "code",
   "execution_count": 29,
   "id": "eebeeb54",
   "metadata": {},
   "outputs": [],
   "source": [
    "# REMOÇÃO DE PALAVRAS NÃO ÚTEIS\n",
    "lista_exclusao = open(\"lista-exclusao.txt\", encoding = 'UTF-8')\n",
    "lista_exclusao = list(map(RemoveCaracter, lista_exclusao))    # RETIRA ACENTOS DAS STOPWORDS PARA IGUALAR AS PALAVRAS DO DATASET\n",
    "lista_exclusao = list(map(RemoveEspaco, lista_exclusao))  "
   ]
  },
  {
   "cell_type": "code",
   "execution_count": 30,
   "id": "27f1eff9",
   "metadata": {},
   "outputs": [],
   "source": [
    "# FUNÇÃO DE REMOÇÃO DE PALAVRAS NÃO ÚTEIS\n",
    "def RemovePalavras(texto, lista = lista_exclusao):     \n",
    "    lista_palavras = texto.split(\" \")                                                             # SPLIT DAS PALAVRAS\n",
    "    remove_palavras = [palavras for palavras in lista_palavras if palavras not in lista_exclusao] # REMOVE PLAVRAS\n",
    "    lista_palavras = [item.strip() for item in remove_palavras if item.strip() != '']             # REMOVE ITENS QUE SÃO ESPAÇOS\n",
    "    texto_final = ' '.join(lista_palavras)                                                        # CONCATENA A LISTA\n",
    "    return texto_final"
   ]
  },
  {
   "cell_type": "code",
   "execution_count": 31,
   "id": "01499833",
   "metadata": {},
   "outputs": [],
   "source": [
    "df_content['passo3'] = df_content['passo2'].apply(RemovePalavras)"
   ]
  },
  {
   "cell_type": "code",
   "execution_count": 32,
   "id": "c6d4d3e7",
   "metadata": {},
   "outputs": [
    {
     "data": {
      "text/html": [
       "<div>\n",
       "<style scoped>\n",
       "    .dataframe tbody tr th:only-of-type {\n",
       "        vertical-align: middle;\n",
       "    }\n",
       "\n",
       "    .dataframe tbody tr th {\n",
       "        vertical-align: top;\n",
       "    }\n",
       "\n",
       "    .dataframe thead th {\n",
       "        text-align: right;\n",
       "    }\n",
       "</style>\n",
       "<table border=\"1\" class=\"dataframe\">\n",
       "  <thead>\n",
       "    <tr style=\"text-align: right;\">\n",
       "      <th></th>\n",
       "      <th>sentimento</th>\n",
       "      <th>content</th>\n",
       "      <th>passo1</th>\n",
       "      <th>passo2</th>\n",
       "      <th>passo3</th>\n",
       "    </tr>\n",
       "  </thead>\n",
       "  <tbody>\n",
       "    <tr>\n",
       "      <th>0</th>\n",
       "      <td>neutro</td>\n",
       "      <td>Prós - Comparado ao aplicativo das concorrente...</td>\n",
       "      <td>pros  comparado ao aplicativo das concorrentes...</td>\n",
       "      <td>pros comparado ao aplicativo das concorrentes ...</td>\n",
       "      <td>pros comparado ao aplicativo das concorrentes ...</td>\n",
       "    </tr>\n",
       "    <tr>\n",
       "      <th>1</th>\n",
       "      <td>neutro</td>\n",
       "      <td>Tem alguns problemas. Ex: Na navegação, quando...</td>\n",
       "      <td>tem alguns problemas  ex  na navegacao  quando...</td>\n",
       "      <td>tem alguns problemas ex na navegacao quando en...</td>\n",
       "      <td>tem alguns problemas ex na navegacao quando en...</td>\n",
       "    </tr>\n",
       "    <tr>\n",
       "      <th>2</th>\n",
       "      <td>neutro</td>\n",
       "      <td>O aplicativo é bem básico. Tem informações suf...</td>\n",
       "      <td>o aplicativo e bem basico  tem informacoes suf...</td>\n",
       "      <td>o aplicativo e bem basico tem informacoes sufi...</td>\n",
       "      <td>aplicativo e bem basico tem informacoes sufici...</td>\n",
       "    </tr>\n",
       "    <tr>\n",
       "      <th>3</th>\n",
       "      <td>neutro</td>\n",
       "      <td>Navegar pela lista de desejos, eventualmente, ...</td>\n",
       "      <td>navegar pela lista de desejos  eventualmente  ...</td>\n",
       "      <td>navegar pela lista de desejos eventualmente to...</td>\n",
       "      <td>navegar pela lista de desejos eventualmente to...</td>\n",
       "    </tr>\n",
       "    <tr>\n",
       "      <th>4</th>\n",
       "      <td>neutro</td>\n",
       "      <td>Precisa melhorar a questão da interface e prin...</td>\n",
       "      <td>precisa melhorar a questao da interface e prin...</td>\n",
       "      <td>precisa melhorar a questao da interface e prin...</td>\n",
       "      <td>precisa melhorar a questao da interface e prin...</td>\n",
       "    </tr>\n",
       "  </tbody>\n",
       "</table>\n",
       "</div>"
      ],
      "text/plain": [
       "  sentimento                                            content  \\\n",
       "0     neutro  Prós - Comparado ao aplicativo das concorrente...   \n",
       "1     neutro  Tem alguns problemas. Ex: Na navegação, quando...   \n",
       "2     neutro  O aplicativo é bem básico. Tem informações suf...   \n",
       "3     neutro  Navegar pela lista de desejos, eventualmente, ...   \n",
       "4     neutro  Precisa melhorar a questão da interface e prin...   \n",
       "\n",
       "                                              passo1  \\\n",
       "0  pros  comparado ao aplicativo das concorrentes...   \n",
       "1  tem alguns problemas  ex  na navegacao  quando...   \n",
       "2  o aplicativo e bem basico  tem informacoes suf...   \n",
       "3  navegar pela lista de desejos  eventualmente  ...   \n",
       "4  precisa melhorar a questao da interface e prin...   \n",
       "\n",
       "                                              passo2  \\\n",
       "0  pros comparado ao aplicativo das concorrentes ...   \n",
       "1  tem alguns problemas ex na navegacao quando en...   \n",
       "2  o aplicativo e bem basico tem informacoes sufi...   \n",
       "3  navegar pela lista de desejos eventualmente to...   \n",
       "4  precisa melhorar a questao da interface e prin...   \n",
       "\n",
       "                                              passo3  \n",
       "0  pros comparado ao aplicativo das concorrentes ...  \n",
       "1  tem alguns problemas ex na navegacao quando en...  \n",
       "2  aplicativo e bem basico tem informacoes sufici...  \n",
       "3  navegar pela lista de desejos eventualmente to...  \n",
       "4  precisa melhorar a questao da interface e prin...  "
      ]
     },
     "execution_count": 32,
     "metadata": {},
     "output_type": "execute_result"
    }
   ],
   "source": [
    "df_content.head(5)"
   ]
  },
  {
   "cell_type": "code",
   "execution_count": 33,
   "id": "5aee7b6d",
   "metadata": {},
   "outputs": [],
   "source": [
    "# REMOVER LETRAS REPETIDAS EM PALAVRAS ALONGADAS\n",
    "# FUNÇÃO PARA REMOÇÃO DE LETRAS REPETIDAS EM PALAVRAS ALONGADAS\n",
    "def RemoveLetras(texto, lista = digrafos_vogais):\n",
    "    lista_palavras =  texto.split(\" \")  \n",
    "    novo_texto = []\n",
    "    vogais = ['a','e','i','o','u']\n",
    "    consoantes = ['b','c','d','f','g','h','j','k','l','m','n','p','q','r','s','t','v','w','x','y','z']\n",
    "    \n",
    "    for palavra in  lista_palavras:\n",
    "        palavra_separada = list(palavra)\n",
    "        \n",
    "        if (palavra in lista):\n",
    "            novo_texto.append(palavra)\n",
    "            \n",
    "        elif (len(set(palavra_separada).intersection(consoantes)) > 0 and len(set(palavra_separada).intersection(vogais)) > 0 and palavra_separada not in lista):\n",
    "            nova_palavra = []\n",
    "            letra_inicial = palavra_separada[0]\n",
    "            nova_palavra.append(letra_inicial)\n",
    "\n",
    "            for i in range(1, len(palavra_separada)):\n",
    "                    letra = palavra_separada[i]\n",
    "                    \n",
    "                    if (letra != palavra_separada[i-1]):\n",
    "                        nova_palavra.append(letra) \n",
    "                    else:\n",
    "                        continue \n",
    "            nova_palavra = \"\".join(nova_palavra)\n",
    "            novo_texto.append(nova_palavra)\n",
    "                    \n",
    "        else:\n",
    "            continue\n",
    "            \n",
    "    novo_texto = \" \".join(novo_texto)\n",
    "    return novo_texto"
   ]
  },
  {
   "cell_type": "code",
   "execution_count": 34,
   "id": "b5686735",
   "metadata": {},
   "outputs": [],
   "source": [
    "df_content['passo4'] = df_content['passo3'].apply(RemoveLetras)"
   ]
  },
  {
   "cell_type": "code",
   "execution_count": 35,
   "id": "f8bea0eb",
   "metadata": {},
   "outputs": [],
   "source": [
    "# APLICANDO NOVAMENTE AS CORREÇÕES APÓS A REMOÇÃO DE LETRAS REPETIDAS EM PALAVRAS ALONGADAS\n",
    "df_content['passo4'] = df_content['passo4'].apply(Correcao1)\n",
    "df_content['passo4'] = df_content['passo4'].apply(Correcao2)"
   ]
  },
  {
   "cell_type": "code",
   "execution_count": 36,
   "id": "5eeda176",
   "metadata": {},
   "outputs": [],
   "source": [
    "# REMOVER DE PONTUAÇÃO NOVAMENTE APÓS CORREÇÃO\n",
    "df_content['passo4'] = df_content['passo4'].apply(RemoveCaracter)    # APLICA A FUNÇÃO DE REMOÇÃO"
   ]
  },
  {
   "cell_type": "code",
   "execution_count": 37,
   "id": "4fb85069",
   "metadata": {},
   "outputs": [
    {
     "data": {
      "text/html": [
       "<div>\n",
       "<style scoped>\n",
       "    .dataframe tbody tr th:only-of-type {\n",
       "        vertical-align: middle;\n",
       "    }\n",
       "\n",
       "    .dataframe tbody tr th {\n",
       "        vertical-align: top;\n",
       "    }\n",
       "\n",
       "    .dataframe thead th {\n",
       "        text-align: right;\n",
       "    }\n",
       "</style>\n",
       "<table border=\"1\" class=\"dataframe\">\n",
       "  <thead>\n",
       "    <tr style=\"text-align: right;\">\n",
       "      <th></th>\n",
       "      <th>sentimento</th>\n",
       "      <th>content</th>\n",
       "      <th>passo1</th>\n",
       "      <th>passo2</th>\n",
       "      <th>passo3</th>\n",
       "      <th>passo4</th>\n",
       "    </tr>\n",
       "  </thead>\n",
       "  <tbody>\n",
       "    <tr>\n",
       "      <th>0</th>\n",
       "      <td>neutro</td>\n",
       "      <td>Prós - Comparado ao aplicativo das concorrente...</td>\n",
       "      <td>pros  comparado ao aplicativo das concorrentes...</td>\n",
       "      <td>pros comparado ao aplicativo das concorrentes ...</td>\n",
       "      <td>pros comparado ao aplicativo das concorrentes ...</td>\n",
       "      <td>pros comparado aplicativo das concorrentes de ...</td>\n",
       "    </tr>\n",
       "    <tr>\n",
       "      <th>1</th>\n",
       "      <td>neutro</td>\n",
       "      <td>Tem alguns problemas. Ex: Na navegação, quando...</td>\n",
       "      <td>tem alguns problemas  ex  na navegacao  quando...</td>\n",
       "      <td>tem alguns problemas ex na navegacao quando en...</td>\n",
       "      <td>tem alguns problemas ex na navegacao quando en...</td>\n",
       "      <td>tem alguns problemas ex na navegacao quando en...</td>\n",
       "    </tr>\n",
       "    <tr>\n",
       "      <th>2</th>\n",
       "      <td>neutro</td>\n",
       "      <td>O aplicativo é bem básico. Tem informações suf...</td>\n",
       "      <td>o aplicativo e bem basico  tem informacoes suf...</td>\n",
       "      <td>o aplicativo e bem basico tem informacoes sufi...</td>\n",
       "      <td>aplicativo e bem basico tem informacoes sufici...</td>\n",
       "      <td>aplicativo bem basico tem informacoes suficien...</td>\n",
       "    </tr>\n",
       "    <tr>\n",
       "      <th>3</th>\n",
       "      <td>neutro</td>\n",
       "      <td>Navegar pela lista de desejos, eventualmente, ...</td>\n",
       "      <td>navegar pela lista de desejos  eventualmente  ...</td>\n",
       "      <td>navegar pela lista de desejos eventualmente to...</td>\n",
       "      <td>navegar pela lista de desejos eventualmente to...</td>\n",
       "      <td>navegar pela lista de desejos eventualmente to...</td>\n",
       "    </tr>\n",
       "    <tr>\n",
       "      <th>4</th>\n",
       "      <td>neutro</td>\n",
       "      <td>Precisa melhorar a questão da interface e prin...</td>\n",
       "      <td>precisa melhorar a questao da interface e prin...</td>\n",
       "      <td>precisa melhorar a questao da interface e prin...</td>\n",
       "      <td>precisa melhorar a questao da interface e prin...</td>\n",
       "      <td>precisa melhorar questao da interface principa...</td>\n",
       "    </tr>\n",
       "  </tbody>\n",
       "</table>\n",
       "</div>"
      ],
      "text/plain": [
       "  sentimento                                            content  \\\n",
       "0     neutro  Prós - Comparado ao aplicativo das concorrente...   \n",
       "1     neutro  Tem alguns problemas. Ex: Na navegação, quando...   \n",
       "2     neutro  O aplicativo é bem básico. Tem informações suf...   \n",
       "3     neutro  Navegar pela lista de desejos, eventualmente, ...   \n",
       "4     neutro  Precisa melhorar a questão da interface e prin...   \n",
       "\n",
       "                                              passo1  \\\n",
       "0  pros  comparado ao aplicativo das concorrentes...   \n",
       "1  tem alguns problemas  ex  na navegacao  quando...   \n",
       "2  o aplicativo e bem basico  tem informacoes suf...   \n",
       "3  navegar pela lista de desejos  eventualmente  ...   \n",
       "4  precisa melhorar a questao da interface e prin...   \n",
       "\n",
       "                                              passo2  \\\n",
       "0  pros comparado ao aplicativo das concorrentes ...   \n",
       "1  tem alguns problemas ex na navegacao quando en...   \n",
       "2  o aplicativo e bem basico tem informacoes sufi...   \n",
       "3  navegar pela lista de desejos eventualmente to...   \n",
       "4  precisa melhorar a questao da interface e prin...   \n",
       "\n",
       "                                              passo3  \\\n",
       "0  pros comparado ao aplicativo das concorrentes ...   \n",
       "1  tem alguns problemas ex na navegacao quando en...   \n",
       "2  aplicativo e bem basico tem informacoes sufici...   \n",
       "3  navegar pela lista de desejos eventualmente to...   \n",
       "4  precisa melhorar a questao da interface e prin...   \n",
       "\n",
       "                                              passo4  \n",
       "0  pros comparado aplicativo das concorrentes de ...  \n",
       "1  tem alguns problemas ex na navegacao quando en...  \n",
       "2  aplicativo bem basico tem informacoes suficien...  \n",
       "3  navegar pela lista de desejos eventualmente to...  \n",
       "4  precisa melhorar questao da interface principa...  "
      ]
     },
     "execution_count": 37,
     "metadata": {},
     "output_type": "execute_result"
    }
   ],
   "source": [
    "df_content.head(5)"
   ]
  },
  {
   "cell_type": "code",
   "execution_count": 38,
   "id": "b5acfe69",
   "metadata": {},
   "outputs": [],
   "source": [
    "# PASSO 3 - REMOÇÃO DAS STOPWORDS \n",
    "stopwords = open(\"stopwords.txt\", encoding = 'UTF-8')\n",
    "stopwords = list(map(RemoveCaracter, stopwords))      # RETIRA ACENTOS DAS STOPWORDS PARA IGUALAR AS PALAVRAS DO DATASET\n",
    "stopwords = list(map(RemoveEspaco, stopwords))        "
   ]
  },
  {
   "cell_type": "code",
   "execution_count": 39,
   "id": "9dfe6aad",
   "metadata": {},
   "outputs": [],
   "source": [
    "# FUNÇÃO DE REMOÇÃO DE STOPWORDS\n",
    "def RemoveStopwords(texto, stopwords = stopwords):     \n",
    "    lista_palavras = texto.split(\" \")                                                         # SPLIT DAS PALAVRAS\n",
    "    remove_stopwords = [palavras for palavras in lista_palavras if palavras not in stopwords] # REMOVE STOPWORDS\n",
    "    lista_palavras = [item.strip() for item in remove_stopwords if item.strip() != '']        # REMOVE ITENS QUE SÃO ESPAÇOS\n",
    "    texto_final = ' '.join(lista_palavras)                                                    # CONCATENA A LISTA\n",
    "    return texto_final"
   ]
  },
  {
   "cell_type": "code",
   "execution_count": 40,
   "id": "eb05433f",
   "metadata": {},
   "outputs": [],
   "source": [
    "df_content['passo5'] = df_content['passo4'].apply(RemoveStopwords)"
   ]
  },
  {
   "cell_type": "code",
   "execution_count": 41,
   "id": "c75a4fad",
   "metadata": {},
   "outputs": [],
   "source": [
    "# QUANTIDADE DE ATRIBUTOS APÓS REMOÇÃO STOPWORDS\n",
    "count_vectorizer1 = CountVectorizer(ngram_range = (1,1))\n",
    "count_vectorizer1.fit_transform(df_content.passo5)\n",
    "variaveis1 = count_vectorizer1.get_feature_names()"
   ]
  },
  {
   "cell_type": "code",
   "execution_count": 42,
   "id": "955b425e",
   "metadata": {},
   "outputs": [
    {
     "data": {
      "text/html": [
       "<div>\n",
       "<style scoped>\n",
       "    .dataframe tbody tr th:only-of-type {\n",
       "        vertical-align: middle;\n",
       "    }\n",
       "\n",
       "    .dataframe tbody tr th {\n",
       "        vertical-align: top;\n",
       "    }\n",
       "\n",
       "    .dataframe thead th {\n",
       "        text-align: right;\n",
       "    }\n",
       "</style>\n",
       "<table border=\"1\" class=\"dataframe\">\n",
       "  <thead>\n",
       "    <tr style=\"text-align: right;\">\n",
       "      <th></th>\n",
       "      <th>sentimento</th>\n",
       "      <th>content</th>\n",
       "      <th>passo1</th>\n",
       "      <th>passo2</th>\n",
       "      <th>passo3</th>\n",
       "      <th>passo4</th>\n",
       "      <th>passo5</th>\n",
       "    </tr>\n",
       "  </thead>\n",
       "  <tbody>\n",
       "    <tr>\n",
       "      <th>0</th>\n",
       "      <td>neutro</td>\n",
       "      <td>Prós - Comparado ao aplicativo das concorrente...</td>\n",
       "      <td>pros  comparado ao aplicativo das concorrentes...</td>\n",
       "      <td>pros comparado ao aplicativo das concorrentes ...</td>\n",
       "      <td>pros comparado ao aplicativo das concorrentes ...</td>\n",
       "      <td>pros comparado aplicativo das concorrentes de ...</td>\n",
       "      <td>pros comparado aplicativo concorrentes longe m...</td>\n",
       "    </tr>\n",
       "    <tr>\n",
       "      <th>1</th>\n",
       "      <td>neutro</td>\n",
       "      <td>Tem alguns problemas. Ex: Na navegação, quando...</td>\n",
       "      <td>tem alguns problemas  ex  na navegacao  quando...</td>\n",
       "      <td>tem alguns problemas ex na navegacao quando en...</td>\n",
       "      <td>tem alguns problemas ex na navegacao quando en...</td>\n",
       "      <td>tem alguns problemas ex na navegacao quando en...</td>\n",
       "      <td>alguns problemas ex navegacao entra produto ap...</td>\n",
       "    </tr>\n",
       "    <tr>\n",
       "      <th>2</th>\n",
       "      <td>neutro</td>\n",
       "      <td>O aplicativo é bem básico. Tem informações suf...</td>\n",
       "      <td>o aplicativo e bem basico  tem informacoes suf...</td>\n",
       "      <td>o aplicativo e bem basico tem informacoes sufi...</td>\n",
       "      <td>aplicativo e bem basico tem informacoes sufici...</td>\n",
       "      <td>aplicativo bem basico tem informacoes suficien...</td>\n",
       "      <td>aplicativo bem basico informacoes suficientes ...</td>\n",
       "    </tr>\n",
       "    <tr>\n",
       "      <th>3</th>\n",
       "      <td>neutro</td>\n",
       "      <td>Navegar pela lista de desejos, eventualmente, ...</td>\n",
       "      <td>navegar pela lista de desejos  eventualmente  ...</td>\n",
       "      <td>navegar pela lista de desejos eventualmente to...</td>\n",
       "      <td>navegar pela lista de desejos eventualmente to...</td>\n",
       "      <td>navegar pela lista de desejos eventualmente to...</td>\n",
       "      <td>navegar lista desejos eventualmente tornase im...</td>\n",
       "    </tr>\n",
       "    <tr>\n",
       "      <th>4</th>\n",
       "      <td>neutro</td>\n",
       "      <td>Precisa melhorar a questão da interface e prin...</td>\n",
       "      <td>precisa melhorar a questao da interface e prin...</td>\n",
       "      <td>precisa melhorar a questao da interface e prin...</td>\n",
       "      <td>precisa melhorar a questao da interface e prin...</td>\n",
       "      <td>precisa melhorar questao da interface principa...</td>\n",
       "      <td>precisa melhorar questao interface filtros cat...</td>\n",
       "    </tr>\n",
       "  </tbody>\n",
       "</table>\n",
       "</div>"
      ],
      "text/plain": [
       "  sentimento                                            content  \\\n",
       "0     neutro  Prós - Comparado ao aplicativo das concorrente...   \n",
       "1     neutro  Tem alguns problemas. Ex: Na navegação, quando...   \n",
       "2     neutro  O aplicativo é bem básico. Tem informações suf...   \n",
       "3     neutro  Navegar pela lista de desejos, eventualmente, ...   \n",
       "4     neutro  Precisa melhorar a questão da interface e prin...   \n",
       "\n",
       "                                              passo1  \\\n",
       "0  pros  comparado ao aplicativo das concorrentes...   \n",
       "1  tem alguns problemas  ex  na navegacao  quando...   \n",
       "2  o aplicativo e bem basico  tem informacoes suf...   \n",
       "3  navegar pela lista de desejos  eventualmente  ...   \n",
       "4  precisa melhorar a questao da interface e prin...   \n",
       "\n",
       "                                              passo2  \\\n",
       "0  pros comparado ao aplicativo das concorrentes ...   \n",
       "1  tem alguns problemas ex na navegacao quando en...   \n",
       "2  o aplicativo e bem basico tem informacoes sufi...   \n",
       "3  navegar pela lista de desejos eventualmente to...   \n",
       "4  precisa melhorar a questao da interface e prin...   \n",
       "\n",
       "                                              passo3  \\\n",
       "0  pros comparado ao aplicativo das concorrentes ...   \n",
       "1  tem alguns problemas ex na navegacao quando en...   \n",
       "2  aplicativo e bem basico tem informacoes sufici...   \n",
       "3  navegar pela lista de desejos eventualmente to...   \n",
       "4  precisa melhorar a questao da interface e prin...   \n",
       "\n",
       "                                              passo4  \\\n",
       "0  pros comparado aplicativo das concorrentes de ...   \n",
       "1  tem alguns problemas ex na navegacao quando en...   \n",
       "2  aplicativo bem basico tem informacoes suficien...   \n",
       "3  navegar pela lista de desejos eventualmente to...   \n",
       "4  precisa melhorar questao da interface principa...   \n",
       "\n",
       "                                              passo5  \n",
       "0  pros comparado aplicativo concorrentes longe m...  \n",
       "1  alguns problemas ex navegacao entra produto ap...  \n",
       "2  aplicativo bem basico informacoes suficientes ...  \n",
       "3  navegar lista desejos eventualmente tornase im...  \n",
       "4  precisa melhorar questao interface filtros cat...  "
      ]
     },
     "execution_count": 42,
     "metadata": {},
     "output_type": "execute_result"
    }
   ],
   "source": [
    "df_content.head(5)"
   ]
  },
  {
   "cell_type": "code",
   "execution_count": 43,
   "id": "d575cdb2",
   "metadata": {},
   "outputs": [],
   "source": [
    "# FREQUÊNCIA DE PALAVRAS\n",
    "lista_sentencas2 = df_content['passo5'].tolist()                                    # TRANSFORMA COLUNA EM LISTA\n",
    "concatena_sentencas = \" \".join(lista_sentencas2)                                    # CONCATENA AS SENTENÇAS DA LISTA\n",
    "lista_palavras2 = concatena_sentencas.split(\" \")                                    # FAZ O SPLIT DAS PALAVRAS \n",
    "lista_palavras2 = [item.strip() for item in lista_palavras2 if item.strip() != '']  # REMOVE ITENS QUE SÃO ESPAÇOS"
   ]
  },
  {
   "cell_type": "code",
   "execution_count": 44,
   "id": "a500d57c",
   "metadata": {},
   "outputs": [
    {
     "data": {
      "text/plain": [
       "3342097"
      ]
     },
     "execution_count": 44,
     "metadata": {},
     "output_type": "execute_result"
    }
   ],
   "source": [
    "len(lista_palavras2)"
   ]
  },
  {
   "cell_type": "code",
   "execution_count": 45,
   "id": "09010ee7",
   "metadata": {},
   "outputs": [],
   "source": [
    "frequencia2 = Counter(lista_palavras2) # GERA A FREQUÊNCIA DE CADA PALAVRA"
   ]
  },
  {
   "cell_type": "code",
   "execution_count": 46,
   "id": "c27c6d61",
   "metadata": {},
   "outputs": [],
   "source": [
    "frequencia_decrescente2 = {k: v for k, v in sorted(frequencia2.items(), key = lambda item: item[1], reverse = True)}"
   ]
  },
  {
   "cell_type": "code",
   "execution_count": 47,
   "id": "2b1d2c18",
   "metadata": {},
   "outputs": [],
   "source": [
    "frequencia_decrescente2 = {k: v for k, v in sorted(frequencia2.items(), key = lambda item: item[1], reverse = False)}"
   ]
  },
  {
   "cell_type": "code",
   "execution_count": 48,
   "id": "c098a606",
   "metadata": {},
   "outputs": [],
   "source": [
    "# CRIAR NOVA WORDCLOUD APÓS LIMPEZA DOS DADOS\n",
    "texto_wordcloud2 = \" \".join(lista_palavras2)"
   ]
  },
  {
   "cell_type": "code",
   "execution_count": 49,
   "id": "1ba9953a",
   "metadata": {},
   "outputs": [
    {
     "data": {
      "text/plain": [
       "<wordcloud.wordcloud.WordCloud at 0x24cc565a850>"
      ]
     },
     "execution_count": 49,
     "metadata": {},
     "output_type": "execute_result"
    },
    {
     "data": {
      "image/png": "[encoded data removed]",
      "text/plain": [
       "<Figure size 640x480 with 1 Axes>"
      ]
     },
     "metadata": {},
     "output_type": "display_data"
    }
   ],
   "source": [
    "# WORDCLOUD\n",
    "wordcloud2 = WordCloud(width = 800, height = 400, background_color = \"white\", collocations = False, \n",
    "                      include_numbers = True, random_state = 1)\n",
    "wordcloud2.generate(texto_wordcloud2)\n",
    "\n",
    "# GRÁFICO\n",
    "#plt.figure(figsize = (40, 8))\n",
    "plt.axis(\"off\")\n",
    "plt.imshow(wordcloud2)\n",
    "wordcloud2.to_file(\"wordcloud-depois.png\")"
   ]
  },
  {
   "cell_type": "markdown",
   "id": "047bff6f",
   "metadata": {},
   "source": [
    "O \"não\" foi removido da lista de stopwords, pois se removido como stopwords iria afetar o sentido de algumas sentenças no português. Ex: \"não é bom\" (negativo), \"é bom\" (positivo)."
   ]
  },
  {
   "cell_type": "markdown",
   "id": "80cda42e",
   "metadata": {},
   "source": [
    "#### LEMMATIZATION E STEMMING"
   ]
  },
  {
   "cell_type": "code",
   "execution_count": 50,
   "id": "4644a7ef",
   "metadata": {},
   "outputs": [],
   "source": [
    "# FUNÇÃO LEMMATIZATION\n",
    "def Lematizacao(texto):\n",
    "    lista_palavras = texto.split(\" \") \n",
    "    lista_palavras = [item.strip() for item in lista_palavras if item.strip() != ''] \n",
    "    lista_lema = []\n",
    "\n",
    "    \n",
    "    for palavra in lista_palavras:\n",
    "        if palavra in dicionario_lema.keys():\n",
    "            palavra_lema = dicionario_lema.get(palavra)\n",
    "            lista_lema.append(palavra_lema)\n",
    "            \n",
    "        else:\n",
    "            lista_lema.append(palavra)\n",
    "            \n",
    "    texto_lema = ' '.join(lista_lema) \n",
    "    return texto_lema"
   ]
  },
  {
   "cell_type": "code",
   "execution_count": 51,
   "id": "6ad5ccf0",
   "metadata": {},
   "outputs": [],
   "source": [
    "# LEMATIZAÇÃO\n",
    "arquivo_lema = open(\"lematizacao-portugues.txt\", encoding = 'UTF-8')"
   ]
  },
  {
   "cell_type": "code",
   "execution_count": 52,
   "id": "a62721dd",
   "metadata": {},
   "outputs": [],
   "source": [
    "dicionario_lema = {}\n",
    "\n",
    "for linha in arquivo_lema:\n",
    "    palavras = linha.split()\n",
    "    dicionario_lema[RemoveCaracter(palavras[1])] = RemoveCaracter(palavras[0])"
   ]
  },
  {
   "cell_type": "code",
   "execution_count": 53,
   "id": "798753d7",
   "metadata": {},
   "outputs": [],
   "source": [
    "df_content['passo6'] = df_content['passo5'].apply(Lematizacao)"
   ]
  },
  {
   "cell_type": "code",
   "execution_count": 54,
   "id": "8200f282",
   "metadata": {},
   "outputs": [
    {
     "data": {
      "text/html": [
       "<div>\n",
       "<style scoped>\n",
       "    .dataframe tbody tr th:only-of-type {\n",
       "        vertical-align: middle;\n",
       "    }\n",
       "\n",
       "    .dataframe tbody tr th {\n",
       "        vertical-align: top;\n",
       "    }\n",
       "\n",
       "    .dataframe thead th {\n",
       "        text-align: right;\n",
       "    }\n",
       "</style>\n",
       "<table border=\"1\" class=\"dataframe\">\n",
       "  <thead>\n",
       "    <tr style=\"text-align: right;\">\n",
       "      <th></th>\n",
       "      <th>passo5</th>\n",
       "      <th>passo6</th>\n",
       "    </tr>\n",
       "  </thead>\n",
       "  <tbody>\n",
       "    <tr>\n",
       "      <th>0</th>\n",
       "      <td>pros comparado aplicativo concorrentes longe m...</td>\n",
       "      <td>pros comparar aplicativo concorrente longe mel...</td>\n",
       "    </tr>\n",
       "    <tr>\n",
       "      <th>1</th>\n",
       "      <td>alguns problemas ex navegacao entra produto ap...</td>\n",
       "      <td>algum problema ex navegacao entrar produto ape...</td>\n",
       "    </tr>\n",
       "    <tr>\n",
       "      <th>2</th>\n",
       "      <td>aplicativo bem basico informacoes suficientes ...</td>\n",
       "      <td>aplicativo bem basico informacao suficiente re...</td>\n",
       "    </tr>\n",
       "    <tr>\n",
       "      <th>3</th>\n",
       "      <td>navegar lista desejos eventualmente tornase im...</td>\n",
       "      <td>navegar lista desejo eventualmente tornase imp...</td>\n",
       "    </tr>\n",
       "    <tr>\n",
       "      <th>4</th>\n",
       "      <td>precisa melhorar questao interface filtros cat...</td>\n",
       "      <td>preciso melhorar questao interface filtro cate...</td>\n",
       "    </tr>\n",
       "    <tr>\n",
       "      <th>...</th>\n",
       "      <td>...</td>\n",
       "      <td>...</td>\n",
       "    </tr>\n",
       "    <tr>\n",
       "      <th>319138</th>\n",
       "      <td>aumenta</td>\n",
       "      <td>aumentar</td>\n",
       "    </tr>\n",
       "    <tr>\n",
       "      <th>319139</th>\n",
       "      <td>bom</td>\n",
       "      <td>bom</td>\n",
       "    </tr>\n",
       "    <tr>\n",
       "      <th>319140</th>\n",
       "      <td>gostei recomendo</td>\n",
       "      <td>gostar recomendar</td>\n",
       "    </tr>\n",
       "    <tr>\n",
       "      <th>319141</th>\n",
       "      <td>facil encontrar produtos qualidade gostei</td>\n",
       "      <td>facil encontrar produto qualidade gostar</td>\n",
       "    </tr>\n",
       "    <tr>\n",
       "      <th>319142</th>\n",
       "      <td>otimo</td>\n",
       "      <td>otimo</td>\n",
       "    </tr>\n",
       "  </tbody>\n",
       "</table>\n",
       "<p>319143 rows × 2 columns</p>\n",
       "</div>"
      ],
      "text/plain": [
       "                                                   passo5  \\\n",
       "0       pros comparado aplicativo concorrentes longe m...   \n",
       "1       alguns problemas ex navegacao entra produto ap...   \n",
       "2       aplicativo bem basico informacoes suficientes ...   \n",
       "3       navegar lista desejos eventualmente tornase im...   \n",
       "4       precisa melhorar questao interface filtros cat...   \n",
       "...                                                   ...   \n",
       "319138                                            aumenta   \n",
       "319139                                                bom   \n",
       "319140                                   gostei recomendo   \n",
       "319141          facil encontrar produtos qualidade gostei   \n",
       "319142                                              otimo   \n",
       "\n",
       "                                                   passo6  \n",
       "0       pros comparar aplicativo concorrente longe mel...  \n",
       "1       algum problema ex navegacao entrar produto ape...  \n",
       "2       aplicativo bem basico informacao suficiente re...  \n",
       "3       navegar lista desejo eventualmente tornase imp...  \n",
       "4       preciso melhorar questao interface filtro cate...  \n",
       "...                                                   ...  \n",
       "319138                                           aumentar  \n",
       "319139                                                bom  \n",
       "319140                                  gostar recomendar  \n",
       "319141           facil encontrar produto qualidade gostar  \n",
       "319142                                              otimo  \n",
       "\n",
       "[319143 rows x 2 columns]"
      ]
     },
     "execution_count": 54,
     "metadata": {},
     "output_type": "execute_result"
    }
   ],
   "source": [
    "df_content.loc[:,['passo5','passo6']]"
   ]
  },
  {
   "cell_type": "code",
   "execution_count": 55,
   "id": "221f6c2c",
   "metadata": {},
   "outputs": [],
   "source": [
    "# QUANTIDADE DE ATRIBUTOS APÓS LEMATIZAÇÃO\n",
    "count_vectorizer2 = CountVectorizer(ngram_range = (1,1))\n",
    "count_vectorizer2.fit_transform(df_content.passo6)\n",
    "variaveis2 = count_vectorizer2.get_feature_names()"
   ]
  },
  {
   "cell_type": "code",
   "execution_count": 56,
   "id": "873fca21",
   "metadata": {},
   "outputs": [
    {
     "name": "stdout",
     "output_type": "stream",
     "text": [
      "Quantidade de atributos após aplicação das stopwords: 53680 palavras\n",
      "Quantidade de atributos após aplicação da lematização: 37022 palavras\n"
     ]
    }
   ],
   "source": [
    "# COMPARAÇÃO QUANTIDADE DE PALAVRAS ANTES E DEPOIS DA LEMATIZAÇÃO\n",
    "print(f\"Quantidade de atributos após aplicação das stopwords: {len(variaveis1)} palavras\")\n",
    "print(f\"Quantidade de atributos após aplicação da lematização: {len(variaveis2)} palavras\")"
   ]
  },
  {
   "cell_type": "markdown",
   "id": "49c468e1",
   "metadata": {},
   "source": [
    "#### STEMMING\n"
   ]
  },
  {
   "cell_type": "code",
   "execution_count": 57,
   "id": "33e769b7",
   "metadata": {},
   "outputs": [
    {
     "name": "stderr",
     "output_type": "stream",
     "text": [
      "[nltk_data] Downloading package rslp to\n",
      "[nltk_data]     C:\\Users\\lealj\\AppData\\Roaming\\nltk_data...\n",
      "[nltk_data]   Package rslp is already up-to-date!\n"
     ]
    },
    {
     "data": {
      "text/plain": [
       "True"
      ]
     },
     "execution_count": 57,
     "metadata": {},
     "output_type": "execute_result"
    }
   ],
   "source": [
    "nltk.download('rslp')"
   ]
  },
  {
   "cell_type": "code",
   "execution_count": 58,
   "id": "d24a724b",
   "metadata": {},
   "outputs": [],
   "source": [
    "# FUNÇÃO STEMMING\n",
    "def Stemming(texto):\n",
    "    pt_stemmi = RSLPStemmer()\n",
    "    lista_palavras = texto.split(\" \") \n",
    "    lista_palavras = [item.strip() for item in lista_palavras if item.strip() != ''] \n",
    "    lista_stemmi = []\n",
    "\n",
    "    \n",
    "    for palavra in lista_palavras:\n",
    "            lista_stemmi.append(pt_stemmi.stem(palavra))\n",
    "            \n",
    "    texto_stemmi = ' '.join(lista_stemmi) \n",
    "    return texto_stemmi"
   ]
  },
  {
   "cell_type": "code",
   "execution_count": 59,
   "id": "d264b6f0",
   "metadata": {},
   "outputs": [],
   "source": [
    "df_content['passo7'] = df_content['passo5'].apply(Stemming)"
   ]
  },
  {
   "cell_type": "code",
   "execution_count": 60,
   "id": "79add875",
   "metadata": {},
   "outputs": [
    {
     "data": {
      "text/html": [
       "<div>\n",
       "<style scoped>\n",
       "    .dataframe tbody tr th:only-of-type {\n",
       "        vertical-align: middle;\n",
       "    }\n",
       "\n",
       "    .dataframe tbody tr th {\n",
       "        vertical-align: top;\n",
       "    }\n",
       "\n",
       "    .dataframe thead th {\n",
       "        text-align: right;\n",
       "    }\n",
       "</style>\n",
       "<table border=\"1\" class=\"dataframe\">\n",
       "  <thead>\n",
       "    <tr style=\"text-align: right;\">\n",
       "      <th></th>\n",
       "      <th>passo5</th>\n",
       "      <th>passo6</th>\n",
       "      <th>passo7</th>\n",
       "    </tr>\n",
       "  </thead>\n",
       "  <tbody>\n",
       "    <tr>\n",
       "      <th>0</th>\n",
       "      <td>pros comparado aplicativo concorrentes longe m...</td>\n",
       "      <td>pros comparar aplicativo concorrente longe mel...</td>\n",
       "      <td>pro compar aplic concorr long melhor lev intui...</td>\n",
       "    </tr>\n",
       "    <tr>\n",
       "      <th>1</th>\n",
       "      <td>alguns problemas ex navegacao entra produto ap...</td>\n",
       "      <td>algum problema ex navegacao entrar produto ape...</td>\n",
       "      <td>algum problem ex navegaca entr produt apert im...</td>\n",
       "    </tr>\n",
       "    <tr>\n",
       "      <th>2</th>\n",
       "      <td>aplicativo bem basico informacoes suficientes ...</td>\n",
       "      <td>aplicativo bem basico informacao suficiente re...</td>\n",
       "      <td>aplic bem basic informaco sufici realizaca com...</td>\n",
       "    </tr>\n",
       "    <tr>\n",
       "      <th>3</th>\n",
       "      <td>navegar lista desejos eventualmente tornase im...</td>\n",
       "      <td>navegar lista desejo eventualmente tornase imp...</td>\n",
       "      <td>naveg list desej event tornas impossi quant te...</td>\n",
       "    </tr>\n",
       "    <tr>\n",
       "      <th>4</th>\n",
       "      <td>precisa melhorar questao interface filtros cat...</td>\n",
       "      <td>preciso melhorar questao interface filtro cate...</td>\n",
       "      <td>precis melhor questa interfac filtr categor pr...</td>\n",
       "    </tr>\n",
       "    <tr>\n",
       "      <th>...</th>\n",
       "      <td>...</td>\n",
       "      <td>...</td>\n",
       "      <td>...</td>\n",
       "    </tr>\n",
       "    <tr>\n",
       "      <th>319138</th>\n",
       "      <td>aumenta</td>\n",
       "      <td>aumentar</td>\n",
       "      <td>aument</td>\n",
       "    </tr>\n",
       "    <tr>\n",
       "      <th>319139</th>\n",
       "      <td>bom</td>\n",
       "      <td>bom</td>\n",
       "      <td>bom</td>\n",
       "    </tr>\n",
       "    <tr>\n",
       "      <th>319140</th>\n",
       "      <td>gostei recomendo</td>\n",
       "      <td>gostar recomendar</td>\n",
       "      <td>gost recom</td>\n",
       "    </tr>\n",
       "    <tr>\n",
       "      <th>319141</th>\n",
       "      <td>facil encontrar produtos qualidade gostei</td>\n",
       "      <td>facil encontrar produto qualidade gostar</td>\n",
       "      <td>facil encontr produt qual gost</td>\n",
       "    </tr>\n",
       "    <tr>\n",
       "      <th>319142</th>\n",
       "      <td>otimo</td>\n",
       "      <td>otimo</td>\n",
       "      <td>otim</td>\n",
       "    </tr>\n",
       "  </tbody>\n",
       "</table>\n",
       "<p>319143 rows × 3 columns</p>\n",
       "</div>"
      ],
      "text/plain": [
       "                                                   passo5  \\\n",
       "0       pros comparado aplicativo concorrentes longe m...   \n",
       "1       alguns problemas ex navegacao entra produto ap...   \n",
       "2       aplicativo bem basico informacoes suficientes ...   \n",
       "3       navegar lista desejos eventualmente tornase im...   \n",
       "4       precisa melhorar questao interface filtros cat...   \n",
       "...                                                   ...   \n",
       "319138                                            aumenta   \n",
       "319139                                                bom   \n",
       "319140                                   gostei recomendo   \n",
       "319141          facil encontrar produtos qualidade gostei   \n",
       "319142                                              otimo   \n",
       "\n",
       "                                                   passo6  \\\n",
       "0       pros comparar aplicativo concorrente longe mel...   \n",
       "1       algum problema ex navegacao entrar produto ape...   \n",
       "2       aplicativo bem basico informacao suficiente re...   \n",
       "3       navegar lista desejo eventualmente tornase imp...   \n",
       "4       preciso melhorar questao interface filtro cate...   \n",
       "...                                                   ...   \n",
       "319138                                           aumentar   \n",
       "319139                                                bom   \n",
       "319140                                  gostar recomendar   \n",
       "319141           facil encontrar produto qualidade gostar   \n",
       "319142                                              otimo   \n",
       "\n",
       "                                                   passo7  \n",
       "0       pro compar aplic concorr long melhor lev intui...  \n",
       "1       algum problem ex navegaca entr produt apert im...  \n",
       "2       aplic bem basic informaco sufici realizaca com...  \n",
       "3       naveg list desej event tornas impossi quant te...  \n",
       "4       precis melhor questa interfac filtr categor pr...  \n",
       "...                                                   ...  \n",
       "319138                                             aument  \n",
       "319139                                                bom  \n",
       "319140                                         gost recom  \n",
       "319141                     facil encontr produt qual gost  \n",
       "319142                                               otim  \n",
       "\n",
       "[319143 rows x 3 columns]"
      ]
     },
     "execution_count": 60,
     "metadata": {},
     "output_type": "execute_result"
    }
   ],
   "source": [
    "df_content.loc[:,['passo5','passo6','passo7']]"
   ]
  },
  {
   "cell_type": "code",
   "execution_count": 61,
   "id": "8ddf2793",
   "metadata": {},
   "outputs": [
    {
     "data": {
      "text/plain": [
       "False"
      ]
     },
     "execution_count": 61,
     "metadata": {},
     "output_type": "execute_result"
    }
   ],
   "source": [
    "# VERIFICAR A EXISTÊNCIA DE VALORES NaN NO CAMPO DE COMENTÁRIOS DO PASSO 5\n",
    "df_content[['passo6']].isna().values.any()"
   ]
  },
  {
   "cell_type": "code",
   "execution_count": 62,
   "id": "942c858a",
   "metadata": {},
   "outputs": [
    {
     "data": {
      "text/html": [
       "<div>\n",
       "<style scoped>\n",
       "    .dataframe tbody tr th:only-of-type {\n",
       "        vertical-align: middle;\n",
       "    }\n",
       "\n",
       "    .dataframe tbody tr th {\n",
       "        vertical-align: top;\n",
       "    }\n",
       "\n",
       "    .dataframe thead th {\n",
       "        text-align: right;\n",
       "    }\n",
       "</style>\n",
       "<table border=\"1\" class=\"dataframe\">\n",
       "  <thead>\n",
       "    <tr style=\"text-align: right;\">\n",
       "      <th></th>\n",
       "      <th>sentimento</th>\n",
       "      <th>content</th>\n",
       "      <th>passo1</th>\n",
       "      <th>passo2</th>\n",
       "      <th>passo3</th>\n",
       "      <th>passo4</th>\n",
       "      <th>passo5</th>\n",
       "      <th>passo6</th>\n",
       "      <th>passo7</th>\n",
       "    </tr>\n",
       "  </thead>\n",
       "  <tbody>\n",
       "    <tr>\n",
       "      <th>1140</th>\n",
       "      <td>neutro</td>\n",
       "      <td>Mais do mesmo</td>\n",
       "      <td>mais do mesmo</td>\n",
       "      <td>mais do mesmo</td>\n",
       "      <td>mais do mesmo</td>\n",
       "      <td>mais do mesmo</td>\n",
       "      <td></td>\n",
       "      <td></td>\n",
       "      <td></td>\n",
       "    </tr>\n",
       "    <tr>\n",
       "      <th>1164</th>\n",
       "      <td>neutro</td>\n",
       "      <td>Que a sws</td>\n",
       "      <td>que a sws</td>\n",
       "      <td>que a sws</td>\n",
       "      <td>que a sws</td>\n",
       "      <td>que</td>\n",
       "      <td></td>\n",
       "      <td></td>\n",
       "      <td></td>\n",
       "    </tr>\n",
       "    <tr>\n",
       "      <th>1187</th>\n",
       "      <td>neutro</td>\n",
       "      <td>⁴disske 3613-7 i0k</td>\n",
       "      <td>disske       i k</td>\n",
       "      <td>disske i k</td>\n",
       "      <td></td>\n",
       "      <td></td>\n",
       "      <td></td>\n",
       "      <td></td>\n",
       "      <td></td>\n",
       "    </tr>\n",
       "    <tr>\n",
       "      <th>1191</th>\n",
       "      <td>neutro</td>\n",
       "      <td>Amazon</td>\n",
       "      <td>amazon</td>\n",
       "      <td>amazon</td>\n",
       "      <td></td>\n",
       "      <td></td>\n",
       "      <td></td>\n",
       "      <td></td>\n",
       "      <td></td>\n",
       "    </tr>\n",
       "    <tr>\n",
       "      <th>1201</th>\n",
       "      <td>neutro</td>\n",
       "      <td>556 5</td>\n",
       "      <td></td>\n",
       "      <td></td>\n",
       "      <td></td>\n",
       "      <td></td>\n",
       "      <td></td>\n",
       "      <td></td>\n",
       "      <td></td>\n",
       "    </tr>\n",
       "    <tr>\n",
       "      <th>...</th>\n",
       "      <td>...</td>\n",
       "      <td>...</td>\n",
       "      <td>...</td>\n",
       "      <td>...</td>\n",
       "      <td>...</td>\n",
       "      <td>...</td>\n",
       "      <td>...</td>\n",
       "      <td>...</td>\n",
       "      <td>...</td>\n",
       "    </tr>\n",
       "    <tr>\n",
       "      <th>318533</th>\n",
       "      <td>positivo</td>\n",
       "      <td>😁😁😁</td>\n",
       "      <td></td>\n",
       "      <td></td>\n",
       "      <td></td>\n",
       "      <td></td>\n",
       "      <td></td>\n",
       "      <td></td>\n",
       "      <td></td>\n",
       "    </tr>\n",
       "    <tr>\n",
       "      <th>318592</th>\n",
       "      <td>positivo</td>\n",
       "      <td>👍👍👍</td>\n",
       "      <td></td>\n",
       "      <td></td>\n",
       "      <td></td>\n",
       "      <td></td>\n",
       "      <td></td>\n",
       "      <td></td>\n",
       "      <td></td>\n",
       "    </tr>\n",
       "    <tr>\n",
       "      <th>318868</th>\n",
       "      <td>positivo</td>\n",
       "      <td>👍</td>\n",
       "      <td></td>\n",
       "      <td></td>\n",
       "      <td></td>\n",
       "      <td></td>\n",
       "      <td></td>\n",
       "      <td></td>\n",
       "      <td></td>\n",
       "    </tr>\n",
       "    <tr>\n",
       "      <th>318977</th>\n",
       "      <td>positivo</td>\n",
       "      <td>🌵</td>\n",
       "      <td></td>\n",
       "      <td></td>\n",
       "      <td></td>\n",
       "      <td></td>\n",
       "      <td></td>\n",
       "      <td></td>\n",
       "      <td></td>\n",
       "    </tr>\n",
       "    <tr>\n",
       "      <th>319075</th>\n",
       "      <td>positivo</td>\n",
       "      <td>👏</td>\n",
       "      <td></td>\n",
       "      <td></td>\n",
       "      <td></td>\n",
       "      <td></td>\n",
       "      <td></td>\n",
       "      <td></td>\n",
       "      <td></td>\n",
       "    </tr>\n",
       "  </tbody>\n",
       "</table>\n",
       "<p>2232 rows × 9 columns</p>\n",
       "</div>"
      ],
      "text/plain": [
       "       sentimento             content             passo1         passo2  \\\n",
       "1140       neutro       Mais do mesmo      mais do mesmo  mais do mesmo   \n",
       "1164       neutro           Que a sws          que a sws      que a sws   \n",
       "1187       neutro  ⁴disske 3613-7 i0k   disske       i k     disske i k   \n",
       "1191       neutro              Amazon             amazon         amazon   \n",
       "1201       neutro               556 5                                     \n",
       "...           ...                 ...                ...            ...   \n",
       "318533   positivo                 😁😁😁                                     \n",
       "318592   positivo                 👍👍👍                                     \n",
       "318868   positivo                   👍                                     \n",
       "318977   positivo                   🌵                                     \n",
       "319075   positivo                   👏                                     \n",
       "\n",
       "               passo3         passo4 passo5 passo6 passo7  \n",
       "1140    mais do mesmo  mais do mesmo                       \n",
       "1164        que a sws            que                       \n",
       "1187                                                       \n",
       "1191                                                       \n",
       "1201                                                       \n",
       "...               ...            ...    ...    ...    ...  \n",
       "318533                                                     \n",
       "318592                                                     \n",
       "318868                                                     \n",
       "318977                                                     \n",
       "319075                                                     \n",
       "\n",
       "[2232 rows x 9 columns]"
      ]
     },
     "execution_count": 62,
     "metadata": {},
     "output_type": "execute_result"
    }
   ],
   "source": [
    "# VERIFICAR CAMPOS VAZIOS\n",
    "df_content.loc[df_content['passo6'] == '']"
   ]
  },
  {
   "cell_type": "code",
   "execution_count": 63,
   "id": "812fa1f2",
   "metadata": {},
   "outputs": [],
   "source": [
    "# REMOVE ESPAÇOS EM BRANCO\n",
    "indices = df_content[df_content['passo6'] == ''].index\n",
    "df_content.drop(indices , inplace = True)"
   ]
  },
  {
   "cell_type": "code",
   "execution_count": 64,
   "id": "a2e32b81",
   "metadata": {},
   "outputs": [
    {
     "data": {
      "text/html": [
       "<div>\n",
       "<style scoped>\n",
       "    .dataframe tbody tr th:only-of-type {\n",
       "        vertical-align: middle;\n",
       "    }\n",
       "\n",
       "    .dataframe tbody tr th {\n",
       "        vertical-align: top;\n",
       "    }\n",
       "\n",
       "    .dataframe thead th {\n",
       "        text-align: right;\n",
       "    }\n",
       "</style>\n",
       "<table border=\"1\" class=\"dataframe\">\n",
       "  <thead>\n",
       "    <tr style=\"text-align: right;\">\n",
       "      <th></th>\n",
       "      <th>sentimento</th>\n",
       "      <th>content</th>\n",
       "      <th>passo1</th>\n",
       "      <th>passo2</th>\n",
       "      <th>passo3</th>\n",
       "      <th>passo4</th>\n",
       "      <th>passo5</th>\n",
       "      <th>passo6</th>\n",
       "      <th>passo7</th>\n",
       "    </tr>\n",
       "  </thead>\n",
       "  <tbody>\n",
       "    <tr>\n",
       "      <th>106381</th>\n",
       "      <td>negativo</td>\n",
       "      <td>Promoção cartão sem anuidade, me enviaram e-ma...</td>\n",
       "      <td>promocao cartao sem anuidade  me enviaram emai...</td>\n",
       "      <td>promocao cartao sem anuidade me enviaram email...</td>\n",
       "      <td>promocao cartao sem anuidade me enviaram email...</td>\n",
       "      <td>promocao cartao sem anuidade me enviaram email...</td>\n",
       "      <td>promocao cartao anuidade enviaram email tentei...</td>\n",
       "      <td>promocao cartao anuidade enviar email tentar f...</td>\n",
       "      <td>promoca carta anuidad envi email tent faz comp...</td>\n",
       "    </tr>\n",
       "    <tr>\n",
       "      <th>106382</th>\n",
       "      <td>negativo</td>\n",
       "      <td>Este app e verdadeiramente uma piada, com preç...</td>\n",
       "      <td>este app e verdadeiramente uma piada  com prec...</td>\n",
       "      <td>este app e verdadeiramente uma piada com preco...</td>\n",
       "      <td>este app e verdadeiramente uma piada com preco...</td>\n",
       "      <td>este app verdadeiramente uma piada com precos ...</td>\n",
       "      <td>app verdadeiramente piada precos exorbitantes ...</td>\n",
       "      <td>app verdadeiramente piar preco exorbitante pro...</td>\n",
       "      <td>app verdade pi prec exorbit produt falcific pl...</td>\n",
       "    </tr>\n",
       "    <tr>\n",
       "      <th>106383</th>\n",
       "      <td>negativo</td>\n",
       "      <td>Péssimo nao aceita meu email</td>\n",
       "      <td>pessimo nao aceita meu email</td>\n",
       "      <td>pessimo nao aceita meu email</td>\n",
       "      <td>pessimo nao aceita meu email</td>\n",
       "      <td>pessimo nao aceita meu email</td>\n",
       "      <td>pessimo nao aceita email</td>\n",
       "      <td>mau nao aceito email</td>\n",
       "      <td>pess nao aceit email</td>\n",
       "    </tr>\n",
       "    <tr>\n",
       "      <th>106384</th>\n",
       "      <td>negativo</td>\n",
       "      <td>Comprei vários produtos há uns meses atrás por...</td>\n",
       "      <td>comprei varios produtos ha uns meses atras por...</td>\n",
       "      <td>comprei varios produtos ha uns meses atras por...</td>\n",
       "      <td>comprei varios produtos ha uns meses atras por...</td>\n",
       "      <td>comprei varios produtos ha uns meses atras por...</td>\n",
       "      <td>comprei produtos meses atras mercadoria nao sa...</td>\n",
       "      <td>comprar produto mes atro mercadoria nao sair l...</td>\n",
       "      <td>compr produt mes atr mercad nao sai lig diz co...</td>\n",
       "    </tr>\n",
       "    <tr>\n",
       "      <th>106385</th>\n",
       "      <td>negativo</td>\n",
       "      <td>O aplicativo é bom, mais eu me decepcionei com...</td>\n",
       "      <td>o aplicativo e bom  mais eu me decepcionei com...</td>\n",
       "      <td>o aplicativo e bom mais eu me decepcionei com ...</td>\n",
       "      <td>aplicativo e bom mais eu me decepcionei com qu...</td>\n",
       "      <td>aplicativo bom mais me decepcionei com que qua...</td>\n",
       "      <td>aplicativo bom decepcionei qualidade produto</td>\n",
       "      <td>aplicativo bom decepcionar qualidade produto</td>\n",
       "      <td>aplic bom decepcion qual produt</td>\n",
       "    </tr>\n",
       "  </tbody>\n",
       "</table>\n",
       "</div>"
      ],
      "text/plain": [
       "       sentimento                                            content  \\\n",
       "106381   negativo  Promoção cartão sem anuidade, me enviaram e-ma...   \n",
       "106382   negativo  Este app e verdadeiramente uma piada, com preç...   \n",
       "106383   negativo                       Péssimo nao aceita meu email   \n",
       "106384   negativo  Comprei vários produtos há uns meses atrás por...   \n",
       "106385   negativo  O aplicativo é bom, mais eu me decepcionei com...   \n",
       "\n",
       "                                                   passo1  \\\n",
       "106381  promocao cartao sem anuidade  me enviaram emai...   \n",
       "106382  este app e verdadeiramente uma piada  com prec...   \n",
       "106383                       pessimo nao aceita meu email   \n",
       "106384  comprei varios produtos ha uns meses atras por...   \n",
       "106385  o aplicativo e bom  mais eu me decepcionei com...   \n",
       "\n",
       "                                                   passo2  \\\n",
       "106381  promocao cartao sem anuidade me enviaram email...   \n",
       "106382  este app e verdadeiramente uma piada com preco...   \n",
       "106383                       pessimo nao aceita meu email   \n",
       "106384  comprei varios produtos ha uns meses atras por...   \n",
       "106385  o aplicativo e bom mais eu me decepcionei com ...   \n",
       "\n",
       "                                                   passo3  \\\n",
       "106381  promocao cartao sem anuidade me enviaram email...   \n",
       "106382  este app e verdadeiramente uma piada com preco...   \n",
       "106383                       pessimo nao aceita meu email   \n",
       "106384  comprei varios produtos ha uns meses atras por...   \n",
       "106385  aplicativo e bom mais eu me decepcionei com qu...   \n",
       "\n",
       "                                                   passo4  \\\n",
       "106381  promocao cartao sem anuidade me enviaram email...   \n",
       "106382  este app verdadeiramente uma piada com precos ...   \n",
       "106383                       pessimo nao aceita meu email   \n",
       "106384  comprei varios produtos ha uns meses atras por...   \n",
       "106385  aplicativo bom mais me decepcionei com que qua...   \n",
       "\n",
       "                                                   passo5  \\\n",
       "106381  promocao cartao anuidade enviaram email tentei...   \n",
       "106382  app verdadeiramente piada precos exorbitantes ...   \n",
       "106383                           pessimo nao aceita email   \n",
       "106384  comprei produtos meses atras mercadoria nao sa...   \n",
       "106385       aplicativo bom decepcionei qualidade produto   \n",
       "\n",
       "                                                   passo6  \\\n",
       "106381  promocao cartao anuidade enviar email tentar f...   \n",
       "106382  app verdadeiramente piar preco exorbitante pro...   \n",
       "106383                               mau nao aceito email   \n",
       "106384  comprar produto mes atro mercadoria nao sair l...   \n",
       "106385       aplicativo bom decepcionar qualidade produto   \n",
       "\n",
       "                                                   passo7  \n",
       "106381  promoca carta anuidad envi email tent faz comp...  \n",
       "106382  app verdade pi prec exorbit produt falcific pl...  \n",
       "106383                               pess nao aceit email  \n",
       "106384  compr produt mes atr mercad nao sai lig diz co...  \n",
       "106385                    aplic bom decepcion qual produt  "
      ]
     },
     "execution_count": 64,
     "metadata": {},
     "output_type": "execute_result"
    }
   ],
   "source": [
    "# CRIAR DATASET BINÁRIO\n",
    "df_content_binario = df_content[df_content['sentimento'] != 'neutro']\n",
    "df_content_binario.head(5)"
   ]
  },
  {
   "cell_type": "code",
   "execution_count": 65,
   "id": "529bba35",
   "metadata": {},
   "outputs": [],
   "source": [
    "# SALVAR ARQUIVO FINAL\n",
    "df_content.to_csv('df-content-ternario.csv', index = False)  \n",
    "df_content_binario.to_csv('df-content-binario.csv', index = False)  "
   ]
  }
 ],
 "metadata": {
  "kernelspec": {
   "display_name": "Python 3 (ipykernel)",
   "language": "python",
   "name": "python3"
  },
  "language_info": {
   "codemirror_mode": {
    "name": "ipython",
    "version": 3
   },
   "file_extension": ".py",
   "mimetype": "text/x-python",
   "name": "python",
   "nbconvert_exporter": "python",
   "pygments_lexer": "ipython3",
   "version": "3.10.9"
  }
 },
 "nbformat": 4,
 "nbformat_minor": 5
}
