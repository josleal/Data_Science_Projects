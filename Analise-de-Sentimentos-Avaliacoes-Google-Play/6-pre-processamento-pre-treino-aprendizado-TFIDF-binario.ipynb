{
 "cells": [
  {
   "cell_type": "markdown",
   "id": "461f4937",
   "metadata": {},
   "source": [
    "### 2 - PRE - PROCESSAMENTO - BAG OF WORDS, VETORIZAÇÃO E SELEÇÃO DE CARACTERÍSTICAS"
   ]
  },
  {
   "cell_type": "code",
   "execution_count": 1,
   "id": "a8651ac2",
   "metadata": {},
   "outputs": [],
   "source": [
    "import warnings\n",
    "warnings.filterwarnings('ignore')"
   ]
  },
  {
   "cell_type": "code",
   "execution_count": 2,
   "id": "2ca09c93",
   "metadata": {},
   "outputs": [],
   "source": [
    "import pandas as pd"
   ]
  },
  {
   "cell_type": "code",
   "execution_count": 3,
   "id": "ea05880c",
   "metadata": {},
   "outputs": [],
   "source": [
    "# CARREGANDO ARQUIVO\n",
    "df_content_binario = pd.read_csv('df-content-binario.csv')"
   ]
  },
  {
   "cell_type": "markdown",
   "id": "36a4c69f",
   "metadata": {},
   "source": [
    "####  BAG OF WORDS E VETORIZAÇÃO: TFIDF"
   ]
  },
  {
   "cell_type": "code",
   "execution_count": 4,
   "id": "5fb1fba9",
   "metadata": {},
   "outputs": [],
   "source": [
    "from sklearn.feature_extraction.text import CountVectorizer\n",
    "from sklearn.feature_extraction.text import TfidfTransformer\n",
    "from joblib import dump, load"
   ]
  },
  {
   "cell_type": "code",
   "execution_count": 5,
   "id": "13b39b63",
   "metadata": {},
   "outputs": [],
   "source": [
    "# CARREGANDO O MODELO COUNT VECTORIZER \n",
    "count_vectorizer = load('count-vectorizer.pkl')"
   ]
  },
  {
   "cell_type": "code",
   "execution_count": 6,
   "id": "45bdc49d",
   "metadata": {},
   "outputs": [],
   "source": [
    "variaveis = count_vectorizer.get_feature_names()"
   ]
  },
  {
   "cell_type": "code",
   "execution_count": 7,
   "id": "31ba2fc3",
   "metadata": {},
   "outputs": [],
   "source": [
    "vocabulario = count_vectorizer.vocabulary_"
   ]
  },
  {
   "cell_type": "markdown",
   "id": "6798b024",
   "metadata": {},
   "source": [
    "### 3 - SELEÇÃO DE VARIÁVEIS"
   ]
  },
  {
   "cell_type": "markdown",
   "id": "df917d7f",
   "metadata": {},
   "source": [
    "Etapa de seleção de variáveis realizada no pré-processamento parte 3 CV."
   ]
  },
  {
   "cell_type": "markdown",
   "id": "d9c89461",
   "metadata": {},
   "source": [
    "### 4 - DADOS DE TREINO E TESTE"
   ]
  },
  {
   "cell_type": "code",
   "execution_count": 8,
   "id": "434346b1",
   "metadata": {},
   "outputs": [],
   "source": [
    "import numpy as np"
   ]
  },
  {
   "cell_type": "code",
   "execution_count": 9,
   "id": "88c248aa",
   "metadata": {},
   "outputs": [],
   "source": [
    "# CARREGANDO DADOS DE TREINO E TESTE\n",
    "xtreino = pd.read_csv('xtreino.csv')\n",
    "xteste = pd.read_csv('xteste.csv') \n",
    "ytreino = pd.read_csv('ytreino.csv') \n",
    "yteste = pd.read_csv('yteste.csv') "
   ]
  },
  {
   "cell_type": "code",
   "execution_count": 10,
   "id": "8e6e5776",
   "metadata": {},
   "outputs": [],
   "source": [
    "ytreino = np.ravel(ytreino)\n",
    "yteste = np.ravel(yteste)"
   ]
  },
  {
   "cell_type": "code",
   "execution_count": 11,
   "id": "6fa35910",
   "metadata": {},
   "outputs": [],
   "source": [
    "# APLICANDO O COUNT VECTORIZED\n",
    "xtreino = count_vectorizer.transform(xtreino.passo6)\n",
    "xteste = count_vectorizer.transform(xteste.passo6)"
   ]
  },
  {
   "cell_type": "code",
   "execution_count": 12,
   "id": "2704964a",
   "metadata": {},
   "outputs": [],
   "source": [
    "# CRIANDO UM MODELO TFIDF E O APLICANDO AOS DADOS DE TREINO E TESTE\n",
    "tfidf_vectorizer = TfidfTransformer()\n",
    "\n",
    "xtreino = tfidf_vectorizer.fit_transform(xtreino)\n",
    "xteste = tfidf_vectorizer.transform(xteste)"
   ]
  },
  {
   "cell_type": "code",
   "execution_count": 13,
   "id": "d79f163b",
   "metadata": {},
   "outputs": [
    {
     "data": {
      "text/plain": [
       "['tfidf_vectorizer.pkl']"
      ]
     },
     "execution_count": 13,
     "metadata": {},
     "output_type": "execute_result"
    }
   ],
   "source": [
    "# SALVAR MODELO\n",
    "dump(tfidf_vectorizer, 'tfidf-vectorizer.pkl')"
   ]
  },
  {
   "cell_type": "markdown",
   "id": "8a250a07",
   "metadata": {},
   "source": [
    "### 5 - APRENDIZADO"
   ]
  },
  {
   "cell_type": "code",
   "execution_count": 14,
   "id": "d8344342",
   "metadata": {},
   "outputs": [],
   "source": [
    "import time\n",
    "import matplotlib.pyplot as plt\n",
    "from sklearn.tree import DecisionTreeClassifier\n",
    "from sklearn.neighbors import KNeighborsClassifier\n",
    "from sklearn.naive_bayes import MultinomialNB\n",
    "from xgboost import XGBClassifier\n",
    "from sklearn.model_selection import StratifiedKFold\n",
    "from sklearn.model_selection import GridSearchCV\n",
    "from sklearn.metrics import accuracy_score, roc_auc_score\n",
    "from sklearn.metrics import classification_report, confusion_matrix, plot_confusion_matrix"
   ]
  },
  {
   "cell_type": "markdown",
   "id": "ad6b8190",
   "metadata": {},
   "source": [
    "#### DECISION TREE"
   ]
  },
  {
   "cell_type": "code",
   "execution_count": null,
   "id": "2ff4fb1d",
   "metadata": {},
   "outputs": [],
   "source": [
    "# TREINO\n",
    "inicio = time.time()\n",
    "dtree = DecisionTreeClassifier()\n",
    "\n",
    "kfold = StratifiedKFold(n_splits = 10, shuffle = True, random_state = 1)\n",
    "param_grid1 = {\"criterion\": [\"gini\",\"entropy\"],\n",
    "               \"random_state\": [1]}\n",
    "\n",
    "# GRID SEARCH\n",
    "grid1 = GridSearchCV(estimator = dtree, \n",
    "                     param_grid = param_grid1, \n",
    "                     scoring = 'accuracy',\n",
    "                     n_jobs = None,\n",
    "                     refit = True,\n",
    "                     cv = kfold, \n",
    "                     verbose = 1,\n",
    "                     return_train_score = True)\n",
    "\n",
    "dtreeTFIDF = grid1.fit(xtreino, ytreino)\n",
    "\n",
    "ac1 = dtreeTFIDF.best_score_\n",
    "print(f\"Acurácia: {round(ac1*100, 2)}%\")\n",
    "fim = time.time()\n",
    "print(f\"Tempo de treino: {round((fim - inicio)/60, 2)} minutos\")\n",
    "print(\"\\nMelhores hiperparâmetros: \", dtreeTFIDF.best_params_)"
   ]
  },
  {
   "cell_type": "code",
   "execution_count": 15,
   "id": "c36984b5",
   "metadata": {},
   "outputs": [],
   "source": [
    "# CARREGAR MODELO\n",
    "dtreeTFIDF = load('dtreeTFIDF.pkl')"
   ]
  },
  {
   "cell_type": "code",
   "execution_count": 16,
   "id": "b659ed98",
   "metadata": {},
   "outputs": [
    {
     "data": {
      "text/plain": [
       "{'criterion': 'gini', 'random_state': 1}"
      ]
     },
     "execution_count": 16,
     "metadata": {},
     "output_type": "execute_result"
    }
   ],
   "source": [
    "dtreeTFIDF.best_params_"
   ]
  },
  {
   "cell_type": "code",
   "execution_count": 17,
   "id": "1acff3da",
   "metadata": {},
   "outputs": [
    {
     "name": "stdout",
     "output_type": "stream",
     "text": [
      "Acurácia Teste Decision Tree Unigrama-TFIDF: 90.5%\n",
      "Tempo de teste: 0.01 minutos\n",
      "\n",
      "Relatório:\n",
      "\n",
      "              precision    recall  f1-score   support\n",
      "\n",
      "    positivo       0.90      0.91      0.90     31558\n",
      "    negativo       0.91      0.90      0.91     31920\n",
      "\n",
      "    accuracy                           0.90     63478\n",
      "   macro avg       0.90      0.91      0.90     63478\n",
      "weighted avg       0.91      0.90      0.90     63478\n",
      "\n"
     ]
    },
    {
     "data": {
      "image/png": "[encoded data removed]",
      "text/plain": [
       "<Figure size 600x300 with 2 Axes>"
      ]
     },
     "metadata": {},
     "output_type": "display_data"
    }
   ],
   "source": [
    "# TESTE\n",
    "inicio = time.time()\n",
    "prev_dtreeTFIDF = dtreeTFIDF.predict(xteste)\n",
    "ac_dtreeTFIDF = accuracy_score(prev_dtreeTFIDF, yteste)\n",
    "print(f\"Acurácia Teste Decision Tree Unigrama-TFIDF: {round(ac_dtreeTFIDF*100, 2)}%\")\n",
    "fim = time.time()\n",
    "print(f\"Tempo de teste: {round((fim - inicio)/60, 2)} minutos\\n\\nRelatório:\\n\")\n",
    "print(classification_report(yteste, prev_dtreeTFIDF, labels = [\"positivo\", \"negativo\"]))\n",
    "fig, axes = plt.subplots(figsize = (6, 3))\n",
    "plot_confusion_matrix(dtreeTFIDF, xteste, yteste, labels = [\"positivo\", \"negativo\"], values_format = 'd', cmap = 'Blues', ax = axes)\n",
    "plt.savefig('cm-dtreeTFIDF.png', format ='png', bbox_inches = 'tight')\n",
    "plt.show()"
   ]
  },
  {
   "cell_type": "code",
   "execution_count": 18,
   "id": "b9bb4407",
   "metadata": {},
   "outputs": [
    {
     "data": {
      "text/plain": [
       "['dtreeTFIDF.pkl']"
      ]
     },
     "execution_count": 18,
     "metadata": {},
     "output_type": "execute_result"
    }
   ],
   "source": [
    "# SALVAR MODELO\n",
    "dump(dtreeTFIDF, \"dtreeTFIDF.pkl\")"
   ]
  },
  {
   "cell_type": "markdown",
   "id": "e7b242b2",
   "metadata": {},
   "source": [
    "#### K-NEAREST NEIGHBOR"
   ]
  },
  {
   "cell_type": "code",
   "execution_count": null,
   "id": "1067473f",
   "metadata": {},
   "outputs": [],
   "source": [
    "# TREINO\n",
    "inicio = time.time()\n",
    "knn = KNeighborsClassifier()\n",
    "\n",
    "kfold = StratifiedKFold(n_splits = 10, shuffle = True, random_state = 1)\n",
    "param_grid2 = {\"n_neighbors\": [5,9,15,25,35],\n",
    "               \"weights\": [\"uniform\"],\n",
    "               \"algorithm\": [\"auto\"],\n",
    "               \"leaf_size\": [30],\n",
    "               \"p\": [2],\n",
    "               \"metric\": [\"minkowski\"]}\n",
    "\n",
    "# GRID SEARCH\n",
    "grid2 = GridSearchCV(estimator = knn, \n",
    "                     param_grid = param_grid2, \n",
    "                     scoring = 'accuracy',\n",
    "                     n_jobs = None,\n",
    "                     refit = True,\n",
    "                     cv = kfold, \n",
    "                     verbose = 1,\n",
    "                     return_train_score = True)\n",
    "\n",
    "knnTFIDF = grid2.fit(xtreino, ytreino)\n",
    "\n",
    "ac2 = knnTFIDF.best_score_\n",
    "print(f\"Acurácia: {round(ac2*100, 2)}%\")\n",
    "fim = time.time()\n",
    "print(f\"Tempo de treino: {round((fim - inicio)/60, 2)} minutos\")\n",
    "print(\"\\nMelhores hiperparâmetros: \", knnTFIDF.best_params_)"
   ]
  },
  {
   "cell_type": "code",
   "execution_count": 19,
   "id": "5171390b",
   "metadata": {},
   "outputs": [],
   "source": [
    "# CARREGAR MODELO\n",
    "knnTFIDF = load('knnTFIDF.pkl')"
   ]
  },
  {
   "cell_type": "code",
   "execution_count": 20,
   "id": "e48d59ae",
   "metadata": {},
   "outputs": [
    {
     "data": {
      "text/plain": [
       "{'algorithm': 'auto',\n",
       " 'leaf_size': 30,\n",
       " 'metric': 'minkowski',\n",
       " 'n_neighbors': 5,\n",
       " 'p': 2,\n",
       " 'weights': 'uniform'}"
      ]
     },
     "execution_count": 20,
     "metadata": {},
     "output_type": "execute_result"
    }
   ],
   "source": [
    "knnTFIDF.best_params_"
   ]
  },
  {
   "cell_type": "code",
   "execution_count": 21,
   "id": "b2f25c87",
   "metadata": {},
   "outputs": [
    {
     "name": "stdout",
     "output_type": "stream",
     "text": [
      "Acurácia Teste KNN Unigrama-TFIDF: 74.41%\n",
      "Tempo de teste: 9.49 minutos\n",
      "\n",
      "Relatório:\n",
      "\n",
      "              precision    recall  f1-score   support\n",
      "\n",
      "    positivo       0.68      0.93      0.78     31558\n",
      "    negativo       0.89      0.56      0.69     31920\n",
      "\n",
      "    accuracy                           0.74     63478\n",
      "   macro avg       0.78      0.75      0.74     63478\n",
      "weighted avg       0.78      0.74      0.74     63478\n",
      "\n"
     ]
    },
    {
     "data": {
      "image/png": "[encoded data removed]",
      "text/plain": [
       "<Figure size 600x300 with 2 Axes>"
      ]
     },
     "metadata": {},
     "output_type": "display_data"
    }
   ],
   "source": [
    "# TESTE\n",
    "inicio = time.time()\n",
    "prev_knnTFIDF = knnTFIDF.predict(xteste)\n",
    "ac_knnTFIDF = accuracy_score(prev_knnTFIDF, yteste)\n",
    "print(f\"Acurácia Teste KNN Unigrama-TFIDF: {round(ac_knnTFIDF*100, 2)}%\")\n",
    "fim = time.time()\n",
    "print(f\"Tempo de teste: {round((fim - inicio)/60, 2)} minutos\\n\\nRelatório:\\n\")\n",
    "print(classification_report(yteste, prev_knnTFIDF, labels = [\"positivo\", \"negativo\"]))\n",
    "fig, axes = plt.subplots(figsize = (6, 3))\n",
    "plot_confusion_matrix(knnTFIDF, xteste, yteste, labels = [\"positivo\", \"negativo\"], values_format = 'd', cmap = 'Blues', ax = axes)\n",
    "plt.savefig('cm-knnTFIDF.png', format ='png', bbox_inches = 'tight')\n",
    "plt.show()"
   ]
  },
  {
   "cell_type": "code",
   "execution_count": 22,
   "id": "7c38b499",
   "metadata": {},
   "outputs": [
    {
     "data": {
      "text/plain": [
       "['knnTFIDF.pkl']"
      ]
     },
     "execution_count": 22,
     "metadata": {},
     "output_type": "execute_result"
    }
   ],
   "source": [
    "# SALVAR MODELO\n",
    "dump(knnTFIDF, \"knnTFIDF.pkl\")"
   ]
  },
  {
   "cell_type": "markdown",
   "id": "cb1c62f5",
   "metadata": {},
   "source": [
    "#### NAIVE BAYES"
   ]
  },
  {
   "cell_type": "code",
   "execution_count": null,
   "id": "37919821",
   "metadata": {},
   "outputs": [],
   "source": [
    "# TREINO\n",
    "inicio = time.time()\n",
    "nb = MultinomialNB()\n",
    "\n",
    "kfold = StratifiedKFold(n_splits = 10, shuffle = True, random_state = 1)\n",
    "param_grid3 = {\"alpha\": [1.0],\n",
    "               \"fit_prior\": [True],\n",
    "               \"class_prior\": [None]}\n",
    "\n",
    "# GRID SEARCH\n",
    "grid3 = GridSearchCV(estimator = nb,\n",
    "                     param_grid = param_grid3,\n",
    "                     scoring = 'accuracy',\n",
    "                     n_jobs = None,\n",
    "                     refit = True,\n",
    "                     cv = kfold, \n",
    "                     verbose = 1,\n",
    "                     return_train_score = True)\n",
    "\n",
    "nbTFIDF = grid3.fit(xtreino, ytreino)\n",
    "\n",
    "\n",
    "ac3 = nbTFIDF.best_score_\n",
    "print(f\"Acurácia: {round(ac3*100, 2)}%\")\n",
    "fim = time.time()\n",
    "print(f\"Tempo de treino: {round((fim - inicio)/60, 2)} minutos\")\n",
    "print(\"\\nMelhores hiperparâmetros: \", nbTFIDF.best_params_)"
   ]
  },
  {
   "cell_type": "code",
   "execution_count": 23,
   "id": "a9deeca8",
   "metadata": {},
   "outputs": [],
   "source": [
    "# CARREGAR MODELO\n",
    "nbTFIDF = load('nbTFIDF.pkl')"
   ]
  },
  {
   "cell_type": "code",
   "execution_count": 24,
   "id": "cda8e699",
   "metadata": {},
   "outputs": [
    {
     "name": "stdout",
     "output_type": "stream",
     "text": [
      "Acurácia Teste Naive Bayes Unigrama-TFIDF: 92.64%\n",
      "Tempo de teste: 0.01 minutos\n",
      "\n",
      "Relatório:\n",
      "\n",
      "              precision    recall  f1-score   support\n",
      "\n",
      "    positivo       0.95      0.90      0.92     31558\n",
      "    negativo       0.90      0.96      0.93     31920\n",
      "\n",
      "    accuracy                           0.93     63478\n",
      "   macro avg       0.93      0.93      0.93     63478\n",
      "weighted avg       0.93      0.93      0.93     63478\n",
      "\n"
     ]
    },
    {
     "data": {
      "image/png": "[encoded data removed]",
      "text/plain": [
       "<Figure size 600x300 with 2 Axes>"
      ]
     },
     "metadata": {},
     "output_type": "display_data"
    }
   ],
   "source": [
    "# TESTE\n",
    "inicio = time.time()\n",
    "prev_nbTFIDF = nbTFIDF.predict(xteste)\n",
    "ac_nbTFIDF = accuracy_score(prev_nbTFIDF, yteste)\n",
    "print(f\"Acurácia Teste Naive Bayes Unigrama-TFIDF: {round(ac_nbTFIDF*100, 2)}%\")\n",
    "fim = time.time()\n",
    "print(f\"Tempo de teste: {round((fim - inicio)/60, 2)} minutos\\n\\nRelatório:\\n\")\n",
    "print(classification_report(yteste, prev_nbTFIDF, labels = [\"positivo\", \"negativo\"]))\n",
    "fig, axes = plt.subplots(figsize = (6, 3))\n",
    "plot_confusion_matrix(nbTFIDF, xteste, yteste, labels = [\"positivo\", \"negativo\"], values_format = 'd', cmap = 'Blues', ax = axes)\n",
    "plt.savefig('cm-nbTFIDF.png', format ='png', bbox_inches = 'tight')\n",
    "plt.show()"
   ]
  },
  {
   "cell_type": "code",
   "execution_count": 25,
   "id": "ad992622",
   "metadata": {},
   "outputs": [
    {
     "data": {
      "text/plain": [
       "['nbTFIDF.pkl']"
      ]
     },
     "execution_count": 25,
     "metadata": {},
     "output_type": "execute_result"
    }
   ],
   "source": [
    "# SALVAR MODELO\n",
    "dump(nbTFIDF, 'nbTFIDF.pkl')"
   ]
  },
  {
   "cell_type": "markdown",
   "id": "55a4b241",
   "metadata": {},
   "source": [
    "#### XTREME GRADIENT BOOSTING"
   ]
  },
  {
   "cell_type": "code",
   "execution_count": 26,
   "id": "ad17974e",
   "metadata": {},
   "outputs": [],
   "source": [
    "# FUNÇÃO PARA TRANSFORMAÇÃO DAS CLASSES\n",
    "def TransformaClasse(array):\n",
    "    \n",
    "    for i in range(len(array)):\n",
    "        if array[i] == \"negativo\":\n",
    "            array[i] = 1\n",
    "        else:\n",
    "            array[i] = 0\n",
    "    return(array)"
   ]
  },
  {
   "cell_type": "code",
   "execution_count": 27,
   "id": "d2267bcd",
   "metadata": {},
   "outputs": [],
   "source": [
    "ytreino_transf = TransformaClasse(ytreino)\n",
    "ytreino_xgb = [value for value in ytreino_transf]"
   ]
  },
  {
   "cell_type": "code",
   "execution_count": 28,
   "id": "aad9e7d1",
   "metadata": {},
   "outputs": [],
   "source": [
    "yteste_transf = TransformaClasse(yteste)\n",
    "yteste_xgb = [value for value in yteste_transf]"
   ]
  },
  {
   "cell_type": "code",
   "execution_count": null,
   "id": "8b6f620f",
   "metadata": {},
   "outputs": [],
   "source": [
    "# TREINO\n",
    "inicio = time.time()\n",
    "xgb_cl = XGBClassifier()\n",
    "\n",
    "kfold = StratifiedKFold(n_splits = 10, shuffle = True, random_state = 1)\n",
    "param_grid5 = {\"n_estimators\": [100,300,700,1000,1100],\n",
    "               \"learning_rate\": [0.01,0.2,0.3],\n",
    "               \"gamma\": [0.2],\n",
    "               \"max_depth\": [6],\n",
    "               \"subsample\": [0.7],      \n",
    "               \"colsample_bytree\": [0.7],\n",
    "               \"reg_alpha\": [0.05],\n",
    "               \"objective\": [\"binary:logistic\"]}\n",
    "\n",
    "# GRID SEARCH\n",
    "grid5 = GridSearchCV(estimator = xgb_cl, \n",
    "                     param_grid = param_grid5, \n",
    "                     scoring = \"accuracy\",\n",
    "                     n_jobs = None,\n",
    "                     refit = True,\n",
    "                     cv = kfold, \n",
    "                     verbose = 1,\n",
    "                     return_train_score = True)\n",
    "\n",
    "\n",
    "xgbTFIDF = grid5.fit(xtreino, ytreino_xgb)\n",
    "\n",
    "ac5 = xgbTFIDF.best_score_\n",
    "print(f\"Acurácia: {round(ac5*100, 2)}%\")\n",
    "fim = time.time()\n",
    "print(f\"Tempo de treino: {round((fim - inicio)/60, 2)} minutos\")\n",
    "print(\"\\nMelhores hiperparâmetros: \", xgbTFIDF.best_params_)"
   ]
  },
  {
   "cell_type": "code",
   "execution_count": 29,
   "id": "e41525b0",
   "metadata": {},
   "outputs": [],
   "source": [
    "# CARREGAR MODELO\n",
    "xgbTFIDF = load('xgbTFIDF.pkl')"
   ]
  },
  {
   "cell_type": "code",
   "execution_count": 30,
   "id": "bda021c4",
   "metadata": {},
   "outputs": [
    {
     "data": {
      "text/plain": [
       "{'colsample_bytree': 0.7,\n",
       " 'gamma': 0.2,\n",
       " 'learning_rate': 0.2,\n",
       " 'max_depth': 6,\n",
       " 'n_estimators': 1000,\n",
       " 'objective': 'binary:logistic',\n",
       " 'reg_alpha': 0.05,\n",
       " 'subsample': 0.7}"
      ]
     },
     "execution_count": 30,
     "metadata": {},
     "output_type": "execute_result"
    }
   ],
   "source": [
    "xgbTFIDF.best_params_"
   ]
  },
  {
   "cell_type": "code",
   "execution_count": 31,
   "id": "972eb4e1",
   "metadata": {},
   "outputs": [
    {
     "name": "stdout",
     "output_type": "stream",
     "text": [
      "Acurácia Teste XGBoost Unigrama-TFIDF: 93.82%\n",
      "AUC XGBoost Unigrama-TFIDF: 0.9787\n",
      "Tempo de teste: 0.1 minutos\n",
      "\n",
      "Relatório:\n",
      "\n",
      "              precision    recall  f1-score   support\n",
      "\n",
      "    positivo       0.94      0.94      0.94     31558\n",
      "    negativo       0.94      0.94      0.94     31920\n",
      "\n",
      "    accuracy                           0.94     63478\n",
      "   macro avg       0.94      0.94      0.94     63478\n",
      "weighted avg       0.94      0.94      0.94     63478\n",
      "\n"
     ]
    },
    {
     "data": {
      "image/png": "[encoded data removed]",
      "text/plain": [
       "<Figure size 600x300 with 2 Axes>"
      ]
     },
     "metadata": {},
     "output_type": "display_data"
    }
   ],
   "source": [
    "inicio = time.time()\n",
    "prev_xgbTFIDF = xgbTFIDF.predict(xteste)\n",
    "ac_xgbTFIDF = accuracy_score(yteste_xgb, prev_xgbTFIDF)\n",
    "auc = roc_auc_score(yteste_xgb, xgbTFIDF.predict_proba(xteste)[:, 1])\n",
    "print(f\"Acurácia Teste XGBoost Unigrama-TFIDF: {round(ac_xgbTFIDF*100, 2)}%\")\n",
    "print(f\"AUC XGBoost Unigrama-TFIDF: {round(auc, 4)}\")\n",
    "fim = time.time()\n",
    "print(f\"Tempo de teste: {round((fim - inicio)/60, 2)} minutos\\n\\nRelatório:\\n\")\n",
    "print(classification_report(yteste_xgb, prev_xgbTFIDF, target_names = [\"positivo\", \"negativo\"]))\n",
    "fig, axes = plt.subplots(figsize = (6, 3))\n",
    "plot_confusion_matrix(xgbTFIDF, xteste, yteste_xgb, display_labels = [\"positivo\", \"negativo\"], values_format = 'd', cmap = 'Blues', ax = axes)\n",
    "plt.savefig('cm-xgbTFIDF.png', format ='png', bbox_inches = 'tight')\n",
    "plt.show()"
   ]
  },
  {
   "cell_type": "code",
   "execution_count": 32,
   "id": "f2166892",
   "metadata": {},
   "outputs": [
    {
     "data": {
      "text/plain": [
       "['xgbTFIDF.pkl']"
      ]
     },
     "execution_count": 32,
     "metadata": {},
     "output_type": "execute_result"
    }
   ],
   "source": [
    "# SALVAR MODELO\n",
    "dump(xgbTFIDF, \"xgbTFIDF.pkl\")"
   ]
  }
 ],
 "metadata": {
  "kernelspec": {
   "display_name": "Python 3 (ipykernel)",
   "language": "python",
   "name": "python3"
  },
  "language_info": {
   "codemirror_mode": {
    "name": "ipython",
    "version": 3
   },
   "file_extension": ".py",
   "mimetype": "text/x-python",
   "name": "python",
   "nbconvert_exporter": "python",
   "pygments_lexer": "ipython3",
   "version": "3.10.9"
  }
 },
 "nbformat": 4,
 "nbformat_minor": 5
}
