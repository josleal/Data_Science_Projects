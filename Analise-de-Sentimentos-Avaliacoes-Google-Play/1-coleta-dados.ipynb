{
 "cells": [
  {
   "cell_type": "markdown",
   "id": "d43ee86d",
   "metadata": {},
   "source": [
    "### 1 - COLETA DOS DADOS"
   ]
  },
  {
   "cell_type": "code",
   "execution_count": null,
   "id": "47e20478",
   "metadata": {},
   "outputs": [],
   "source": [
    "# INSTALAÇÃO\n",
    "#!pip install google_play_scraper"
   ]
  },
  {
   "cell_type": "code",
   "execution_count": null,
   "id": "228c1bbc",
   "metadata": {},
   "outputs": [],
   "source": [
    "# CARREGAR BIBLIOTECAS\n",
    "from google_play_scraper import app, Sort, reviews, reviews_all, permissions, search\n",
    "import pandas as pd"
   ]
  },
  {
   "cell_type": "code",
   "execution_count": null,
   "id": "91ccb337",
   "metadata": {},
   "outputs": [],
   "source": [
    "id_app = ['com.amazon.mShop.android.shopping', 'com.b2w.shoptime', 'br.com.dafiti', 'br.com.netshoes.app',\n",
    "          'com.b2w.americanas', 'com.alibaba.aliexpresshd', 'com.luizalabs.mlapp', 'com.mercadolibre', \n",
    "          'com.b2w.submarino', 'br.com.enjoei.app', 'com.schibsted.bomnegocio.androidApp', 'com.shopee.br',\n",
    "          'br.com.buscape.MainPack', 'com.novapontocom.extra', 'com.sonyericsson.pontofrio', 'com.novapontocom.casasbahia',\n",
    "          'br.com.elo7.appbuyer', 'br.com.carrefour', 'br.com.zattini', 'com.contextlogic.wish', 'br.com.sbf.centauro', \n",
    "          'br.com.kanui']"
   ]
  },
  {
   "cell_type": "code",
   "execution_count": null,
   "id": "d7e5434a",
   "metadata": {},
   "outputs": [],
   "source": [
    "total = 0\n",
    "for i in id_app:\n",
    "    info_app = app(i, lang = 'pt', country = 'br')\n",
    "    print(f\"{i} = {info_app['reviews']} reviews\")\n",
    "    total = total + info_app['reviews']\n",
    "print(f'Total = {total} reviews')"
   ]
  },
  {
   "cell_type": "code",
   "execution_count": null,
   "id": "81849af4",
   "metadata": {},
   "outputs": [],
   "source": [
    "# avaliacoes, continuation_token = reviews('com.amazon.mShop.android.shopping',\n",
    "#                                     lang = 'pt', \n",
    "#                                     country = 'br', \n",
    "#                                     sort = Sort.NEWEST, # defaults to Sort.NEWEST\n",
    "#                                     count = 100, # defaults to 100\n",
    "#                                     filter_score_with = None # defaults to None(means all score))"
   ]
  },
  {
   "cell_type": "code",
   "execution_count": null,
   "id": "243c6334",
   "metadata": {},
   "outputs": [],
   "source": [
    "avaliacoes = reviews_all(\n",
    "    id_app[7],\n",
    "    sleep_milliseconds = 0, \n",
    "    lang = 'pt', \n",
    "    country = 'br',    \n",
    "    sort = Sort.MOST_RELEVANT, \n",
    "    filter_score_with = None)\n",
    "dados = pd.DataFrame(avaliacoes)\n",
    "dados.to_csv(id_app[7], index = False)  "
   ]
  },
  {
   "cell_type": "code",
   "execution_count": null,
   "id": "97391a95",
   "metadata": {},
   "outputs": [],
   "source": [
    "# ADICIONA COLUNA APP E UNE OS DATAFRAMES\n",
    "df1 = pd.read_csv('com.amazon.mShop.android.shopping.csv')\n",
    "df1['app'] = 'Amazon'\n",
    "df2 = pd.read_csv('com.b2w.shoptime.csv')\n",
    "df2['app'] = 'Shoptime'\n",
    "df3 = pd.read_csv('br.com.dafiti.csv')\n",
    "df3['app'] = 'Dafiti'\n",
    "df4 = pd.read_csv('br.com.netshoes.app.csv')\n",
    "df4['app'] = 'Netshoes'\n",
    "df5 = pd.read_csv('com.b2w.americanas.csv')\n",
    "df5['app'] = 'Americanas'\n",
    "df6 = pd.read_csv('com.alibaba.aliexpresshd.csv')\n",
    "df6['app'] = 'Alibaba'\n",
    "df7 = pd.read_csv('com.luizalabs.mlapp.csv')\n",
    "df7['app'] = 'Magazine Luiza'\n",
    "df8 = pd.read_csv('com.mercadolibre.csv')\n",
    "df8['app'] = 'Mercado Livre'"
   ]
  },
  {
   "cell_type": "code",
   "execution_count": null,
   "id": "e4020e1f",
   "metadata": {},
   "outputs": [],
   "source": [
    "df9 = pd.read_csv('com.b2w.submarino.csv')\n",
    "df9['app'] = 'Submarino'\n",
    "df10 = pd.read_csv('br.com.enjoei.app.csv')\n",
    "df10['app'] = 'Enjoei'\n",
    "df11 = pd.read_csv('com.schibsted.bomnegocio.androidApp.csv')\n",
    "df11['app'] = 'OLX'\n",
    "df12 = pd.read_csv('com.shopee.br.csv')\n",
    "df12['app'] = 'Shopee'\n",
    "df13 = pd.read_csv('br.com.buscape.MainPack.csv')\n",
    "df13['app'] = 'Buscape'\n",
    "df14 = pd.read_csv('com.novapontocom.extra.csv')\n",
    "df14['app'] = 'Extra'\n",
    "df15 = pd.read_csv('com.sonyericsson.pontofrio.csv')\n",
    "df15['app'] = 'Ponto Frio'\n",
    "df16 = pd.read_csv('com.novapontocom.casasbahia.csv')\n",
    "df16['app'] = 'Casas Bahia'\n",
    "df17 = pd.read_csv('br.com.elo7.appbuyer.csv')\n",
    "df17['app'] = 'Elo7'\n",
    "df18 = pd.read_csv('br.com.carrefour.csv')\n",
    "df18['app'] = 'Carrefour'\n",
    "df19 = pd.read_csv('br.com.zattini.csv')\n",
    "df19['app'] = 'Zattini'\n",
    "df20 = pd.read_csv('com.contextlogic.wish.csv')\n",
    "df20['app'] = 'Wish'\n",
    "df21 = pd.read_csv('br.com.sbf.centauro.csv')\n",
    "df21['app'] = 'Centauro'\n",
    "df22 = pd.read_csv('br.com.kanui.csv')\n",
    "df22['app'] = 'Kanui'"
   ]
  },
  {
   "cell_type": "code",
   "execution_count": null,
   "id": "c87795d2",
   "metadata": {},
   "outputs": [],
   "source": [
    "lista_df = [df1, df2, df3, df4, df5, df6, df7, df8, df9, df10, df11, df12, df13, df14, df15, df16, df17, df18, df19,\n",
    "           df20, df21, df22]\n",
    "dados_reviews = pd.concat(lista_df)"
   ]
  },
  {
   "cell_type": "code",
   "execution_count": null,
   "id": "f15b8233",
   "metadata": {},
   "outputs": [],
   "source": [
    "# SALVAR ARQUIVO\n",
    "dados_reviews.to_csv('dados-reviews.csv', index = False)  "
   ]
  }
 ],
 "metadata": {
  "kernelspec": {
   "display_name": "Python 3 (ipykernel)",
   "language": "python",
   "name": "python3"
  },
  "language_info": {
   "codemirror_mode": {
    "name": "ipython",
    "version": 3
   },
   "file_extension": ".py",
   "mimetype": "text/x-python",
   "name": "python",
   "nbconvert_exporter": "python",
   "pygments_lexer": "ipython3",
   "version": "3.10.9"
  }
 },
 "nbformat": 4,
 "nbformat_minor": 5
}
