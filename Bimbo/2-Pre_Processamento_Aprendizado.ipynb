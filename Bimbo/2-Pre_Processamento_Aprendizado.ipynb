{
 "cells": [
  {
   "cell_type": "markdown",
   "metadata": {},
   "source": [
    "### <div style=\"text-align: justify;\">PROJETO: PREVENDO DEMANDA DE ESTOQUE COM BASE EM VENDAS - EMPRESA BIMBO DO MÉXICO</div>"
   ]
  },
  {
   "cell_type": "markdown",
   "metadata": {},
   "source": [
    "### DESCRIÇÃO DOS DADOS\n",
    "\n",
    "\n",
    "Descrição dos dados dos datasets utilizados neste experimento.\n",
    "\n",
    "<p>\n",
    "<div style=\"text-align: justify;\">\n",
    "Os dados de treino foram coletados do dataset train.csv do Kaggle. Além de coletar amostras, foram realizadas modificações nos nomes das variáveis para uma melhor compreensão delas.\n",
    "</div>\n",
    "</p>\n",
    "\n",
    "Dados de Treino:\n",
    "\n",
    "- semana: número da semana (de quinta a quarta-feira);\n",
    "- deposito_id: id do depósito de vendas;\n",
    "- canal_id: id do canal de vendas;\n",
    "- rota_id: id da rota (várias rotas = depósito de vendas);\n",
    "- cliente_id: id do cliente;\n",
    "- nome_cliente: nome do cliente;\n",
    "- produto_id: id do produto;\n",
    "- nome_produto: nome do produto;\n",
    "- venda_unidade: unidade de vendas desta semana ao fornecedor (inteiro);\n",
    "- venda_peso: vendas esta semana (unidade: pesos);\n",
    "- retorno_unidade: unidade de retorno na próxima semana (inteiro);\n",
    "- devolucao_peso: devoluções na próxima semana (unidade: pesos);\n",
    "- demanda_ajustada: demanda ajustada (inteiro). (este é o alvo a ser previsto)"
   ]
  },
  {
   "cell_type": "markdown",
   "metadata": {},
   "source": [
    "### PRÉ-PROCESSAMENTO "
   ]
  },
  {
   "cell_type": "markdown",
   "metadata": {},
   "source": [
    "#### CARREGAR BIBLIOTECAS"
   ]
  },
  {
   "cell_type": "code",
   "execution_count": 1,
   "metadata": {},
   "outputs": [],
   "source": [
    "# DESATIVAR MENSAGENS DE WARNINGS (warn = -1) E ATIVAR (warn = 0)\n",
    "options(warn = -1)"
   ]
  },
  {
   "cell_type": "code",
   "execution_count": 2,
   "metadata": {},
   "outputs": [],
   "source": [
    "# DESATIVA NOTAÇÃO CIENTÍFICA\n",
    "options(scipen = 999)"
   ]
  },
  {
   "cell_type": "code",
   "execution_count": 3,
   "metadata": {},
   "outputs": [],
   "source": [
    "# PARA TAMANHO DOS GRÁFICOS\n",
    "options(jupyter.plot_scale = 1)"
   ]
  },
  {
   "cell_type": "code",
   "execution_count": 4,
   "metadata": {},
   "outputs": [],
   "source": [
    "# CARREGANDO BIBLIOTECAS \n",
    "suppressPackageStartupMessages({\n",
    "library(dplyr)\n",
    "library(data.table)\n",
    "library(tibble)\n",
    "library(readr)\n",
    "library(tidyr)\n",
    "library(stringr)\n",
    "library(ggplot2)\n",
    "library(ggpubr)\n",
    "library(cowplot)\n",
    "library(gridExtra)\n",
    "library(corrplot)\n",
    "library(caret)\n",
    "library(caTools)\n",
    "library(Rcmdr)\n",
    "library(xgboost)\n",
    "})"
   ]
  },
  {
   "cell_type": "markdown",
   "metadata": {},
   "source": [
    "#### CARREGAR DATASETS"
   ]
  },
  {
   "cell_type": "code",
   "execution_count": 5,
   "metadata": {},
   "outputs": [],
   "source": [
    "# CARREGAR DATASET DA AMOSTRA DE 245000 OBSERVAÇÕES \n",
    "df_bimbo <- fread(\"df_bimbo.csv\", encoding = \"UTF-8\")"
   ]
  },
  {
   "cell_type": "code",
   "execution_count": 6,
   "metadata": {},
   "outputs": [
    {
     "name": "stdout",
     "output_type": "stream",
     "text": [
      "Classes 'data.table' and 'data.frame':\t245000 obs. of  11 variables:\n",
      " $ semana          : int  3 3 3 3 3 3 3 3 3 3 ...\n",
      " $ deposito_id     : int  1311 1618 1347 3221 1126 1595 1232 1631 2014 1222 ...\n",
      " $ canal_venda     : int  1 1 1 1 1 4 1 1 1 1 ...\n",
      " $ rota_id         : int  1251 1601 2053 1618 1024 6602 1004 1256 1213 1002 ...\n",
      " $ cliente_id      : int  150962 4100032 134877 4588484 1279340 2388568 78925 4295781 886635 61159 ...\n",
      " $ produto_id      : int  1146 31719 43147 40217 1150 44371 1160 1309 1240 3144 ...\n",
      " $ venda_unidade   : int  1 2 3 1 2 4 8 1 3 1 ...\n",
      " $ venda_peso      : num  21.39 15.18 13.62 8.98 27.92 ...\n",
      " $ retorno_unidade : int  0 1 0 0 0 0 0 0 0 0 ...\n",
      " $ devolucao_peso  : num  0 7.59 0 0 0 0 0 0 0 0 ...\n",
      " $ demanda_ajustada: int  1 1 3 1 2 4 8 1 3 1 ...\n",
      " - attr(*, \".internal.selfref\")=<externalptr> \n"
     ]
    }
   ],
   "source": [
    "str(df_bimbo)"
   ]
  },
  {
   "cell_type": "code",
   "execution_count": 7,
   "metadata": {},
   "outputs": [
    {
     "name": "stdout",
     "output_type": "stream",
     "text": [
      "Rows: 2,592\n",
      "Columns: 2\n",
      "$ produto_id   <int> 0, 9, 41, 53, 72, 73, 98, 99, 100, 106, 107, 108, 109, 11~\n",
      "$ nome_produto <chr> \"NO IDENTIFICADO 0\", \"CAPUCCINO MOKA 750G NES 9\", \"BIMBOL~\n"
     ]
    }
   ],
   "source": [
    "# CARREGANDO DATASET DE PRODUTOS\n",
    "df_produto <- fread(\"df_produto.csv\", encoding = \"UTF-8\"); glimpse(df_produto)"
   ]
  },
  {
   "cell_type": "code",
   "execution_count": 8,
   "metadata": {},
   "outputs": [
    {
     "name": "stdout",
     "output_type": "stream",
     "text": [
      "Rows: 935,362\n",
      "Columns: 2\n",
      "$ cliente_id   <int> 0, 1, 2, 3, 4, 4, 5, 6, 7, 8, 9, 10, 11, 12, 13, 14, 15, ~\n",
      "$ nome_cliente <chr> \"SIN NOMBRE\", \"OXXO XINANTECATL\", \"SIN NOMBRE\", \"EL MOREN~\n"
     ]
    }
   ],
   "source": [
    "# CARREGANDO DATASET DE CLIENTES\n",
    "df_cliente <- fread(\"df_cliente.csv\", encoding = \"UTF-8\"); glimpse(df_cliente)"
   ]
  },
  {
   "cell_type": "code",
   "execution_count": 9,
   "metadata": {},
   "outputs": [
    {
     "name": "stdout",
     "output_type": "stream",
     "text": [
      "Rows: 790\n",
      "Columns: 3\n",
      "$ deposito_id <int> 1110, 1111, 1112, 1113, 1114, 1116, 1117, 1118, 1119, 1120~\n",
      "$ cidade      <chr> \"2008 AG. LAGO FILT\", \"2002 AG. AZCAPOTZALCO\", \"2004 AG. C~\n",
      "$ estado      <chr> \"MEXICO  D.F.\", \"MEXICO  D.F.\", \"ESTADO DE MEXICO\", \"MEXIC~\n"
     ]
    }
   ],
   "source": [
    "# CARREGANDO DATASET DE ESTADOS\n",
    "df_estado <- fread(\"df_estado.csv\", encoding = \"UTF-8\"); glimpse(df_estado)"
   ]
  },
  {
   "cell_type": "markdown",
   "metadata": {},
   "source": [
    "#### **AGRUPAMENTO POR PRODUTO**"
   ]
  },
  {
   "cell_type": "code",
   "execution_count": 10,
   "metadata": {},
   "outputs": [
    {
     "name": "stdout",
     "output_type": "stream",
     "text": [
      "Rows: 1,101\n",
      "Columns: 7\n",
      "$ produto_id             <int> 72, 73, 106, 123, 131, 132, 135, 141, 145, 160,~\n",
      "$ nome_produto           <chr> \"DIV TIRA MINI DORADITA 4P 45G TR 72\", \"PAN MUL~\n",
      "$ venda_unidade_total    <int> 2602, 2161, 23, 351, 69, 115, 77, 674, 317, 18,~\n",
      "$ retorno_unidade_total  <int> 42, 52, 0, 0, 0, 0, 0, 6, 1, 0, 0, 2, 0, 0, 0, ~\n",
      "$ demanda_ajustada_total <int> 2578, 2110, 23, 351, 69, 115, 77, 670, 316, 18,~\n",
      "$ venda_peso_total       <dbl> 9627.40, 46439.57, 439.07, 7403.34, 1324.80, 16~\n",
      "$ devolucao_peso_total   <dbl> 155.40, 1110.59, 0.00, 0.00, 0.00, 0.00, 0.00, ~\n"
     ]
    }
   ],
   "source": [
    "# PRODUTOS COM MAIOR VENDA EM PESOS E UNIDADES\n",
    "agrupa_produto <- df_bimbo %>%\n",
    "    group_by(produto_id) %>%\n",
    "    summarise(venda_unidade_total = sum(venda_unidade),\n",
    "              retorno_unidade_total = sum(retorno_unidade),\n",
    "              demanda_ajustada_total = sum(demanda_ajustada),\n",
    "              venda_peso_total = sum(venda_peso),\n",
    "              devolucao_peso_total = sum(devolucao_peso)) %>%\n",
    "    inner_join(df_produto, by = \"produto_id\") %>%\n",
    "    select(produto_id, nome_produto, everything())\n",
    "\n",
    "glimpse(agrupa_produto)\n",
    "agrupa_produto <- agrupa_produto[order(agrupa_produto$venda_peso_total, decreasing = T),]"
   ]
  },
  {
   "cell_type": "code",
   "execution_count": 11,
   "metadata": {},
   "outputs": [
    {
     "data": {
      "image/png": "[encoded data removed]",
      "text/plain": [
       "plot without title"
      ]
     },
     "metadata": {},
     "output_type": "display_data"
    }
   ],
   "source": [
    "# GRÁFICOS DE DISPERSÃO \n",
    "# VENDA TOTAL (PESOS) E RETORNO TOTAL (PESOS) \n",
    "g0 <- ggplot(agrupa_produto, aes(x = venda_peso_total, y = devolucao_peso_total)) +\n",
    "    geom_point() + \n",
    "    labs(x = \"Venda total (pesos)\", y = \"Devolucao total (pesos)\", title = \"\") +\n",
    "    theme(plot.title = element_text(hjust = 0.5), text = element_text(size = 8)) \n",
    "\n",
    "# RETORNO TOTAL (UNIDADES) E RETORNO TOTAL (PESOS) \n",
    "g1 <- ggplot(agrupa_produto, aes(x = retorno_unidade_total, y = devolucao_peso_total)) +\n",
    "    geom_point() + \n",
    "    labs(x = \"Retorno total (unidades)\", y = \"Devolucao total (pesos)\", title = \"\") +\n",
    "    theme(plot.title = element_text(hjust = 0.5), text = element_text(size = 8))\n",
    "\n",
    "options(repr.plot.width = 7, repr.plot.height = 3.5)\n",
    "plot_grid(g0, g1, ncol = 2, align = \"hv\")"
   ]
  },
  {
   "cell_type": "markdown",
   "metadata": {},
   "source": [
    "<p>\n",
    "<div style=\"text-align: justify;\">\n",
    "Existe uma correlação forte positiva de vendas totais em pesos e retorno total em unidades com retorno total em pesos. Porém há exceções à essa relação.\n",
    "</div>\n",
    "</p>"
   ]
  },
  {
   "cell_type": "code",
   "execution_count": 12,
   "metadata": {},
   "outputs": [],
   "source": [
    "# 50 PRODUTOS COM MAIS VENDA EM PESOS \n",
    "produto_venda_peso <- agrupa_produto[order(agrupa_produto$venda_peso_total, decreasing = T),]"
   ]
  },
  {
   "cell_type": "code",
   "execution_count": 13,
   "metadata": {},
   "outputs": [
    {
     "data": {
      "image/png": "[encoded data removed]",
      "text/plain": [
       "plot without title"
      ]
     },
     "metadata": {},
     "output_type": "display_data"
    }
   ],
   "source": [
    "# GRÁFICO DOS 50 PRODUTOS DE MAIOR VENDA EM PESOS\n",
    "g3 <- ggplot(produto_venda_peso[1:50,], aes(x = reorder(nome_produto, venda_peso_total), y = venda_peso_total)) +\n",
    "    geom_bar(stat = \"identity\") + \n",
    "    labs(x = \"Produto\", y = \"Venda (pesos)\", title = \"Vendas totais em pesos por produto\") +\n",
    "    theme(plot.title = element_text(hjust = 0.5), text = element_text(size = 8)) +\n",
    "    coord_flip()\n",
    "\n",
    "options(repr.plot.width = 7, repr.plot.height = 7)\n",
    "g3"
   ]
  },
  {
   "cell_type": "code",
   "execution_count": 14,
   "metadata": {},
   "outputs": [
    {
     "data": {
      "text/html": [
       "<table>\n",
       "<thead><tr><th scope=col>nome_produto</th><th scope=col>venda_peso_total</th></tr></thead>\n",
       "<tbody>\n",
       "\t<tr><td>PAN BLANCO 640G BIM 2233              </td><td>722340.0                              </td></tr>\n",
       "\t<tr><td>PAN INTEGRAL 675G BIM 1146            </td><td>449523.2                              </td></tr>\n",
       "\t<tr><td>NITO 1P 62G CENTRAL BIM 2425          </td><td>358332.5                              </td></tr>\n",
       "\t<tr><td>MANTECADAS VAINILLA 4P 125G BIM 1240  </td><td>349051.2                              </td></tr>\n",
       "\t<tr><td>DONAS AZUCAR 4P 105G BIM 1250         </td><td>323292.8                              </td></tr>\n",
       "\t<tr><td>MEDIAS NOCHES 8P 340G BIM 1150        </td><td>319961.1                              </td></tr>\n",
       "\t<tr><td>NITO 1P 62G BIM 1278                  </td><td>289690.9                              </td></tr>\n",
       "\t<tr><td>TORTILLINAS 10P 255G TR 1125          </td><td>268851.2                              </td></tr>\n",
       "\t<tr><td>DONITAS ESPOLVOREADAS 6P 105G BIM 1242</td><td>264431.6                              </td></tr>\n",
       "\t<tr><td>GANSITO 1P 50G MTB MLA 43285          </td><td>264230.9                              </td></tr>\n",
       "</tbody>\n",
       "</table>\n"
      ],
      "text/latex": [
       "\\begin{tabular}{r|ll}\n",
       " nome\\_produto & venda\\_peso\\_total\\\\\n",
       "\\hline\n",
       "\t PAN BLANCO 640G BIM 2233               & 722340.0                              \\\\\n",
       "\t PAN INTEGRAL 675G BIM 1146             & 449523.2                              \\\\\n",
       "\t NITO 1P 62G CENTRAL BIM 2425           & 358332.5                              \\\\\n",
       "\t MANTECADAS VAINILLA 4P 125G BIM 1240   & 349051.2                              \\\\\n",
       "\t DONAS AZUCAR 4P 105G BIM 1250          & 323292.8                              \\\\\n",
       "\t MEDIAS NOCHES 8P 340G BIM 1150         & 319961.1                              \\\\\n",
       "\t NITO 1P 62G BIM 1278                   & 289690.9                              \\\\\n",
       "\t TORTILLINAS 10P 255G TR 1125           & 268851.2                              \\\\\n",
       "\t DONITAS ESPOLVOREADAS 6P 105G BIM 1242 & 264431.6                              \\\\\n",
       "\t GANSITO 1P 50G MTB MLA 43285           & 264230.9                              \\\\\n",
       "\\end{tabular}\n"
      ],
      "text/markdown": [
       "\n",
       "| nome_produto | venda_peso_total |\n",
       "|---|---|\n",
       "| PAN BLANCO 640G BIM 2233               | 722340.0                               |\n",
       "| PAN INTEGRAL 675G BIM 1146             | 449523.2                               |\n",
       "| NITO 1P 62G CENTRAL BIM 2425           | 358332.5                               |\n",
       "| MANTECADAS VAINILLA 4P 125G BIM 1240   | 349051.2                               |\n",
       "| DONAS AZUCAR 4P 105G BIM 1250          | 323292.8                               |\n",
       "| MEDIAS NOCHES 8P 340G BIM 1150         | 319961.1                               |\n",
       "| NITO 1P 62G BIM 1278                   | 289690.9                               |\n",
       "| TORTILLINAS 10P 255G TR 1125           | 268851.2                               |\n",
       "| DONITAS ESPOLVOREADAS 6P 105G BIM 1242 | 264431.6                               |\n",
       "| GANSITO 1P 50G MTB MLA 43285           | 264230.9                               |\n",
       "\n"
      ],
      "text/plain": [
       "   nome_produto                           venda_peso_total\n",
       "1  PAN BLANCO 640G BIM 2233               722340.0        \n",
       "2  PAN INTEGRAL 675G BIM 1146             449523.2        \n",
       "3  NITO 1P 62G CENTRAL BIM 2425           358332.5        \n",
       "4  MANTECADAS VAINILLA 4P 125G BIM 1240   349051.2        \n",
       "5  DONAS AZUCAR 4P 105G BIM 1250          323292.8        \n",
       "6  MEDIAS NOCHES 8P 340G BIM 1150         319961.1        \n",
       "7  NITO 1P 62G BIM 1278                   289690.9        \n",
       "8  TORTILLINAS 10P 255G TR 1125           268851.2        \n",
       "9  DONITAS ESPOLVOREADAS 6P 105G BIM 1242 264431.6        \n",
       "10 GANSITO 1P 50G MTB MLA 43285           264230.9        "
      ]
     },
     "metadata": {},
     "output_type": "display_data"
    }
   ],
   "source": [
    "# 10 PRODUTOS COM MAIS VENDA EM PESOS\n",
    "produto_venda_peso[c(1:10), c(2,6)]"
   ]
  },
  {
   "cell_type": "code",
   "execution_count": 15,
   "metadata": {},
   "outputs": [],
   "source": [
    "# 50 PRODUTOS DE MAIOR REEMBOLSO EM PESOS  \n",
    "produto_retorno_peso <- agrupa_produto[order(agrupa_produto$devolucao_peso_total, decreasing = T),]"
   ]
  },
  {
   "cell_type": "code",
   "execution_count": 16,
   "metadata": {},
   "outputs": [
    {
     "data": {
      "image/png": "[encoded data removed]",
      "text/plain": [
       "plot without title"
      ]
     },
     "metadata": {},
     "output_type": "display_data"
    }
   ],
   "source": [
    "# GRÁFICO DOS 50 PRODUTOS DE MAIOR REEMBOLSO \n",
    "g4 <- ggplot(produto_retorno_peso[1:50,], aes(x = reorder(nome_produto, devolucao_peso_total), y = devolucao_peso_total)) +\n",
    "    geom_bar(stat = \"identity\") + \n",
    "    labs(x = \"Produto\", y = \"Devoluçao (pesos)\", title = \"Devoluções totais em pesos por produto\") +\n",
    "    theme(plot.title = element_text(hjust = 0.5), text = element_text(size = 8)) +\n",
    "    coord_flip()\n",
    "\n",
    "options(repr.plot.width = 7, repr.plot.height = 7)\n",
    "g4"
   ]
  },
  {
   "cell_type": "code",
   "execution_count": 17,
   "metadata": {},
   "outputs": [
    {
     "data": {
      "text/html": [
       "<table>\n",
       "<thead><tr><th scope=col>nome_produto</th><th scope=col>devolucao_peso_total</th></tr></thead>\n",
       "<tbody>\n",
       "\t<tr><td>PAN BLANCO 640G BIM 2233                     </td><td>11062.70                                     </td></tr>\n",
       "\t<tr><td>TOSTADO 210G CU BIM 1182                     </td><td> 6965.10                                     </td></tr>\n",
       "\t<tr><td>WONDER 100PCT CON AJONJOLI 567G MTA WON 35145</td><td> 6349.67                                     </td></tr>\n",
       "\t<tr><td>DONAS AZUCAR 4P 105G BIM 1250                </td><td> 6346.63                                     </td></tr>\n",
       "\t<tr><td>MANTECADAS VAINILLA 4P 125G BIM 1240         </td><td> 6123.66                                     </td></tr>\n",
       "\t<tr><td>TORTILLINAS 10P 255G TR 1125                 </td><td> 5897.60                                     </td></tr>\n",
       "\t<tr><td>MADALENAS 3P 93G BIM 35651                   </td><td> 5722.50                                     </td></tr>\n",
       "\t<tr><td>CHOCO ROLES 2P 80G MTA MLA 37058             </td><td> 5456.79                                     </td></tr>\n",
       "\t<tr><td>PANQUE NUEZ 255G BIM 1232                    </td><td> 4895.77                                     </td></tr>\n",
       "\t<tr><td>CANELITAS 90G MLA 31309                      </td><td> 4631.25                                     </td></tr>\n",
       "</tbody>\n",
       "</table>\n"
      ],
      "text/latex": [
       "\\begin{tabular}{r|ll}\n",
       " nome\\_produto & devolucao\\_peso\\_total\\\\\n",
       "\\hline\n",
       "\t PAN BLANCO 640G BIM 2233                      & 11062.70                                     \\\\\n",
       "\t TOSTADO 210G CU BIM 1182                      &  6965.10                                     \\\\\n",
       "\t WONDER 100PCT CON AJONJOLI 567G MTA WON 35145 &  6349.67                                     \\\\\n",
       "\t DONAS AZUCAR 4P 105G BIM 1250                 &  6346.63                                     \\\\\n",
       "\t MANTECADAS VAINILLA 4P 125G BIM 1240          &  6123.66                                     \\\\\n",
       "\t TORTILLINAS 10P 255G TR 1125                  &  5897.60                                     \\\\\n",
       "\t MADALENAS 3P 93G BIM 35651                    &  5722.50                                     \\\\\n",
       "\t CHOCO ROLES 2P 80G MTA MLA 37058              &  5456.79                                     \\\\\n",
       "\t PANQUE NUEZ 255G BIM 1232                     &  4895.77                                     \\\\\n",
       "\t CANELITAS 90G MLA 31309                       &  4631.25                                     \\\\\n",
       "\\end{tabular}\n"
      ],
      "text/markdown": [
       "\n",
       "| nome_produto | devolucao_peso_total |\n",
       "|---|---|\n",
       "| PAN BLANCO 640G BIM 2233                      | 11062.70                                      |\n",
       "| TOSTADO 210G CU BIM 1182                      |  6965.10                                      |\n",
       "| WONDER 100PCT CON AJONJOLI 567G MTA WON 35145 |  6349.67                                      |\n",
       "| DONAS AZUCAR 4P 105G BIM 1250                 |  6346.63                                      |\n",
       "| MANTECADAS VAINILLA 4P 125G BIM 1240          |  6123.66                                      |\n",
       "| TORTILLINAS 10P 255G TR 1125                  |  5897.60                                      |\n",
       "| MADALENAS 3P 93G BIM 35651                    |  5722.50                                      |\n",
       "| CHOCO ROLES 2P 80G MTA MLA 37058              |  5456.79                                      |\n",
       "| PANQUE NUEZ 255G BIM 1232                     |  4895.77                                      |\n",
       "| CANELITAS 90G MLA 31309                       |  4631.25                                      |\n",
       "\n"
      ],
      "text/plain": [
       "   nome_produto                                  devolucao_peso_total\n",
       "1  PAN BLANCO 640G BIM 2233                      11062.70            \n",
       "2  TOSTADO 210G CU BIM 1182                       6965.10            \n",
       "3  WONDER 100PCT CON AJONJOLI 567G MTA WON 35145  6349.67            \n",
       "4  DONAS AZUCAR 4P 105G BIM 1250                  6346.63            \n",
       "5  MANTECADAS VAINILLA 4P 125G BIM 1240           6123.66            \n",
       "6  TORTILLINAS 10P 255G TR 1125                   5897.60            \n",
       "7  MADALENAS 3P 93G BIM 35651                     5722.50            \n",
       "8  CHOCO ROLES 2P 80G MTA MLA 37058               5456.79            \n",
       "9  PANQUE NUEZ 255G BIM 1232                      4895.77            \n",
       "10 CANELITAS 90G MLA 31309                        4631.25            "
      ]
     },
     "metadata": {},
     "output_type": "display_data"
    }
   ],
   "source": [
    "# 10 PRODUTOS QUE MAIS REEMBOLSO EM PESOS  \n",
    "produto_retorno_peso[c(1:10), c(2,7)]"
   ]
  },
  {
   "cell_type": "markdown",
   "metadata": {},
   "source": [
    "O Pan Blanco 640g BIM 2233 é o que mais vende em pesos e é o 1º de maior reembolso em pesos aos fornecedores. "
   ]
  },
  {
   "cell_type": "code",
   "execution_count": 18,
   "metadata": {},
   "outputs": [
    {
     "data": {
      "image/png": "[encoded data removed]",
      "text/plain": [
       "plot without title"
      ]
     },
     "metadata": {},
     "output_type": "display_data"
    }
   ],
   "source": [
    "# GRÁFICO DE DISPERSÃO \n",
    "# VENDA TOTAL (UNIDADES) E RETORNO TOTAL (UNIDADES) \n",
    "g5 <- ggplot(agrupa_produto, aes(x = venda_unidade_total, y = retorno_unidade_total)) +\n",
    "    geom_point() + \n",
    "    labs(x = \"Venda (unidades)\", y = \"Retorno (unidades)\", title = \"\") +\n",
    "    theme(plot.title = element_text(hjust = 0.5), text = element_text(size = 9)) \n",
    "\n",
    "options(repr.plot.width = 7, repr.plot.height = 3.5)\n",
    "plot_grid(g5, ncol = 2, align = \"hv\")"
   ]
  },
  {
   "cell_type": "markdown",
   "metadata": {},
   "source": [
    "<div style=\"text-align: justify;\">\n",
    "Existe uma correlação forte positiva de vendas totais de unidades  com retorno total de unidades. A partir do gráfico de dispersão, percebe-se que com aumento da venda total de unidades, o retorno total de unidades aumenta. Porém também existem valores que não possuem essa relação.\n",
    "</div>"
   ]
  },
  {
   "cell_type": "code",
   "execution_count": 19,
   "metadata": {},
   "outputs": [
    {
     "data": {
      "image/png": "[encoded data removed]",
      "text/plain": [
       "plot without title"
      ]
     },
     "metadata": {},
     "output_type": "display_data"
    }
   ],
   "source": [
    "# GRÁFICO 50 PRODUTOS DE MAIOR VENDA DE UNIDADES\n",
    "g6 <- ggplot(agrupa_produto[1:50,], aes(x = reorder(nome_produto, venda_unidade_total), y = venda_unidade_total)) +\n",
    "    geom_bar(stat = \"identity\") + \n",
    "    labs(x = \"Produto\", y = \"Venda (unidades)\", title = \"Vendas totais de unidades por produto\") +\n",
    "    theme(plot.title = element_text(hjust = 0.5), text = element_text(size = 8)) +\n",
    "    coord_flip()\n",
    "\n",
    "options(repr.plot.width = 7, repr.plot.height = 7)\n",
    "g6"
   ]
  },
  {
   "cell_type": "markdown",
   "metadata": {},
   "source": [
    "<div style=\"text-align: justify;\">\n",
    "O  Nito 1p 62g Central BIM 2425, que é o 3º que mais vende em pesos, é o primeiro colocado em venda de unidades. O Pan Blanco 640g BIM 2233, o que mais vende em pesos ocupa a 7º colocação em venda de unidades.\n",
    "</div>"
   ]
  },
  {
   "cell_type": "code",
   "execution_count": 20,
   "metadata": {},
   "outputs": [],
   "source": [
    "# 50 PRODUTOS DE MAIOR RETORNO DE UNIDADES \n",
    "produto_retorno_unidade <- agrupa_produto[order(agrupa_produto$retorno_unidade_total, decreasing = T),]"
   ]
  },
  {
   "cell_type": "code",
   "execution_count": 21,
   "metadata": {},
   "outputs": [
    {
     "data": {
      "image/png": "[encoded data removed]",
      "text/plain": [
       "plot without title"
      ]
     },
     "metadata": {},
     "output_type": "display_data"
    }
   ],
   "source": [
    "# GRÁFICO DOS 50 PRODUTOS DE MAIOR RETORNO DE UNIDADES \n",
    "g7 <- ggplot(produto_retorno_unidade[1:50,], aes(x = reorder(nome_produto, retorno_unidade_total), \n",
    "                                                 y = retorno_unidade_total)) +\n",
    "    geom_bar(stat = \"identity\") + \n",
    "    labs(x = \"Produto\", y = \"Retorno (unidades)\", title = \"Retornos totais de unidades por produto\") +\n",
    "    theme(plot.title = element_text(hjust = 0.5), text = element_text(size = 8)) +\n",
    "    coord_flip()\n",
    "\n",
    "options(repr.plot.width = 7, repr.plot.height = 7)\n",
    "g7"
   ]
  },
  {
   "cell_type": "markdown",
   "metadata": {},
   "source": [
    "#### **DEPÓSITOS**"
   ]
  },
  {
   "cell_type": "code",
   "execution_count": 22,
   "metadata": {},
   "outputs": [],
   "source": [
    "# DEPÓSITO\n",
    "estado_cidade_deposito <- df_bimbo %>%\n",
    "    group_by(deposito_id) %>%\n",
    "    summarise(demanda_ajustada_total = sum(demanda_ajustada),\n",
    "            venda_unidade_total = sum(venda_unidade),\n",
    "            retorno_unidade_total = sum(retorno_unidade),\n",
    "            venda_peso_total = sum(venda_peso),\n",
    "            devolucao_peso_total = sum(devolucao_peso)) %>%\n",
    "    inner_join(df_estado, by = \"deposito_id\") %>%\n",
    "    select(deposito_id, estado, cidade, everything())"
   ]
  },
  {
   "cell_type": "code",
   "execution_count": 23,
   "metadata": {},
   "outputs": [],
   "source": [
    "# DEPÓSITOS\n",
    "deposito1 <- estado_cidade_deposito[order(estado_cidade_deposito$venda_peso_total, decreasing = T),]\n",
    "g9 <- ggplot(deposito1[1:8,], aes(x = reorder(deposito_id, -venda_peso_total), y = venda_peso_total)) +\n",
    "    geom_bar(stat = \"identity\") +\n",
    "    labs(x = \"Depósito\", y = \"Venda (pesos)\", title = \"Vendas totais em pesos por depósito\") +\n",
    "    theme(plot.title = element_text(hjust = 0.5), text = element_text(size = 8)) \n",
    "\n",
    "deposito2 <- estado_cidade_deposito[order(estado_cidade_deposito$venda_unidade_total, decreasing = T),]\n",
    "g10 <- ggplot(deposito2[1:8,], aes(x = reorder(deposito_id, -venda_unidade_total), y = venda_unidade_total)) +\n",
    "    geom_bar(stat = \"identity\") +\n",
    "    labs(x = \"Depósito\", y = \"Venda (unidades)\", title = \"Vendas totais em unidades por depósito\") +\n",
    "    theme(plot.title = element_text(hjust = 0.5), text = element_text(size = 8)) \n",
    "\n",
    "deposito3 <- estado_cidade_deposito[order(estado_cidade_deposito$devolucao_peso_total, decreasing = T),]\n",
    "g11 <- ggplot(deposito3[1:8,], aes(x = reorder(deposito_id, -devolucao_peso_total), y = devolucao_peso_total )) +\n",
    "    geom_bar(stat = \"identity\") +\n",
    "    labs(x = \"Depósito\", y = \"Devolução (pesos)\", title = \"Devoluções totais em pesos por depósito\") +\n",
    "    theme(plot.title = element_text(hjust = 0.5), text = element_text(size = 8)) \n",
    "\n",
    "deposito4 <- estado_cidade_deposito[order(estado_cidade_deposito$retorno_unidade_total, decreasing = T),]\n",
    "g12 <- ggplot(deposito4[1:8,], aes(x = reorder(deposito_id, -retorno_unidade_total), y = retorno_unidade_total )) +\n",
    "    geom_bar(stat = \"identity\") +\n",
    "    labs(x = \"Depósito\", y = \"Retorno (unidades)\", title = \"Retornos totais de unidades por depósito\") +\n",
    "    theme(plot.title = element_text(hjust = 0.5), text = element_text(size = 8)) "
   ]
  },
  {
   "cell_type": "code",
   "execution_count": 24,
   "metadata": {},
   "outputs": [
    {
     "data": {
      "image/png": "[encoded data removed]",
      "text/plain": [
       "plot without title"
      ]
     },
     "metadata": {},
     "output_type": "display_data"
    }
   ],
   "source": [
    "options(repr.plot.width = 7, repr.plot.height = 5)\n",
    "plot_grid(g9, g10, g11, g12, ncol = 2, align = \"hv\")"
   ]
  },
  {
   "cell_type": "markdown",
   "metadata": {},
   "source": [
    "#### **ESTADOS**"
   ]
  },
  {
   "cell_type": "code",
   "execution_count": 25,
   "metadata": {},
   "outputs": [],
   "source": [
    "# ESTADO \n",
    "estado <- estado_cidade_deposito %>%\n",
    "    group_by(estado) %>%\n",
    "    summarise(demanda_ajustada_total = sum(demanda_ajustada_total),\n",
    "            venda_unidade_total = sum(venda_unidade_total),\n",
    "            retorno_unidade_total = sum(retorno_unidade_total),\n",
    "            venda_peso_total = sum(venda_peso_total),\n",
    "            devolucao_peso_total = sum(devolucao_peso_total))"
   ]
  },
  {
   "cell_type": "code",
   "execution_count": 26,
   "metadata": {},
   "outputs": [],
   "source": [
    "# ESTADOS DE MAIOR VENDA EM PESOS\n",
    "estado1 <- estado[order(estado$venda_peso_total, decreasing = T),]\n",
    "g15 <- ggplot(estado1[1:8,], aes(x = reorder(estado, venda_peso_total), y = venda_peso_total)) +\n",
    "    geom_bar(stat = \"identity\") +\n",
    "    labs(x = \"Estado\", y = \"Venda (pesos)\", title = \"Vendas totais em pesos por estado\") +\n",
    "    theme(plot.title = element_text(hjust = 0.5), text = element_text(size = 8)) +\n",
    "    coord_flip()\n",
    "\n",
    "# ESTADOS DE MAIOR DEVOLUÇÃO EM PESOS\n",
    "estado2 <- estado[order(estado$devolucao_peso_total, decreasing = T),]\n",
    "g17 <- ggplot(estado2[1:8,], aes(x = reorder(estado, devolucao_peso_total), y = devolucao_peso_total)) +\n",
    "    geom_bar(stat = \"identity\") +\n",
    "    labs(x = \"Estado\", y = \"Devolução (pesos)\", title = \"Devoluções totais em pesos por estado\") +\n",
    "    theme(plot.title = element_text(hjust = 0.5), text = element_text(size = 8)) +\n",
    "    coord_flip()\n",
    "\n",
    "# ESTADOS DE MAIOR VENDA EM UNIDADES\n",
    "estado3 <- estado[order(estado$venda_unidade_total, decreasing = T),]\n",
    "g16 <- ggplot(estado3[1:8,], aes(x = reorder(estado, venda_unidade_total), y = venda_unidade_total)) +\n",
    "    geom_bar(stat = \"identity\") +\n",
    "    labs(x = \"Estado\", y = \"Venda (unidades)\", title = \"Vendas totais em unidades por estado\") +\n",
    "    theme(plot.title = element_text(hjust = 0.5), text = element_text(size = 8)) +\n",
    "    coord_flip()\n",
    "\n",
    "# ESTADOS DE MAIOR RETORNO EM UNIDADES\n",
    "estado4 <- estado[order(estado$retorno_unidade_total, decreasing = T),]\n",
    "g18 <- ggplot(estado4[1:8,], aes(x = reorder(estado, retorno_unidade_total), y = retorno_unidade_total)) +\n",
    "    geom_bar(stat = \"identity\") +\n",
    "    labs(x = \"Estado\", y = \"Retorno (unidades)\", title = \"Retornos totais de unidades por depósito\") +\n",
    "    theme(plot.title = element_text(hjust = 0.5), text = element_text(size = 8)) +\n",
    "    coord_flip()"
   ]
  },
  {
   "cell_type": "code",
   "execution_count": 27,
   "metadata": {},
   "outputs": [
    {
     "data": {
      "image/png": "[encoded data removed]",
      "text/plain": [
       "plot without title"
      ]
     },
     "metadata": {},
     "output_type": "display_data"
    }
   ],
   "source": [
    "options(repr.plot.width = 5, repr.plot.height = 7)\n",
    "plot_grid(g15, g16, g17, g18, ncol = 1, align = \"hv\")"
   ]
  },
  {
   "cell_type": "markdown",
   "metadata": {},
   "source": [
    "#### **CIDADES**"
   ]
  },
  {
   "cell_type": "code",
   "execution_count": 28,
   "metadata": {},
   "outputs": [],
   "source": [
    "# CIDADE \n",
    "cidade <- estado_cidade_deposito %>%\n",
    "    group_by(cidade) %>%\n",
    "    summarise(demanda_ajustada_total = sum(demanda_ajustada_total),\n",
    "            venda_unidade_total = sum(venda_unidade_total),\n",
    "            retorno_unidade_total = sum(retorno_unidade_total),\n",
    "            venda_peso_total = sum(venda_peso_total),\n",
    "            devolucao_peso_total = sum(devolucao_peso_total))"
   ]
  },
  {
   "cell_type": "code",
   "execution_count": 29,
   "metadata": {},
   "outputs": [],
   "source": [
    "# CIDADES DE MAIOR VENDA EM PESOS\n",
    "cidade1 <- cidade[order(cidade$venda_peso_total, decreasing = T),]\n",
    "g19 <- ggplot(cidade1[1:8,], aes(x = reorder(cidade, venda_peso_total), y = venda_peso_total)) +\n",
    "    geom_bar(stat = \"identity\") +\n",
    "    labs(x = \"Cidade\", y = \"Venda (pesos)\", title = \"Vendas totais em pesos por cidade\") +\n",
    "    theme(plot.title = element_text(hjust = 0.5), text = element_text(size = 8)) +\n",
    "    coord_flip()\n",
    "\n",
    "# CIDADES DE MAIOR DEVOLUÇÃO EM PESOS\n",
    "cidade2 <- cidade[order(cidade$venda_peso_total, decreasing = T),]\n",
    "g20 <- ggplot(cidade2[1:8,], aes(x = reorder(cidade, devolucao_peso_total), y = devolucao_peso_total)) +\n",
    "    geom_bar(stat = \"identity\") +\n",
    "    labs(x = \"Cidade\", y = \"Devolução (pesos)\", title = \"Devolução totais em pesos por cidade\") +\n",
    "    theme(plot.title = element_text(hjust = 0.5), text = element_text(size = 8)) +\n",
    "    coord_flip()\n",
    "\n",
    "# CIDADES DE MAIOR VENDA EM UNIDADES\n",
    "cidade3 <- cidade[order(cidade$venda_unidade_total, decreasing = T),]\n",
    "g21 <- ggplot(cidade3[1:8,], aes(x = reorder(cidade, venda_unidade_total), y = venda_unidade_total)) +\n",
    "    geom_bar(stat = \"identity\") +\n",
    "    labs(x = \"Cidade\", y = \"Venda (unidades)\", title = \"Vendas totais de unidades por cidade\") +\n",
    "    theme(plot.title = element_text(hjust = 0.5), text = element_text(size = 8)) +\n",
    "    coord_flip()\n",
    "\n",
    "# CIDADES DE MAIOR RETORNO EM UNIDADES\n",
    "cidade4 <- cidade[order(cidade$retorno_unidade_total, decreasing = T),]\n",
    "g22 <- ggplot(cidade4[1:8,], aes(x = reorder(cidade, retorno_unidade_total), y = retorno_unidade_total)) +\n",
    "    geom_bar(stat = \"identity\") +\n",
    "    labs(x = \"Cidade\", y = \"Retorno (unidades)\", title = \"Retorno totais de unidades por cidade\") +\n",
    "    theme(plot.title = element_text(hjust = 0.5), text = element_text(size = 8)) +\n",
    "    coord_flip()"
   ]
  },
  {
   "cell_type": "code",
   "execution_count": 30,
   "metadata": {},
   "outputs": [
    {
     "data": {
      "image/png": "[encoded data removed]",
      "text/plain": [
       "plot without title"
      ]
     },
     "metadata": {},
     "output_type": "display_data"
    }
   ],
   "source": [
    "options(repr.plot.width = 5, repr.plot.height = 7)\n",
    "plot_grid(g19, g20, g21, g22, ncol = 1, align = \"hv\")"
   ]
  },
  {
   "cell_type": "markdown",
   "metadata": {},
   "source": [
    "#### **CLIENTES**"
   ]
  },
  {
   "cell_type": "code",
   "execution_count": 31,
   "metadata": {},
   "outputs": [],
   "source": [
    "# CLIENTES\n",
    "cliente <- df_bimbo %>%\n",
    "    group_by(cliente_id) %>%\n",
    "    summarise(demanda_ajustada_total = sum(demanda_ajustada),\n",
    "            venda_unidade_total = sum(venda_unidade),\n",
    "            retorno_unidade_total = sum(retorno_unidade),\n",
    "            venda_peso_total = sum(venda_peso),\n",
    "            devolucao_peso_total = sum(devolucao_peso)) %>%\n",
    "    inner_join(df_cliente, by = \"cliente_id\") %>%\n",
    "    select(nome_cliente, everything())"
   ]
  },
  {
   "cell_type": "code",
   "execution_count": 32,
   "metadata": {},
   "outputs": [],
   "source": [
    "# CLIENTES QUE MAIS COMPRARAM EM PESOS\n",
    "cliente1 <- cliente[order(cliente$venda_peso_total, decreasing = T),]\n",
    "g19 <- ggplot(cliente1[1:5,], aes(x = reorder(nome_cliente, venda_peso_total), y = venda_peso_total)) +\n",
    "    geom_bar(stat = \"identity\") +\n",
    "    labs(x = \"Cliente\", y = \"Compra (pesos)\", title = \"Compras totais em pesos por cliente\") +\n",
    "    theme(plot.title = element_text(hjust = 0.5), text = element_text(size = 8)) +\n",
    "    coord_flip()\n",
    "\n",
    "# CLIENTES COM MAIS DEVOLUÇÕES EM PESOS\n",
    "cliente2 <- cliente[order(cliente$devolucao_peso_total, decreasing = T),]\n",
    "g20 <- ggplot(cliente2[1:7,], aes(x = reorder(nome_cliente, devolucao_peso_total), y = devolucao_peso_total)) +\n",
    "    geom_bar(stat = \"identity\") +\n",
    "    labs(x = \"Cliente\", y = \"Devolução (pesos)\", title = \"Devoluções totais em pesos por cliente\") +\n",
    "    theme(plot.title = element_text(hjust = 0.5), text = element_text(size = 8)) +\n",
    "    coord_flip()"
   ]
  },
  {
   "cell_type": "code",
   "execution_count": 33,
   "metadata": {},
   "outputs": [
    {
     "data": {
      "image/png": "[encoded data removed]",
      "text/plain": [
       "plot without title"
      ]
     },
     "metadata": {},
     "output_type": "display_data"
    }
   ],
   "source": [
    "options(repr.plot.width = 5, repr.plot.height = 5)\n",
    "plot_grid(g19, g20, ncol = 1, align = \"hv\")"
   ]
  },
  {
   "cell_type": "markdown",
   "metadata": {},
   "source": [
    "#### **CORRELAÇÃO DA VARIÁVEIS**"
   ]
  },
  {
   "cell_type": "code",
   "execution_count": 34,
   "metadata": {},
   "outputs": [
    {
     "data": {
      "text/html": [
       "<table>\n",
       "<thead><tr><th></th><th scope=col>venda_unidade</th><th scope=col>venda_peso</th><th scope=col>retorno_unidade</th><th scope=col>devolucao_peso</th><th scope=col>demanda_ajustada</th></tr></thead>\n",
       "<tbody>\n",
       "\t<tr><th scope=row>venda_unidade</th><td>1.00000000</td><td>0.82655378</td><td>0.09432817</td><td>0.12252066</td><td>0.99849184</td></tr>\n",
       "\t<tr><th scope=row>venda_peso</th><td>0.82655378</td><td>1.00000000</td><td>0.08291265</td><td>0.14598289</td><td>0.82470211</td></tr>\n",
       "\t<tr><th scope=row>retorno_unidade</th><td>0.09432817</td><td>0.08291265</td><td>1.00000000</td><td>0.83233658</td><td>0.06237353</td></tr>\n",
       "\t<tr><th scope=row>devolucao_peso</th><td>0.12252066</td><td>0.14598289</td><td>0.83233658</td><td>1.00000000</td><td>0.08757016</td></tr>\n",
       "\t<tr><th scope=row>demanda_ajustada</th><td>0.99849184</td><td>0.82470211</td><td>0.06237353</td><td>0.08757016</td><td>1.00000000</td></tr>\n",
       "</tbody>\n",
       "</table>\n"
      ],
      "text/latex": [
       "\\begin{tabular}{r|lllll}\n",
       "  & venda\\_unidade & venda\\_peso & retorno\\_unidade & devolucao\\_peso & demanda\\_ajustada\\\\\n",
       "\\hline\n",
       "\tvenda\\_unidade & 1.00000000 & 0.82655378 & 0.09432817 & 0.12252066 & 0.99849184\\\\\n",
       "\tvenda\\_peso & 0.82655378 & 1.00000000 & 0.08291265 & 0.14598289 & 0.82470211\\\\\n",
       "\tretorno\\_unidade & 0.09432817 & 0.08291265 & 1.00000000 & 0.83233658 & 0.06237353\\\\\n",
       "\tdevolucao\\_peso & 0.12252066 & 0.14598289 & 0.83233658 & 1.00000000 & 0.08757016\\\\\n",
       "\tdemanda\\_ajustada & 0.99849184 & 0.82470211 & 0.06237353 & 0.08757016 & 1.00000000\\\\\n",
       "\\end{tabular}\n"
      ],
      "text/markdown": [
       "\n",
       "| <!--/--> | venda_unidade | venda_peso | retorno_unidade | devolucao_peso | demanda_ajustada |\n",
       "|---|---|---|---|---|---|\n",
       "| venda_unidade | 1.00000000 | 0.82655378 | 0.09432817 | 0.12252066 | 0.99849184 |\n",
       "| venda_peso | 0.82655378 | 1.00000000 | 0.08291265 | 0.14598289 | 0.82470211 |\n",
       "| retorno_unidade | 0.09432817 | 0.08291265 | 1.00000000 | 0.83233658 | 0.06237353 |\n",
       "| devolucao_peso | 0.12252066 | 0.14598289 | 0.83233658 | 1.00000000 | 0.08757016 |\n",
       "| demanda_ajustada | 0.99849184 | 0.82470211 | 0.06237353 | 0.08757016 | 1.00000000 |\n",
       "\n"
      ],
      "text/plain": [
       "                 venda_unidade venda_peso retorno_unidade devolucao_peso\n",
       "venda_unidade    1.00000000    0.82655378 0.09432817      0.12252066    \n",
       "venda_peso       0.82655378    1.00000000 0.08291265      0.14598289    \n",
       "retorno_unidade  0.09432817    0.08291265 1.00000000      0.83233658    \n",
       "devolucao_peso   0.12252066    0.14598289 0.83233658      1.00000000    \n",
       "demanda_ajustada 0.99849184    0.82470211 0.06237353      0.08757016    \n",
       "                 demanda_ajustada\n",
       "venda_unidade    0.99849184      \n",
       "venda_peso       0.82470211      \n",
       "retorno_unidade  0.06237353      \n",
       "devolucao_peso   0.08757016      \n",
       "demanda_ajustada 1.00000000      "
      ]
     },
     "metadata": {},
     "output_type": "display_data"
    }
   ],
   "source": [
    "# CORRELAÇÃO DE VARIÁVEIS DO DATASET DA AMOSTRA DO DATASET PADRONIZADO\n",
    "corr_df_bimbo <- cor(df_bimbo[, 7:11])\n",
    "corr_df_bimbo"
   ]
  },
  {
   "cell_type": "markdown",
   "metadata": {},
   "source": [
    "<p>\n",
    "<div style=\"text-align: justify;\">\n",
    "Na matriz de correlação percebe-se que existem variáveis altamente correlacionadas como <b>venda_peso</b> com <b>venda_unidade</b> e <b>retorno_unidade</b> com <b>retorno_peso</b>. Além disso, a variável <b>venda_peso</b> também possuí uma alta correlação com a variável dependente <b>demanda_ajustada</b>. Devido a alta correlação com outras variáveis independentes e também com a variável dependente, a variável <b>venda_peso</b> não será utilizada.\n",
    "</div>\n",
    "</p>"
   ]
  },
  {
   "cell_type": "code",
   "execution_count": 35,
   "metadata": {},
   "outputs": [
    {
     "data": {
      "text/html": [
       "<table>\n",
       "<thead><tr><th></th><th scope=col>venda_unidade</th><th scope=col>retorno_unidade</th><th scope=col>devolucao_peso</th><th scope=col>demanda_ajustada</th></tr></thead>\n",
       "<tbody>\n",
       "\t<tr><th scope=row>venda_unidade</th><td>1.00000000</td><td>0.09432817</td><td>0.12252066</td><td>0.99849184</td></tr>\n",
       "\t<tr><th scope=row>retorno_unidade</th><td>0.09432817</td><td>1.00000000</td><td>0.83233658</td><td>0.06237353</td></tr>\n",
       "\t<tr><th scope=row>devolucao_peso</th><td>0.12252066</td><td>0.83233658</td><td>1.00000000</td><td>0.08757016</td></tr>\n",
       "\t<tr><th scope=row>demanda_ajustada</th><td>0.99849184</td><td>0.06237353</td><td>0.08757016</td><td>1.00000000</td></tr>\n",
       "</tbody>\n",
       "</table>\n"
      ],
      "text/latex": [
       "\\begin{tabular}{r|llll}\n",
       "  & venda\\_unidade & retorno\\_unidade & devolucao\\_peso & demanda\\_ajustada\\\\\n",
       "\\hline\n",
       "\tvenda\\_unidade & 1.00000000 & 0.09432817 & 0.12252066 & 0.99849184\\\\\n",
       "\tretorno\\_unidade & 0.09432817 & 1.00000000 & 0.83233658 & 0.06237353\\\\\n",
       "\tdevolucao\\_peso & 0.12252066 & 0.83233658 & 1.00000000 & 0.08757016\\\\\n",
       "\tdemanda\\_ajustada & 0.99849184 & 0.06237353 & 0.08757016 & 1.00000000\\\\\n",
       "\\end{tabular}\n"
      ],
      "text/markdown": [
       "\n",
       "| <!--/--> | venda_unidade | retorno_unidade | devolucao_peso | demanda_ajustada |\n",
       "|---|---|---|---|---|\n",
       "| venda_unidade | 1.00000000 | 0.09432817 | 0.12252066 | 0.99849184 |\n",
       "| retorno_unidade | 0.09432817 | 1.00000000 | 0.83233658 | 0.06237353 |\n",
       "| devolucao_peso | 0.12252066 | 0.83233658 | 1.00000000 | 0.08757016 |\n",
       "| demanda_ajustada | 0.99849184 | 0.06237353 | 0.08757016 | 1.00000000 |\n",
       "\n"
      ],
      "text/plain": [
       "                 venda_unidade retorno_unidade devolucao_peso demanda_ajustada\n",
       "venda_unidade    1.00000000    0.09432817      0.12252066     0.99849184      \n",
       "retorno_unidade  0.09432817    1.00000000      0.83233658     0.06237353      \n",
       "devolucao_peso   0.12252066    0.83233658      1.00000000     0.08757016      \n",
       "demanda_ajustada 0.99849184    0.06237353      0.08757016     1.00000000      "
      ]
     },
     "metadata": {},
     "output_type": "display_data"
    }
   ],
   "source": [
    "# CORRELAÇÃO DE VARIÁVEIS DO DATASET DA AMOSTRA DO DATASET PADRONIZADO\n",
    "corr_df_bimbo <- cor(df_bimbo[, c(7,9:11)])\n",
    "corr_df_bimbo"
   ]
  },
  {
   "cell_type": "code",
   "execution_count": 36,
   "metadata": {},
   "outputs": [],
   "source": [
    "set.seed(1908)"
   ]
  },
  {
   "cell_type": "code",
   "execution_count": 37,
   "metadata": {},
   "outputs": [],
   "source": [
    "# DADOS DE TREINO (APROX. 70%) E TESTE (APROX. 30%)\n",
    "divisao_treino_teste <- sample.split(df_bimbo$demanda_ajustada, SplitRatio = 0.70)"
   ]
  },
  {
   "cell_type": "code",
   "execution_count": 38,
   "metadata": {},
   "outputs": [],
   "source": [
    "dados_treino <- subset(df_bimbo, divisao_treino_teste == TRUE)\n",
    "dados_treino <- as.data.frame(dados_treino)\n",
    "dados_teste <- subset(df_bimbo, divisao_treino_teste == FALSE)\n",
    "dados_teste <- as.data.frame(dados_teste)"
   ]
  },
  {
   "cell_type": "code",
   "execution_count": 39,
   "metadata": {},
   "outputs": [
    {
     "name": "stdout",
     "output_type": "stream",
     "text": [
      "Rows: 171,527\n",
      "Columns: 11\n",
      "$ semana           <int> 3, 3, 3, 3, 3, 3, 3, 3, 3, 3, 3, 3, 3, 3, 3, 3, 3, 3,~\n",
      "$ deposito_id      <int> 1126, 1595, 1232, 1631, 1222, 1614, 1238, 1387, 1470,~\n",
      "$ canal_venda      <int> 1, 4, 1, 1, 1, 1, 1, 1, 1, 1, 1, 1, 1, 1, 1, 1, 1, 1,~\n",
      "$ rota_id          <int> 1024, 6602, 1004, 1256, 1002, 1016, 1104, 1214, 2107,~\n",
      "$ cliente_id       <int> 1279340, 2388568, 78925, 4295781, 61159, 277610, 2384~\n",
      "$ produto_id       <int> 1150, 44371, 1160, 1309, 3144, 2233, 31423, 2425, 430~\n",
      "$ venda_unidade    <int> 2, 4, 8, 1, 1, 1, 1, 14, 4, 11, 3, 2, 5, 1, 1, 2, 36,~\n",
      "$ venda_peso       <dbl> 27.92, 29.92, 150.88, 6.76, 21.32, 19.94, 10.69, 63.0~\n",
      "$ retorno_unidade  <int> 0, 0, 0, 0, 0, 0, 0, 0, 0, 0, 0, 0, 0, 0, 0, 0, 0, 0,~\n",
      "$ devolucao_peso   <dbl> 0, 0, 0, 0, 0, 0, 0, 0, 0, 0, 0, 0, 0, 0, 0, 0, 0, 0,~\n",
      "$ demanda_ajustada <int> 2, 4, 8, 1, 1, 1, 1, 14, 4, 11, 3, 2, 5, 1, 1, 2, 36,~\n"
     ]
    }
   ],
   "source": [
    "glimpse(dados_treino)"
   ]
  },
  {
   "cell_type": "code",
   "execution_count": 40,
   "metadata": {},
   "outputs": [
    {
     "name": "stdout",
     "output_type": "stream",
     "text": [
      "Dados treino : 171527 observações\n",
      "Dados teste  : 73473 observações"
     ]
    }
   ],
   "source": [
    "cat(\"Dados treino :\", nrow(dados_treino),\"observações\")\n",
    "cat(\"\\nDados teste  :\", nrow(dados_teste),\"observações\")"
   ]
  },
  {
   "cell_type": "code",
   "execution_count": 41,
   "metadata": {},
   "outputs": [],
   "source": [
    "# PREPARANDO DADOS DE TREINO E TESTE PARA O XGBOOST\n",
    "x_treino = xgb.DMatrix(as.matrix(dados_treino[, c(1:10)]))\n",
    "y_treino = dados_treino[, 11]\n",
    "\n",
    "x_teste = xgb.DMatrix(as.matrix(dados_teste[, c(1:10)]))\n",
    "y_teste = dados_teste[, 11]"
   ]
  },
  {
   "cell_type": "markdown",
   "metadata": {},
   "source": [
    "### APRENDIZADO "
   ]
  },
  {
   "cell_type": "markdown",
   "metadata": {},
   "source": [
    "#### XGBOOST"
   ]
  },
  {
   "cell_type": "code",
   "execution_count": 42,
   "metadata": {},
   "outputs": [],
   "source": [
    "# TRAIN CONTROL\n",
    "trcontrol = trainControl(method = \"cv\",\n",
    "                         number = 10,  \n",
    "                         allowParallel = FALSE,\n",
    "                         verboseIter = FALSE,\n",
    "                         returnData = FALSE)"
   ]
  },
  {
   "cell_type": "code",
   "execution_count": 43,
   "metadata": {},
   "outputs": [],
   "source": [
    "# GRID SEARCH\n",
    "param_grid <- expand.grid(nrounds = c(200, 500, 1000),\n",
    "                          max_depth = 6,\n",
    "                          colsample_bytree = 0.7,\n",
    "                          eta = 0.1,\n",
    "                          gamma = 0,\n",
    "                          min_child_weight = 1,\n",
    "                          subsample = 0.7)"
   ]
  },
  {
   "cell_type": "code",
   "execution_count": 44,
   "metadata": {},
   "outputs": [],
   "source": [
    "set.seed(1908)"
   ]
  },
  {
   "cell_type": "code",
   "execution_count": 45,
   "metadata": {},
   "outputs": [
    {
     "name": "stdout",
     "output_type": "stream",
     "text": [
      "eXtreme Gradient Boosting \n",
      "\n",
      "No pre-processing\n",
      "Resampling: Cross-Validated (10 fold) \n",
      "Summary of sample sizes: 154373, 154375, 154376, 154375, 154375, 154374, ... \n",
      "Resampling results across tuning parameters:\n",
      "\n",
      "  nrounds  RMSE      Rsquared   MAE       \n",
      "   200     1.965814  0.9916623  0.20214700\n",
      "   500     1.908696  0.9920461  0.12436368\n",
      "  1000     1.898082  0.9921137  0.09822446\n",
      "\n",
      "Tuning parameter 'max_depth' was held constant at a value of 6\n",
      "Tuning\n",
      " parameter 'min_child_weight' was held constant at a value of 1\n",
      "\n",
      "Tuning parameter 'subsample' was held constant at a value of 0.7\n",
      "RMSE was used to select the optimal model using the smallest value.\n",
      "The final values used for the model were nrounds = 1000, max_depth = 6, eta\n",
      " = 0.1, gamma = 0, colsample_bytree = 0.7, min_child_weight = 1 and subsample\n",
      " = 0.7.\n"
     ]
    }
   ],
   "source": [
    "# TREINO\n",
    "xgb = train(x_treino, \n",
    "            y_treino,  \n",
    "            trControl = trcontrol,\n",
    "            tuneGrid = param_grid,\n",
    "            method = \"xgbTree\",\n",
    "            objective = \"reg:squarederror\")\n",
    "\n",
    "print(xgb)"
   ]
  },
  {
   "cell_type": "code",
   "execution_count": 46,
   "metadata": {},
   "outputs": [],
   "source": [
    "# PREVISÃO\n",
    "prev_xgb = predict(xgb, x_teste)"
   ]
  },
  {
   "cell_type": "code",
   "execution_count": 47,
   "metadata": {},
   "outputs": [
    {
     "data": {
      "text/html": [
       "TRUE"
      ],
      "text/latex": [
       "TRUE"
      ],
      "text/markdown": [
       "TRUE"
      ],
      "text/plain": [
       "[1] TRUE"
      ]
     },
     "metadata": {},
     "output_type": "display_data"
    }
   ],
   "source": [
    "# VERIFICANDO VALORES NEGATIVOS NA COLUNA DE PREVISÃO\n",
    "any(prev_xgb < 0)"
   ]
  },
  {
   "cell_type": "code",
   "execution_count": 48,
   "metadata": {},
   "outputs": [
    {
     "data": {
      "text/html": [
       "FALSE"
      ],
      "text/latex": [
       "FALSE"
      ],
      "text/markdown": [
       "FALSE"
      ],
      "text/plain": [
       "[1] FALSE"
      ]
     },
     "metadata": {},
     "output_type": "display_data"
    }
   ],
   "source": [
    "# TRATANDO OS VALORES NEGATIVOS DA PREVISÃO\n",
    "converterNegativo <- function(vetor){\n",
    "    for (p in vetor){\n",
    "        if (p < 0){\n",
    "            return(0)\n",
    "        } else{\n",
    "            return(p)\n",
    "        }\n",
    "    }\n",
    "}\n",
    "\n",
    "prev_xgb <- sapply(prev_xgb, converterNegativo)\n",
    "\n",
    "# EXISTE VALORES NEGATIVOS?\n",
    "any(prev_xgb < 0)"
   ]
  },
  {
   "cell_type": "code",
   "execution_count": 49,
   "metadata": {},
   "outputs": [
    {
     "data": {
      "text/html": [
       "<table>\n",
       "<thead><tr><th scope=col>demanda_ajustada</th><th scope=col>prev_xgb</th></tr></thead>\n",
       "<tbody>\n",
       "\t<tr><td> 1        </td><td> 1.0027364</td></tr>\n",
       "\t<tr><td> 1        </td><td> 0.9793775</td></tr>\n",
       "\t<tr><td> 3        </td><td> 2.9884274</td></tr>\n",
       "\t<tr><td> 1        </td><td> 1.0178751</td></tr>\n",
       "\t<tr><td> 3        </td><td> 3.0091863</td></tr>\n",
       "\t<tr><td>15        </td><td>15.0416565</td></tr>\n",
       "</tbody>\n",
       "</table>\n"
      ],
      "text/latex": [
       "\\begin{tabular}{r|ll}\n",
       " demanda\\_ajustada & prev\\_xgb\\\\\n",
       "\\hline\n",
       "\t  1         &  1.0027364\\\\\n",
       "\t  1         &  0.9793775\\\\\n",
       "\t  3         &  2.9884274\\\\\n",
       "\t  1         &  1.0178751\\\\\n",
       "\t  3         &  3.0091863\\\\\n",
       "\t 15         & 15.0416565\\\\\n",
       "\\end{tabular}\n"
      ],
      "text/markdown": [
       "\n",
       "| demanda_ajustada | prev_xgb |\n",
       "|---|---|\n",
       "|  1         |  1.0027364 |\n",
       "|  1         |  0.9793775 |\n",
       "|  3         |  2.9884274 |\n",
       "|  1         |  1.0178751 |\n",
       "|  3         |  3.0091863 |\n",
       "| 15         | 15.0416565 |\n",
       "\n"
      ],
      "text/plain": [
       "  demanda_ajustada prev_xgb  \n",
       "1  1                1.0027364\n",
       "2  1                0.9793775\n",
       "3  3                2.9884274\n",
       "4  1                1.0178751\n",
       "5  3                3.0091863\n",
       "6 15               15.0416565"
      ]
     },
     "metadata": {},
     "output_type": "display_data"
    }
   ],
   "source": [
    "# UNINDO COLUNA DE PREVISÃO AO DATASET\n",
    "resultados <- cbind(dados_teste, prev_xgb)\n",
    "head(resultados[, c(11, 12)])"
   ]
  },
  {
   "cell_type": "markdown",
   "metadata": {},
   "source": [
    "### AVALIAÇÃO "
   ]
  },
  {
   "cell_type": "code",
   "execution_count": 50,
   "metadata": {},
   "outputs": [],
   "source": [
    "# CÁLCULAR RESÍDUOS\n",
    "calculo_residuos = y_teste - prev_xgb\n",
    "df_residuos = as.data.frame(cbind(previsto = prev_xgb, residuos = calculo_residuos))"
   ]
  },
  {
   "cell_type": "code",
   "execution_count": 51,
   "metadata": {},
   "outputs": [
    {
     "name": "stderr",
     "output_type": "stream",
     "text": [
      "`geom_smooth()` using formula 'y ~ x'\n"
     ]
    },
    {
     "data": {
      "image/png": "[encoded data removed]",
      "text/plain": [
       "plot without title"
      ]
     },
     "metadata": {},
     "output_type": "display_data"
    }
   ],
   "source": [
    "# GRÁFICO COM A RETA ENCONTRADA\n",
    "df_reta = as.data.frame(cbind(predito = prev_xgb, observado = y_teste))\n",
    "g_reta <- ggplot(df_reta, aes(x = predito, y = observado)) + \n",
    "          geom_point(color = \"black\", alpha = 0.5) + \n",
    "          geom_smooth(method = \"lm\") + \n",
    "          labs(x = \"Previsão\", y = \"Observados (y teste)\", title = \"XGBoost: Previsão x Observados\") +\n",
    "          theme(plot.title = element_text(hjust = 0.5), text = element_text(size = 9)) +\n",
    "          stat_regline_equation(aes(label =  paste(..eq.label..)))\n",
    "\n",
    "\n",
    "# GRÁFICO DE RESÍDUOS\n",
    "g_residuos <- ggplot(df_residuos, (aes(x = prev_xgb, y = residuos))) +\n",
    "    geom_point(color = \"black\", alpha = 0.5) + \n",
    "    scale_y_continuous(limits = c(-300, 300)) +\n",
    "    labs(x = \"Previsão\", y = \"Resíduos\", title = \"XGBoost\") +\n",
    "    theme(plot.title = element_text(hjust = 0.5), text = element_text(size = 9)) \n",
    "\n",
    "\n",
    "options(repr.plot.width = 7, repr.plot.height = 3.5)\n",
    "plot_grid(g_reta, g_residuos, ncol = 2, align = \"hv\")"
   ]
  },
  {
   "cell_type": "code",
   "execution_count": 52,
   "metadata": {},
   "outputs": [
    {
     "name": "stdout",
     "output_type": "stream",
     "text": [
      "Resultados do teste do Modelo de Regressão com XGBoost:\n",
      "\n",
      "MSE  =  0.2598 \n",
      "RMSE =  0.5097 \n",
      "MAE  =  0.051 \n",
      "R²   =  0.999 \n",
      "R²ajust =  0.999"
     ]
    }
   ],
   "source": [
    "# MÉTRICAS\n",
    "# MSE - ERRO QUADRÁTICO MÉDIO \n",
    "# É A MÉDIA DO ERRO DAS PREVISÕES AO QUADRADO. QUANTO MAIOR, PIOR O MODELO.\n",
    "MSE <- round(sum((y_teste - prev_xgb)^2)/nrow(dados_teste), 4)\n",
    "\n",
    "# RMSE - RAÍZ DO ERRO QUADRÁTICO MÉDIO \n",
    "# RAÍZ DO MSE. MELHORA A INTERPRETABILIDADE EM COMPARAÇÃO COM O MSE.\n",
    "RMSE <- round(sqrt(MSE), 4)\n",
    "\n",
    "# MAE - ERRO MÉDIO ABSOLUTO \n",
    "# É A MÈDIA DAS DISTÂNCIAS ENTRE VALORES PREVISTOS E REAIS. POSSUI A MESMA UNIDADE DOS DADOS TRABALHADOS. DÁ A IDEIA DO\n",
    "# QUÃO ERRADAS ESTÃO AS PREVISÕES\n",
    "MAE <- round(sum(abs(y_teste - prev_xgb))/nrow(dados_teste), 4)\n",
    "\n",
    "# R² - COEFICIENTE DE DETERMINAÇÃO (NÍVEL DE PRECISÃO DAS PREVISÕES EM RELAÇÃO AOS VALORES OBSERVADOS)\n",
    "# INFORMA O PERCENTUAL DA VARIABILIDADE OU VARIÂNCIA DOS DADOS QUE SÂO EXPLICADAS PELO MODELO CONSTRUÍDO\n",
    "SSE = sum((y_teste - prev_xgb)^2)\n",
    "SST = sum((y_teste - mean(y_teste))^2)\n",
    "R2 = round(1 - (SSE/SST), 4)\n",
    "\n",
    "# R² AJUSTADO - COEFICIENTE DE DETERMINAÇÃO \n",
    "R2_ajust = round(1 - ((1 - R2) * (nrow(dados_teste) - 1))/(nrow(dados_teste) - (ncol(dados_teste) - 1) - 1), 4)\n",
    "\n",
    "cat(\"Resultados do teste do Modelo de Regressão com XGBoost:\") \n",
    "cat(\"\\n\\nMSE  = \",MSE,\"\\nRMSE = \", RMSE,\"\\nMAE  = \",MAE,\"\\nR²   = \", R2, \"\\nR²ajust = \", R2_ajust)"
   ]
  },
  {
   "cell_type": "markdown",
   "metadata": {},
   "source": [
    "#### CONCLUSÃO"
   ]
  },
  {
   "cell_type": "markdown",
   "metadata": {},
   "source": [
    "O modelo XGBoost obteve um bom desempenho com um R² igual 0.999 e RMSE baixo."
   ]
  }
 ],
 "metadata": {
  "kernelspec": {
   "display_name": "R",
   "language": "R",
   "name": "ir"
  },
  "language_info": {
   "codemirror_mode": "r",
   "file_extension": ".r",
   "mimetype": "text/x-r-source",
   "name": "R",
   "pygments_lexer": "r",
   "version": "3.6.1"
  }
 },
 "nbformat": 4,
 "nbformat_minor": 4
}
