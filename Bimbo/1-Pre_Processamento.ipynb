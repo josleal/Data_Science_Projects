{
 "cells": [
  {
   "cell_type": "markdown",
   "metadata": {},
   "source": [
    "### PROJETO: PREVENDO DEMANDA DE ESTOQUE COM BASE EM VENDAS - EMPRESA BIMBO DO MÉXICO"
   ]
  },
  {
   "cell_type": "markdown",
   "metadata": {},
   "source": [
    "### DESCRIÇÃO DOS DADOS\n",
    "\n",
    "\n",
    "Descrição dos dados dos datasets utilizados neste experimento.\n",
    "\n",
    "- Semana --> **semana**: número da semana (de quinta a quarta-feira);\n",
    "- Agencia_ID --> **deposito_id**: id do depósito de vendas;\n",
    "- Canal_ID --> **canal_id**:  id do canal de vendas;\n",
    "- Ruta_SAK --> **rota_id**:  id da rota (várias rotas = depósito de vendas);\n",
    "- Cliente_ID --> **cliente_id**: id do cliente;\n",
    "- NombreCliente --> **nome_cliente**: nome do cliente;\n",
    "- Producto_ID --> **produto_id**: id do produto;\n",
    "- NombreProducto --> **nome_produto**: nome do produto;\n",
    "- Venta_uni_hoy --> **venda_unidade**: unidade de vendas desta semana ao fornecedor (inteiro);\n",
    "- Venta_hoy --> **venda_peso**: vendas esta semana (unidade: pesos);\n",
    "- Dev_uni_proxima --> **retorno_unidade**: unidade de retorno na próxima semana (inteiro);\n",
    "- Dev_proxima --> **devolucao_peso**: devoluções na próxima semana (unidade: pesos);\n",
    "- Demanda_uni_equil --> **demanda_ajustada**: demanda ajustada (inteiro). (este é o alvo a ser previsto)"
   ]
  },
  {
   "cell_type": "markdown",
   "metadata": {},
   "source": [
    "### PRÉ-PROCESSAMENTO"
   ]
  },
  {
   "cell_type": "markdown",
   "metadata": {},
   "source": [
    "####  CARREGANDO BIBLIOTECAS"
   ]
  },
  {
   "cell_type": "code",
   "execution_count": 1,
   "metadata": {},
   "outputs": [],
   "source": [
    "# DESATIVAR MENSAGENS DE WARNINGS (warn = -1) E ATIVAR (warn = 0)\n",
    "options(warn = -1)"
   ]
  },
  {
   "cell_type": "code",
   "execution_count": 2,
   "metadata": {},
   "outputs": [],
   "source": [
    "# DESATIVA NOTAÇÃO CIENTÍFICA\n",
    "options(scipen = 999)"
   ]
  },
  {
   "cell_type": "code",
   "execution_count": 3,
   "metadata": {},
   "outputs": [],
   "source": [
    "# PARA TAMANHO DOS GRÁFICOS\n",
    "options(jupyter.plot_scale = 1)"
   ]
  },
  {
   "cell_type": "code",
   "execution_count": 4,
   "metadata": {},
   "outputs": [],
   "source": [
    "# CARREGAR BIBLIOTECAS \n",
    "suppressPackageStartupMessages({\n",
    "library(data.table)\n",
    "library(dplyr)  \n",
    "library(readr)\n",
    "})"
   ]
  },
  {
   "cell_type": "markdown",
   "metadata": {},
   "source": [
    "#### DADOS DE TREINO\n",
    "Dataset com os dados para treino."
   ]
  },
  {
   "cell_type": "code",
   "execution_count": 5,
   "metadata": {},
   "outputs": [],
   "source": [
    "# CARREGAR DADOS DE TREINO DISPONIBILIZADOS NO KAGGLE\n",
    "train_csv <- fread(\"train.csv\", encoding = \"UTF-8\")"
   ]
  },
  {
   "cell_type": "code",
   "execution_count": 6,
   "metadata": {},
   "outputs": [],
   "source": [
    "# RENOMEAR OS ATRIBUTOS DO DATASET DE TREINO\n",
    "names(train_csv) <- c(\"semana\", \"deposito_id\", \"canal_venda\", \"rota_id\", \"cliente_id\", \"produto_id\", \"venda_unidade\", \n",
    "                         \"venda_peso\", \"retorno_unidade\", \"devolucao_peso\", \"demanda_ajustada\")"
   ]
  },
  {
   "cell_type": "markdown",
   "metadata": {},
   "source": [
    "#### COLETA DA AMOSTRA E FORMAÇÃO DA BASE DE DADOS "
   ]
  },
  {
   "cell_type": "markdown",
   "metadata": {},
   "source": [
    "Formação da base de dados a partir de amostras coletadas a partir da base de dados disponibilizada no Kaggle. Utilizou-se a função sample_n() para coletar amostras de 35.000 observações aleatórias de cada semana. No problema, existem 7 semanas. No total, a base formada para este experimento foi de 245.000 observações."
   ]
  },
  {
   "cell_type": "code",
   "execution_count": 7,
   "metadata": {},
   "outputs": [],
   "source": [
    "set.seed(1971)"
   ]
  },
  {
   "cell_type": "code",
   "execution_count": 8,
   "metadata": {},
   "outputs": [
    {
     "name": "stdout",
     "output_type": "stream",
     "text": [
      "Rows: 245,000\n",
      "Columns: 11\n",
      "$ semana           <int> 3, 3, 3, 3, 3, 3, 3, 3, 3, 3, 3, 3, 3, 3, 3, 3, 3, 3,~\n",
      "$ deposito_id      <int> 1311, 1618, 1347, 3221, 1126, 1595, 1232, 1631, 2014,~\n",
      "$ canal_venda      <int> 1, 1, 1, 1, 1, 4, 1, 1, 1, 1, 1, 1, 1, 1, 1, 1, 1, 1,~\n",
      "$ rota_id          <int> 1251, 1601, 2053, 1618, 1024, 6602, 1004, 1256, 1213,~\n",
      "$ cliente_id       <int> 150962, 4100032, 134877, 4588484, 1279340, 2388568, 7~\n",
      "$ produto_id       <int> 1146, 31719, 43147, 40217, 1150, 44371, 1160, 1309, 1~\n",
      "$ venda_unidade    <int> 1, 2, 3, 1, 2, 4, 8, 1, 3, 1, 1, 1, 14, 4, 11, 3, 2, ~\n",
      "$ venda_peso       <dbl> 21.39, 15.18, 13.62, 8.98, 27.92, 29.92, 150.88, 6.76~\n",
      "$ retorno_unidade  <int> 0, 1, 0, 0, 0, 0, 0, 0, 0, 0, 0, 0, 0, 0, 0, 0, 0, 0,~\n",
      "$ devolucao_peso   <dbl> 0.00, 7.59, 0.00, 0.00, 0.00, 0.00, 0.00, 0.00, 0.00,~\n",
      "$ demanda_ajustada <int> 1, 1, 3, 1, 2, 4, 8, 1, 3, 1, 1, 1, 14, 4, 11, 3, 2, ~\n"
     ]
    }
   ],
   "source": [
    "# COLETAR AMOSTRAS DAS SEMANAS\n",
    "amostras_semanas <- c(3:9)\n",
    "df_bimbo <- data.frame()\n",
    "for (a in amostras_semanas) {\n",
    "    df_a = filter(train_csv, semana == a)\n",
    "    df_a = sample_n(df_a, size = 35000)\n",
    "  \n",
    "    amostra = data.frame(df_a)\n",
    "    df_bimbo = rbind(df_bimbo, amostra)\n",
    "}\n",
    "glimpse(df_bimbo)"
   ]
  },
  {
   "cell_type": "code",
   "execution_count": 9,
   "metadata": {},
   "outputs": [
    {
     "data": {
      "text/html": [
       "FALSE"
      ],
      "text/latex": [
       "FALSE"
      ],
      "text/markdown": [
       "FALSE"
      ],
      "text/plain": [
       "[1] FALSE"
      ]
     },
     "metadata": {},
     "output_type": "display_data"
    }
   ],
   "source": [
    "# 1 - VERIFICAR SE O DATASET POSSUI VALORES NA\n",
    "any(is.na(df_bimbo))"
   ]
  },
  {
   "cell_type": "code",
   "execution_count": 10,
   "metadata": {},
   "outputs": [
    {
     "data": {
      "text/html": [
       "FALSE"
      ],
      "text/latex": [
       "FALSE"
      ],
      "text/markdown": [
       "FALSE"
      ],
      "text/plain": [
       "[1] FALSE"
      ]
     },
     "metadata": {},
     "output_type": "display_data"
    },
    {
     "data": {
      "text/html": [
       "FALSE"
      ],
      "text/latex": [
       "FALSE"
      ],
      "text/markdown": [
       "FALSE"
      ],
      "text/plain": [
       "[1] FALSE"
      ]
     },
     "metadata": {},
     "output_type": "display_data"
    }
   ],
   "source": [
    "# 2 - EXISTE VALOR MENOR QUE ZERO EM Retorno.Unidade e Demanda.Ajustada?\n",
    "any(df_bimbo$retorno_unidade < 0)\n",
    "any(df_bimbo$demanda_ajustada < 0)"
   ]
  },
  {
   "cell_type": "code",
   "execution_count": 11,
   "metadata": {},
   "outputs": [],
   "source": [
    "# 3 - SALVANDO ARQUIVO \n",
    "write_csv(df_bimbo,'df_bimbo.csv')"
   ]
  },
  {
   "cell_type": "markdown",
   "metadata": {},
   "source": [
    "####  DADOS PRODUTOS\n",
    "Dataset com os nomes do produtos."
   ]
  },
  {
   "cell_type": "code",
   "execution_count": 12,
   "metadata": {},
   "outputs": [
    {
     "name": "stdout",
     "output_type": "stream",
     "text": [
      "Rows: 2,592\n",
      "Columns: 2\n",
      "$ Producto_ID    <int> 0, 9, 41, 53, 72, 73, 98, 99, 100, 106, 107, 108, 109, ~\n",
      "$ NombreProducto <chr> \"NO IDENTIFICADO 0\", \"Capuccino Moka 750g NES 9\", \"Bimb~\n"
     ]
    }
   ],
   "source": [
    "# CARREGAR DATASET\n",
    "producto_tabla_csv <- fread(\"producto_tabla.csv\", encoding = \"UTF-8\")\n",
    "glimpse(producto_tabla_csv)"
   ]
  },
  {
   "cell_type": "code",
   "execution_count": 13,
   "metadata": {},
   "outputs": [],
   "source": [
    "# RENOMEAR COLUNAS DO DATSET\n",
    "names(producto_tabla_csv) <- c(\"produto_id\", \"nome_produto\")"
   ]
  },
  {
   "cell_type": "code",
   "execution_count": 14,
   "metadata": {},
   "outputs": [],
   "source": [
    "# FUNÇÃO PARA REMOVER ACENTOS E SUBSTITUIR MINÚSCULAS POR MAIÚSCULAS \n",
    "substitui_acentos_minusculas <- function(coluna){\n",
    "    string_com_acento_minusculas <- \"áàãâäÀÁÃÂÄéèêëÉÈÊËíìïÍÌÏóòõôöÓÒÕÔÖúùüÚÙÜñÑabcdefghijklmnopqrstuvwxyz,\"\n",
    "    string_sem_acento_maiusculas <- \"AAAAAAAAAAEEEEEEEEIIIIIIOOOOOOOOOOUUUUUUNNABCDEFGHIJKLMNOPQRSTUVWXYZ \"\n",
    "    string_final <- chartr(\n",
    "        old = string_com_acento_minusculas,\n",
    "        new = string_sem_acento_maiusculas,\n",
    "        x = coluna)\n",
    "}"
   ]
  },
  {
   "cell_type": "code",
   "execution_count": 15,
   "metadata": {},
   "outputs": [],
   "source": [
    "# REMOVER ACENTOS\n",
    "producto_tabla_csv[,2] <- substitui_acentos_minusculas(producto_tabla_csv$nome_produto)"
   ]
  },
  {
   "cell_type": "code",
   "execution_count": 16,
   "metadata": {},
   "outputs": [
    {
     "data": {
      "text/html": [
       "<table>\n",
       "<thead><tr><th scope=col>produto_id</th><th scope=col>nome_produto</th></tr></thead>\n",
       "<tbody>\n",
       "\t<tr><td> 0                                    </td><td>NO IDENTIFICADO 0                     </td></tr>\n",
       "\t<tr><td> 9                                    </td><td>CAPUCCINO MOKA 750G NES 9             </td></tr>\n",
       "\t<tr><td>41                                    </td><td>BIMBOLLOS EXT SAJONJOLI 6P 480G BIM 41</td></tr>\n",
       "\t<tr><td>53                                    </td><td>BURRITOS SINCRO 170G CU LON 53        </td></tr>\n",
       "\t<tr><td>72                                    </td><td>DIV TIRA MINI DORADITA 4P 45G TR 72   </td></tr>\n",
       "\t<tr><td>73                                    </td><td>PAN MULTIGRANO LINAZA 540G BIM 73     </td></tr>\n",
       "</tbody>\n",
       "</table>\n"
      ],
      "text/latex": [
       "\\begin{tabular}{r|ll}\n",
       " produto\\_id & nome\\_produto\\\\\n",
       "\\hline\n",
       "\t  0                                     & NO IDENTIFICADO 0                     \\\\\n",
       "\t  9                                     & CAPUCCINO MOKA 750G NES 9             \\\\\n",
       "\t 41                                     & BIMBOLLOS EXT SAJONJOLI 6P 480G BIM 41\\\\\n",
       "\t 53                                     & BURRITOS SINCRO 170G CU LON 53        \\\\\n",
       "\t 72                                     & DIV TIRA MINI DORADITA 4P 45G TR 72   \\\\\n",
       "\t 73                                     & PAN MULTIGRANO LINAZA 540G BIM 73     \\\\\n",
       "\\end{tabular}\n"
      ],
      "text/markdown": [
       "\n",
       "| produto_id | nome_produto |\n",
       "|---|---|\n",
       "|  0                                     | NO IDENTIFICADO 0                      |\n",
       "|  9                                     | CAPUCCINO MOKA 750G NES 9              |\n",
       "| 41                                     | BIMBOLLOS EXT SAJONJOLI 6P 480G BIM 41 |\n",
       "| 53                                     | BURRITOS SINCRO 170G CU LON 53         |\n",
       "| 72                                     | DIV TIRA MINI DORADITA 4P 45G TR 72    |\n",
       "| 73                                     | PAN MULTIGRANO LINAZA 540G BIM 73      |\n",
       "\n"
      ],
      "text/plain": [
       "  produto_id nome_produto                          \n",
       "1  0         NO IDENTIFICADO 0                     \n",
       "2  9         CAPUCCINO MOKA 750G NES 9             \n",
       "3 41         BIMBOLLOS EXT SAJONJOLI 6P 480G BIM 41\n",
       "4 53         BURRITOS SINCRO 170G CU LON 53        \n",
       "5 72         DIV TIRA MINI DORADITA 4P 45G TR 72   \n",
       "6 73         PAN MULTIGRANO LINAZA 540G BIM 73     "
      ]
     },
     "metadata": {},
     "output_type": "display_data"
    }
   ],
   "source": [
    "head(producto_tabla_csv)"
   ]
  },
  {
   "cell_type": "code",
   "execution_count": 17,
   "metadata": {},
   "outputs": [],
   "source": [
    "write_csv(producto_tabla_csv, \"df_produto.csv\")"
   ]
  },
  {
   "cell_type": "markdown",
   "metadata": {},
   "source": [
    "####  DADOS CLIENTES\n",
    "Dataset com os nomes dos clientes."
   ]
  },
  {
   "cell_type": "code",
   "execution_count": 18,
   "metadata": {},
   "outputs": [
    {
     "name": "stdout",
     "output_type": "stream",
     "text": [
      "Rows: 935,362\n",
      "Columns: 2\n",
      "$ Cliente_ID    <int> 0, 1, 2, 3, 4, 4, 5, 6, 7, 8, 9, 10, 11, 12, 13, 14, 15,~\n",
      "$ NombreCliente <chr> \"SIN NOMBRE\", \"OXXO XINANTECATL\", \"SIN NOMBRE\", \"EL MORE~\n"
     ]
    }
   ],
   "source": [
    "# CARREGANDO O DATASET\n",
    "cliente_tabla_csv <- fread(\"cliente_tabla.csv\", encoding = \"UTF-8\")\n",
    "glimpse(cliente_tabla_csv)"
   ]
  },
  {
   "cell_type": "code",
   "execution_count": 19,
   "metadata": {},
   "outputs": [],
   "source": [
    "# RENOMEANDO O DATSET\n",
    "names(cliente_tabla_csv) <- c(\"cliente_id\", \"nome_cliente\")"
   ]
  },
  {
   "cell_type": "code",
   "execution_count": 20,
   "metadata": {},
   "outputs": [],
   "source": [
    "# REMOVENDO ACENTOS\n",
    "cliente_tabla_csv[,2] <- substitui_acentos_minusculas(cliente_tabla_csv$nome_cliente)"
   ]
  },
  {
   "cell_type": "code",
   "execution_count": 21,
   "metadata": {},
   "outputs": [
    {
     "data": {
      "text/html": [
       "<table>\n",
       "<thead><tr><th scope=col>cliente_id</th><th scope=col>nome_cliente</th></tr></thead>\n",
       "<tbody>\n",
       "\t<tr><td>0                                      </td><td>SIN NOMBRE                             </td></tr>\n",
       "\t<tr><td>1                                      </td><td>OXXO XINANTECATL                       </td></tr>\n",
       "\t<tr><td>2                                      </td><td>SIN NOMBRE                             </td></tr>\n",
       "\t<tr><td>3                                      </td><td>EL MORENO                              </td></tr>\n",
       "\t<tr><td>4                                      </td><td>SDN SER  DE ALIM  CUERPO SA CIA  DE INT</td></tr>\n",
       "\t<tr><td>4                                      </td><td>SDN SER DE ALIM CUERPO SA CIA DE INT   </td></tr>\n",
       "</tbody>\n",
       "</table>\n"
      ],
      "text/latex": [
       "\\begin{tabular}{r|ll}\n",
       " cliente\\_id & nome\\_cliente\\\\\n",
       "\\hline\n",
       "\t 0                                       & SIN NOMBRE                             \\\\\n",
       "\t 1                                       & OXXO XINANTECATL                       \\\\\n",
       "\t 2                                       & SIN NOMBRE                             \\\\\n",
       "\t 3                                       & EL MORENO                              \\\\\n",
       "\t 4                                       & SDN SER  DE ALIM  CUERPO SA CIA  DE INT\\\\\n",
       "\t 4                                       & SDN SER DE ALIM CUERPO SA CIA DE INT   \\\\\n",
       "\\end{tabular}\n"
      ],
      "text/markdown": [
       "\n",
       "| cliente_id | nome_cliente |\n",
       "|---|---|\n",
       "| 0                                       | SIN NOMBRE                              |\n",
       "| 1                                       | OXXO XINANTECATL                        |\n",
       "| 2                                       | SIN NOMBRE                              |\n",
       "| 3                                       | EL MORENO                               |\n",
       "| 4                                       | SDN SER  DE ALIM  CUERPO SA CIA  DE INT |\n",
       "| 4                                       | SDN SER DE ALIM CUERPO SA CIA DE INT    |\n",
       "\n"
      ],
      "text/plain": [
       "  cliente_id nome_cliente                           \n",
       "1 0          SIN NOMBRE                             \n",
       "2 1          OXXO XINANTECATL                       \n",
       "3 2          SIN NOMBRE                             \n",
       "4 3          EL MORENO                              \n",
       "5 4          SDN SER  DE ALIM  CUERPO SA CIA  DE INT\n",
       "6 4          SDN SER DE ALIM CUERPO SA CIA DE INT   "
      ]
     },
     "metadata": {},
     "output_type": "display_data"
    }
   ],
   "source": [
    "head(cliente_tabla_csv)"
   ]
  },
  {
   "cell_type": "code",
   "execution_count": 22,
   "metadata": {},
   "outputs": [],
   "source": [
    "write_csv(cliente_tabla_csv, \"df_cliente.csv\")"
   ]
  },
  {
   "cell_type": "markdown",
   "metadata": {},
   "source": [
    "#### DADOS ESTADOS\n",
    "Dataset com os nomes das cidades e estados."
   ]
  },
  {
   "cell_type": "code",
   "execution_count": 23,
   "metadata": {},
   "outputs": [
    {
     "name": "stdout",
     "output_type": "stream",
     "text": [
      "Rows: 790\n",
      "Columns: 3\n",
      "$ Agencia_ID <int> 1110, 1111, 1112, 1113, 1114, 1116, 1117, 1118, 1119, 1120,~\n",
      "$ Town       <chr> \"2008 AG. LAGO FILT\", \"2002 AG. AZCAPOTZALCO\", \"2004 AG. CU~\n",
      "$ State      <chr> \"MÉXICO, D.F.\", \"MÉXICO, D.F.\", \"ESTADO DE MÉXICO\", \"MÉXICO~\n"
     ]
    }
   ],
   "source": [
    "# CARREGANDO O DATASET\n",
    "town_state_csv <- fread(\"town_state.csv\", encoding = \"UTF-8\")\n",
    "glimpse(town_state_csv)"
   ]
  },
  {
   "cell_type": "code",
   "execution_count": 24,
   "metadata": {},
   "outputs": [],
   "source": [
    "# RENOMEANDO O DATSET\n",
    "names(town_state_csv) <- c(\"deposito_id\", \"cidade\", \"estado\")"
   ]
  },
  {
   "cell_type": "code",
   "execution_count": 25,
   "metadata": {},
   "outputs": [],
   "source": [
    "# REMOVENDO ACENTOS E PADRÕES\n",
    "town_state_csv[,2] <- substitui_acentos_minusculas(town_state_csv$cidade)\n",
    "town_state_csv[,3] <- substitui_acentos_minusculas(town_state_csv$estado)"
   ]
  },
  {
   "cell_type": "code",
   "execution_count": 26,
   "metadata": {},
   "outputs": [
    {
     "data": {
      "text/html": [
       "<table>\n",
       "<thead><tr><th scope=col>deposito_id</th><th scope=col>cidade</th><th scope=col>estado</th></tr></thead>\n",
       "<tbody>\n",
       "\t<tr><td>1110                 </td><td>2008 AG. LAGO FILT   </td><td>MEXICO  D.F.         </td></tr>\n",
       "\t<tr><td>1111                 </td><td>2002 AG. AZCAPOTZALCO</td><td>MEXICO  D.F.         </td></tr>\n",
       "\t<tr><td>1112                 </td><td>2004 AG. CUAUTITLAN  </td><td>ESTADO DE MEXICO     </td></tr>\n",
       "\t<tr><td>1113                 </td><td>2008 AG. LAGO FILT   </td><td>MEXICO  D.F.         </td></tr>\n",
       "\t<tr><td>1114                 </td><td>2029 AG.IZTAPALAPA 2 </td><td>MEXICO  D.F.         </td></tr>\n",
       "\t<tr><td>1116                 </td><td>2011 AG. SAN ANTONIO </td><td>MEXICO  D.F.         </td></tr>\n",
       "</tbody>\n",
       "</table>\n"
      ],
      "text/latex": [
       "\\begin{tabular}{r|lll}\n",
       " deposito\\_id & cidade & estado\\\\\n",
       "\\hline\n",
       "\t 1110                  & 2008 AG. LAGO FILT    & MEXICO  D.F.         \\\\\n",
       "\t 1111                  & 2002 AG. AZCAPOTZALCO & MEXICO  D.F.         \\\\\n",
       "\t 1112                  & 2004 AG. CUAUTITLAN   & ESTADO DE MEXICO     \\\\\n",
       "\t 1113                  & 2008 AG. LAGO FILT    & MEXICO  D.F.         \\\\\n",
       "\t 1114                  & 2029 AG.IZTAPALAPA 2  & MEXICO  D.F.         \\\\\n",
       "\t 1116                  & 2011 AG. SAN ANTONIO  & MEXICO  D.F.         \\\\\n",
       "\\end{tabular}\n"
      ],
      "text/markdown": [
       "\n",
       "| deposito_id | cidade | estado |\n",
       "|---|---|---|\n",
       "| 1110                  | 2008 AG. LAGO FILT    | MEXICO  D.F.          |\n",
       "| 1111                  | 2002 AG. AZCAPOTZALCO | MEXICO  D.F.          |\n",
       "| 1112                  | 2004 AG. CUAUTITLAN   | ESTADO DE MEXICO      |\n",
       "| 1113                  | 2008 AG. LAGO FILT    | MEXICO  D.F.          |\n",
       "| 1114                  | 2029 AG.IZTAPALAPA 2  | MEXICO  D.F.          |\n",
       "| 1116                  | 2011 AG. SAN ANTONIO  | MEXICO  D.F.          |\n",
       "\n"
      ],
      "text/plain": [
       "  deposito_id cidade                estado          \n",
       "1 1110        2008 AG. LAGO FILT    MEXICO  D.F.    \n",
       "2 1111        2002 AG. AZCAPOTZALCO MEXICO  D.F.    \n",
       "3 1112        2004 AG. CUAUTITLAN   ESTADO DE MEXICO\n",
       "4 1113        2008 AG. LAGO FILT    MEXICO  D.F.    \n",
       "5 1114        2029 AG.IZTAPALAPA 2  MEXICO  D.F.    \n",
       "6 1116        2011 AG. SAN ANTONIO  MEXICO  D.F.    "
      ]
     },
     "metadata": {},
     "output_type": "display_data"
    }
   ],
   "source": [
    "head(town_state_csv)"
   ]
  },
  {
   "cell_type": "code",
   "execution_count": 27,
   "metadata": {},
   "outputs": [
    {
     "name": "stdout",
     "output_type": "stream",
     "text": [
      "Rows: 790\n",
      "Columns: 3\n",
      "$ deposito_id <int> 1110, 1111, 1112, 1113, 1114, 1116, 1117, 1118, 1119, 1120~\n",
      "$ cidade      <chr> \"2008 AG. LAGO FILT\", \"2002 AG. AZCAPOTZALCO\", \"2004 AG. C~\n",
      "$ estado      <chr> \"MEXICO  D.F.\", \"MEXICO  D.F.\", \"ESTADO DE MEXICO\", \"MEXIC~\n"
     ]
    }
   ],
   "source": [
    "glimpse(town_state_csv)"
   ]
  },
  {
   "cell_type": "code",
   "execution_count": 28,
   "metadata": {},
   "outputs": [],
   "source": [
    "write_csv(town_state_csv, \"df_estado.csv\")"
   ]
  },
  {
   "cell_type": "markdown",
   "metadata": {},
   "source": [
    "Nas etapas acima foram realizadas:\n",
    "\n",
    "- Carregamento do dataset original train.csv do Kaggle;\n",
    "- Coleta de amostras de dados de cada semana. Foram coletados 35.000 observações de cada semana a partir do dataset train.csv;\n",
    "- Tratamento dos dados nos datasets de produto (producto_tabla.csv), clientes (cliente_tabla.csv) e estados (town_state.csv);\n",
    "- Por fim, a formação do dataset (df_bimbo.csv) utilizado no experimento."
   ]
  }
 ],
 "metadata": {
  "kernelspec": {
   "display_name": "R",
   "language": "R",
   "name": "ir"
  },
  "language_info": {
   "codemirror_mode": "r",
   "file_extension": ".r",
   "mimetype": "text/x-r-source",
   "name": "R",
   "pygments_lexer": "r",
   "version": "3.6.1"
  }
 },
 "nbformat": 4,
 "nbformat_minor": 4
}
